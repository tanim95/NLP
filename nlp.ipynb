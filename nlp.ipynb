{
  "cells": [
    {
      "cell_type": "code",
      "execution_count": 1,
      "metadata": {
        "id": "eEGdOnrb8F3e"
      },
      "outputs": [],
      "source": [
        "import numpy as np\n",
        "import matplotlib.pyplot as plt\n",
        "import spacy\n",
        "from spacy import displacy\n",
        "import nltk\n",
        "import pandas as pd"
      ]
    },
    {
      "cell_type": "code",
      "execution_count": 2,
      "metadata": {
        "id": "ZXbvc0l0BzhL"
      },
      "outputs": [],
      "source": [
        "nlp = spacy.load('en_core_web_sm')"
      ]
    },
    {
      "cell_type": "code",
      "execution_count": 3,
      "metadata": {
        "colab": {
          "base_uri": "https://localhost:8080/"
        },
        "id": "ZlU19QNVC6er",
        "outputId": "3ba24c4b-6eaf-44ef-cfe6-2db30f4b9e9b"
      },
      "outputs": [
        {
          "output_type": "execute_result",
          "data": {
            "text/plain": [
              "['tok2vec', 'tagger', 'parser', 'attribute_ruler', 'lemmatizer', 'ner']"
            ]
          },
          "metadata": {},
          "execution_count": 3
        }
      ],
      "source": [
        "# nlp.pipeline,\n",
        "nlp.pipe_names"
      ]
    },
    {
      "cell_type": "code",
      "execution_count": 4,
      "metadata": {
        "id": "IVo0JNtFCIBX"
      },
      "outputs": [],
      "source": [
        "doc = nlp(u'it is a $10 doller gift card from Google.you can get it from \"www.fgm.com\" website! like seriously!!!')"
      ]
    },
    {
      "cell_type": "code",
      "execution_count": 5,
      "metadata": {
        "colab": {
          "base_uri": "https://localhost:8080/"
        },
        "id": "K8vRZY3UCy-W",
        "outputId": "4ab1b508-0e16-442f-db46-66806e4afdca"
      },
      "outputs": [
        {
          "output_type": "stream",
          "name": "stdout",
          "text": [
            "it PRON it\n",
            "is AUX be\n",
            "a DET a\n",
            "$ SYM $\n",
            "10 NUM 10\n",
            "doller NOUN doller\n",
            "gift NOUN gift\n",
            "card NOUN card\n",
            "from ADP from\n",
            "Google.you PROPN Google.you\n",
            "can AUX can\n",
            "get VERB get\n",
            "it PRON it\n",
            "from ADP from\n",
            "\" PUNCT \"\n",
            "www.fgm.com PROPN www.fgm.com\n",
            "\" PUNCT \"\n",
            "website NOUN website\n",
            "! PUNCT !\n",
            "like VERB like\n",
            "seriously ADV seriously\n",
            "! PUNCT !\n",
            "! PUNCT !\n",
            "! PUNCT !\n"
          ]
        }
      ],
      "source": [
        "for t in doc:\n",
        "  print(t,t.pos_,t.lemma_)"
      ]
    },
    {
      "cell_type": "code",
      "execution_count": 6,
      "metadata": {
        "colab": {
          "base_uri": "https://localhost:8080/",
          "height": 418
        },
        "id": "20AekGf6jcqz",
        "outputId": "6180f7bb-60ee-41e7-a063-db0f6df33fee"
      },
      "outputs": [
        {
          "output_type": "display_data",
          "data": {
            "text/plain": [
              "<IPython.core.display.HTML object>"
            ],
            "text/html": [
              "<span class=\"tex2jax_ignore\"><svg xmlns=\"http://www.w3.org/2000/svg\" xmlns:xlink=\"http://www.w3.org/1999/xlink\" xml:lang=\"en\" id=\"f275592e3e82452089ed47c5d084efcc-0\" class=\"displacy\" width=\"1490\" height=\"377.0\" direction=\"ltr\" style=\"max-width: none; height: 377.0px; color: #000000; background: #ffffff; font-family: Arial; direction: ltr\">\n",
              "<text class=\"displacy-token\" fill=\"currentColor\" text-anchor=\"middle\" y=\"287.0\">\n",
              "    <tspan class=\"displacy-word\" fill=\"currentColor\" x=\"50\">it</tspan>\n",
              "    <tspan class=\"displacy-tag\" dy=\"2em\" fill=\"currentColor\" x=\"50\">PRON</tspan>\n",
              "</text>\n",
              "\n",
              "<text class=\"displacy-token\" fill=\"currentColor\" text-anchor=\"middle\" y=\"287.0\">\n",
              "    <tspan class=\"displacy-word\" fill=\"currentColor\" x=\"130\">is</tspan>\n",
              "    <tspan class=\"displacy-tag\" dy=\"2em\" fill=\"currentColor\" x=\"130\">AUX</tspan>\n",
              "</text>\n",
              "\n",
              "<text class=\"displacy-token\" fill=\"currentColor\" text-anchor=\"middle\" y=\"287.0\">\n",
              "    <tspan class=\"displacy-word\" fill=\"currentColor\" x=\"210\">a</tspan>\n",
              "    <tspan class=\"displacy-tag\" dy=\"2em\" fill=\"currentColor\" x=\"210\">DET</tspan>\n",
              "</text>\n",
              "\n",
              "<text class=\"displacy-token\" fill=\"currentColor\" text-anchor=\"middle\" y=\"287.0\">\n",
              "    <tspan class=\"displacy-word\" fill=\"currentColor\" x=\"290\">$</tspan>\n",
              "    <tspan class=\"displacy-tag\" dy=\"2em\" fill=\"currentColor\" x=\"290\">SYM</tspan>\n",
              "</text>\n",
              "\n",
              "<text class=\"displacy-token\" fill=\"currentColor\" text-anchor=\"middle\" y=\"287.0\">\n",
              "    <tspan class=\"displacy-word\" fill=\"currentColor\" x=\"370\">10</tspan>\n",
              "    <tspan class=\"displacy-tag\" dy=\"2em\" fill=\"currentColor\" x=\"370\">NUM</tspan>\n",
              "</text>\n",
              "\n",
              "<text class=\"displacy-token\" fill=\"currentColor\" text-anchor=\"middle\" y=\"287.0\">\n",
              "    <tspan class=\"displacy-word\" fill=\"currentColor\" x=\"450\">doller</tspan>\n",
              "    <tspan class=\"displacy-tag\" dy=\"2em\" fill=\"currentColor\" x=\"450\">NOUN</tspan>\n",
              "</text>\n",
              "\n",
              "<text class=\"displacy-token\" fill=\"currentColor\" text-anchor=\"middle\" y=\"287.0\">\n",
              "    <tspan class=\"displacy-word\" fill=\"currentColor\" x=\"530\">gift</tspan>\n",
              "    <tspan class=\"displacy-tag\" dy=\"2em\" fill=\"currentColor\" x=\"530\">NOUN</tspan>\n",
              "</text>\n",
              "\n",
              "<text class=\"displacy-token\" fill=\"currentColor\" text-anchor=\"middle\" y=\"287.0\">\n",
              "    <tspan class=\"displacy-word\" fill=\"currentColor\" x=\"610\">card</tspan>\n",
              "    <tspan class=\"displacy-tag\" dy=\"2em\" fill=\"currentColor\" x=\"610\">NOUN</tspan>\n",
              "</text>\n",
              "\n",
              "<text class=\"displacy-token\" fill=\"currentColor\" text-anchor=\"middle\" y=\"287.0\">\n",
              "    <tspan class=\"displacy-word\" fill=\"currentColor\" x=\"690\">from</tspan>\n",
              "    <tspan class=\"displacy-tag\" dy=\"2em\" fill=\"currentColor\" x=\"690\">ADP</tspan>\n",
              "</text>\n",
              "\n",
              "<text class=\"displacy-token\" fill=\"currentColor\" text-anchor=\"middle\" y=\"287.0\">\n",
              "    <tspan class=\"displacy-word\" fill=\"currentColor\" x=\"770\">Google.you</tspan>\n",
              "    <tspan class=\"displacy-tag\" dy=\"2em\" fill=\"currentColor\" x=\"770\">PROPN</tspan>\n",
              "</text>\n",
              "\n",
              "<text class=\"displacy-token\" fill=\"currentColor\" text-anchor=\"middle\" y=\"287.0\">\n",
              "    <tspan class=\"displacy-word\" fill=\"currentColor\" x=\"850\">can</tspan>\n",
              "    <tspan class=\"displacy-tag\" dy=\"2em\" fill=\"currentColor\" x=\"850\">AUX</tspan>\n",
              "</text>\n",
              "\n",
              "<text class=\"displacy-token\" fill=\"currentColor\" text-anchor=\"middle\" y=\"287.0\">\n",
              "    <tspan class=\"displacy-word\" fill=\"currentColor\" x=\"930\">get</tspan>\n",
              "    <tspan class=\"displacy-tag\" dy=\"2em\" fill=\"currentColor\" x=\"930\">VERB</tspan>\n",
              "</text>\n",
              "\n",
              "<text class=\"displacy-token\" fill=\"currentColor\" text-anchor=\"middle\" y=\"287.0\">\n",
              "    <tspan class=\"displacy-word\" fill=\"currentColor\" x=\"1010\">it</tspan>\n",
              "    <tspan class=\"displacy-tag\" dy=\"2em\" fill=\"currentColor\" x=\"1010\">PRON</tspan>\n",
              "</text>\n",
              "\n",
              "<text class=\"displacy-token\" fill=\"currentColor\" text-anchor=\"middle\" y=\"287.0\">\n",
              "    <tspan class=\"displacy-word\" fill=\"currentColor\" x=\"1090\">from &quot;</tspan>\n",
              "    <tspan class=\"displacy-tag\" dy=\"2em\" fill=\"currentColor\" x=\"1090\">ADP</tspan>\n",
              "</text>\n",
              "\n",
              "<text class=\"displacy-token\" fill=\"currentColor\" text-anchor=\"middle\" y=\"287.0\">\n",
              "    <tspan class=\"displacy-word\" fill=\"currentColor\" x=\"1170\">www.fgm.com&quot;</tspan>\n",
              "    <tspan class=\"displacy-tag\" dy=\"2em\" fill=\"currentColor\" x=\"1170\">PROPN</tspan>\n",
              "</text>\n",
              "\n",
              "<text class=\"displacy-token\" fill=\"currentColor\" text-anchor=\"middle\" y=\"287.0\">\n",
              "    <tspan class=\"displacy-word\" fill=\"currentColor\" x=\"1250\">website!</tspan>\n",
              "    <tspan class=\"displacy-tag\" dy=\"2em\" fill=\"currentColor\" x=\"1250\">NOUN</tspan>\n",
              "</text>\n",
              "\n",
              "<text class=\"displacy-token\" fill=\"currentColor\" text-anchor=\"middle\" y=\"287.0\">\n",
              "    <tspan class=\"displacy-word\" fill=\"currentColor\" x=\"1330\">like</tspan>\n",
              "    <tspan class=\"displacy-tag\" dy=\"2em\" fill=\"currentColor\" x=\"1330\">VERB</tspan>\n",
              "</text>\n",
              "\n",
              "<text class=\"displacy-token\" fill=\"currentColor\" text-anchor=\"middle\" y=\"287.0\">\n",
              "    <tspan class=\"displacy-word\" fill=\"currentColor\" x=\"1410\">seriously!!!</tspan>\n",
              "    <tspan class=\"displacy-tag\" dy=\"2em\" fill=\"currentColor\" x=\"1410\">ADV</tspan>\n",
              "</text>\n",
              "\n",
              "<g class=\"displacy-arrow\">\n",
              "    <path class=\"displacy-arc\" id=\"arrow-f275592e3e82452089ed47c5d084efcc-0-0\" stroke-width=\"2px\" d=\"M70,242.0 C70,202.0 105.0,202.0 105.0,242.0\" fill=\"none\" stroke=\"currentColor\"/>\n",
              "    <text dy=\"1.25em\" style=\"font-size: 0.8em; letter-spacing: 1px\">\n",
              "        <textPath xlink:href=\"#arrow-f275592e3e82452089ed47c5d084efcc-0-0\" class=\"displacy-label\" startOffset=\"50%\" side=\"left\" fill=\"currentColor\" text-anchor=\"middle\">nsubj</textPath>\n",
              "    </text>\n",
              "    <path class=\"displacy-arrowhead\" d=\"M70,244.0 L62,232.0 78,232.0\" fill=\"currentColor\"/>\n",
              "</g>\n",
              "\n",
              "<g class=\"displacy-arrow\">\n",
              "    <path class=\"displacy-arc\" id=\"arrow-f275592e3e82452089ed47c5d084efcc-0-1\" stroke-width=\"2px\" d=\"M230,242.0 C230,82.0 600.0,82.0 600.0,242.0\" fill=\"none\" stroke=\"currentColor\"/>\n",
              "    <text dy=\"1.25em\" style=\"font-size: 0.8em; letter-spacing: 1px\">\n",
              "        <textPath xlink:href=\"#arrow-f275592e3e82452089ed47c5d084efcc-0-1\" class=\"displacy-label\" startOffset=\"50%\" side=\"left\" fill=\"currentColor\" text-anchor=\"middle\">det</textPath>\n",
              "    </text>\n",
              "    <path class=\"displacy-arrowhead\" d=\"M230,244.0 L222,232.0 238,232.0\" fill=\"currentColor\"/>\n",
              "</g>\n",
              "\n",
              "<g class=\"displacy-arrow\">\n",
              "    <path class=\"displacy-arc\" id=\"arrow-f275592e3e82452089ed47c5d084efcc-0-2\" stroke-width=\"2px\" d=\"M310,242.0 C310,202.0 345.0,202.0 345.0,242.0\" fill=\"none\" stroke=\"currentColor\"/>\n",
              "    <text dy=\"1.25em\" style=\"font-size: 0.8em; letter-spacing: 1px\">\n",
              "        <textPath xlink:href=\"#arrow-f275592e3e82452089ed47c5d084efcc-0-2\" class=\"displacy-label\" startOffset=\"50%\" side=\"left\" fill=\"currentColor\" text-anchor=\"middle\">nmod</textPath>\n",
              "    </text>\n",
              "    <path class=\"displacy-arrowhead\" d=\"M310,244.0 L302,232.0 318,232.0\" fill=\"currentColor\"/>\n",
              "</g>\n",
              "\n",
              "<g class=\"displacy-arrow\">\n",
              "    <path class=\"displacy-arc\" id=\"arrow-f275592e3e82452089ed47c5d084efcc-0-3\" stroke-width=\"2px\" d=\"M390,242.0 C390,122.0 595.0,122.0 595.0,242.0\" fill=\"none\" stroke=\"currentColor\"/>\n",
              "    <text dy=\"1.25em\" style=\"font-size: 0.8em; letter-spacing: 1px\">\n",
              "        <textPath xlink:href=\"#arrow-f275592e3e82452089ed47c5d084efcc-0-3\" class=\"displacy-label\" startOffset=\"50%\" side=\"left\" fill=\"currentColor\" text-anchor=\"middle\">nummod</textPath>\n",
              "    </text>\n",
              "    <path class=\"displacy-arrowhead\" d=\"M390,244.0 L382,232.0 398,232.0\" fill=\"currentColor\"/>\n",
              "</g>\n",
              "\n",
              "<g class=\"displacy-arrow\">\n",
              "    <path class=\"displacy-arc\" id=\"arrow-f275592e3e82452089ed47c5d084efcc-0-4\" stroke-width=\"2px\" d=\"M470,242.0 C470,162.0 590.0,162.0 590.0,242.0\" fill=\"none\" stroke=\"currentColor\"/>\n",
              "    <text dy=\"1.25em\" style=\"font-size: 0.8em; letter-spacing: 1px\">\n",
              "        <textPath xlink:href=\"#arrow-f275592e3e82452089ed47c5d084efcc-0-4\" class=\"displacy-label\" startOffset=\"50%\" side=\"left\" fill=\"currentColor\" text-anchor=\"middle\">compound</textPath>\n",
              "    </text>\n",
              "    <path class=\"displacy-arrowhead\" d=\"M470,244.0 L462,232.0 478,232.0\" fill=\"currentColor\"/>\n",
              "</g>\n",
              "\n",
              "<g class=\"displacy-arrow\">\n",
              "    <path class=\"displacy-arc\" id=\"arrow-f275592e3e82452089ed47c5d084efcc-0-5\" stroke-width=\"2px\" d=\"M550,242.0 C550,202.0 585.0,202.0 585.0,242.0\" fill=\"none\" stroke=\"currentColor\"/>\n",
              "    <text dy=\"1.25em\" style=\"font-size: 0.8em; letter-spacing: 1px\">\n",
              "        <textPath xlink:href=\"#arrow-f275592e3e82452089ed47c5d084efcc-0-5\" class=\"displacy-label\" startOffset=\"50%\" side=\"left\" fill=\"currentColor\" text-anchor=\"middle\">compound</textPath>\n",
              "    </text>\n",
              "    <path class=\"displacy-arrowhead\" d=\"M550,244.0 L542,232.0 558,232.0\" fill=\"currentColor\"/>\n",
              "</g>\n",
              "\n",
              "<g class=\"displacy-arrow\">\n",
              "    <path class=\"displacy-arc\" id=\"arrow-f275592e3e82452089ed47c5d084efcc-0-6\" stroke-width=\"2px\" d=\"M150,242.0 C150,42.0 605.0,42.0 605.0,242.0\" fill=\"none\" stroke=\"currentColor\"/>\n",
              "    <text dy=\"1.25em\" style=\"font-size: 0.8em; letter-spacing: 1px\">\n",
              "        <textPath xlink:href=\"#arrow-f275592e3e82452089ed47c5d084efcc-0-6\" class=\"displacy-label\" startOffset=\"50%\" side=\"left\" fill=\"currentColor\" text-anchor=\"middle\">attr</textPath>\n",
              "    </text>\n",
              "    <path class=\"displacy-arrowhead\" d=\"M605.0,244.0 L613.0,232.0 597.0,232.0\" fill=\"currentColor\"/>\n",
              "</g>\n",
              "\n",
              "<g class=\"displacy-arrow\">\n",
              "    <path class=\"displacy-arc\" id=\"arrow-f275592e3e82452089ed47c5d084efcc-0-7\" stroke-width=\"2px\" d=\"M630,242.0 C630,202.0 665.0,202.0 665.0,242.0\" fill=\"none\" stroke=\"currentColor\"/>\n",
              "    <text dy=\"1.25em\" style=\"font-size: 0.8em; letter-spacing: 1px\">\n",
              "        <textPath xlink:href=\"#arrow-f275592e3e82452089ed47c5d084efcc-0-7\" class=\"displacy-label\" startOffset=\"50%\" side=\"left\" fill=\"currentColor\" text-anchor=\"middle\">prep</textPath>\n",
              "    </text>\n",
              "    <path class=\"displacy-arrowhead\" d=\"M665.0,244.0 L673.0,232.0 657.0,232.0\" fill=\"currentColor\"/>\n",
              "</g>\n",
              "\n",
              "<g class=\"displacy-arrow\">\n",
              "    <path class=\"displacy-arc\" id=\"arrow-f275592e3e82452089ed47c5d084efcc-0-8\" stroke-width=\"2px\" d=\"M710,242.0 C710,202.0 745.0,202.0 745.0,242.0\" fill=\"none\" stroke=\"currentColor\"/>\n",
              "    <text dy=\"1.25em\" style=\"font-size: 0.8em; letter-spacing: 1px\">\n",
              "        <textPath xlink:href=\"#arrow-f275592e3e82452089ed47c5d084efcc-0-8\" class=\"displacy-label\" startOffset=\"50%\" side=\"left\" fill=\"currentColor\" text-anchor=\"middle\">pobj</textPath>\n",
              "    </text>\n",
              "    <path class=\"displacy-arrowhead\" d=\"M745.0,244.0 L753.0,232.0 737.0,232.0\" fill=\"currentColor\"/>\n",
              "</g>\n",
              "\n",
              "<g class=\"displacy-arrow\">\n",
              "    <path class=\"displacy-arc\" id=\"arrow-f275592e3e82452089ed47c5d084efcc-0-9\" stroke-width=\"2px\" d=\"M870,242.0 C870,202.0 905.0,202.0 905.0,242.0\" fill=\"none\" stroke=\"currentColor\"/>\n",
              "    <text dy=\"1.25em\" style=\"font-size: 0.8em; letter-spacing: 1px\">\n",
              "        <textPath xlink:href=\"#arrow-f275592e3e82452089ed47c5d084efcc-0-9\" class=\"displacy-label\" startOffset=\"50%\" side=\"left\" fill=\"currentColor\" text-anchor=\"middle\">aux</textPath>\n",
              "    </text>\n",
              "    <path class=\"displacy-arrowhead\" d=\"M870,244.0 L862,232.0 878,232.0\" fill=\"currentColor\"/>\n",
              "</g>\n",
              "\n",
              "<g class=\"displacy-arrow\">\n",
              "    <path class=\"displacy-arc\" id=\"arrow-f275592e3e82452089ed47c5d084efcc-0-10\" stroke-width=\"2px\" d=\"M150,242.0 C150,2.0 930.0,2.0 930.0,242.0\" fill=\"none\" stroke=\"currentColor\"/>\n",
              "    <text dy=\"1.25em\" style=\"font-size: 0.8em; letter-spacing: 1px\">\n",
              "        <textPath xlink:href=\"#arrow-f275592e3e82452089ed47c5d084efcc-0-10\" class=\"displacy-label\" startOffset=\"50%\" side=\"left\" fill=\"currentColor\" text-anchor=\"middle\">ccomp</textPath>\n",
              "    </text>\n",
              "    <path class=\"displacy-arrowhead\" d=\"M930.0,244.0 L938.0,232.0 922.0,232.0\" fill=\"currentColor\"/>\n",
              "</g>\n",
              "\n",
              "<g class=\"displacy-arrow\">\n",
              "    <path class=\"displacy-arc\" id=\"arrow-f275592e3e82452089ed47c5d084efcc-0-11\" stroke-width=\"2px\" d=\"M950,242.0 C950,202.0 985.0,202.0 985.0,242.0\" fill=\"none\" stroke=\"currentColor\"/>\n",
              "    <text dy=\"1.25em\" style=\"font-size: 0.8em; letter-spacing: 1px\">\n",
              "        <textPath xlink:href=\"#arrow-f275592e3e82452089ed47c5d084efcc-0-11\" class=\"displacy-label\" startOffset=\"50%\" side=\"left\" fill=\"currentColor\" text-anchor=\"middle\">dobj</textPath>\n",
              "    </text>\n",
              "    <path class=\"displacy-arrowhead\" d=\"M985.0,244.0 L993.0,232.0 977.0,232.0\" fill=\"currentColor\"/>\n",
              "</g>\n",
              "\n",
              "<g class=\"displacy-arrow\">\n",
              "    <path class=\"displacy-arc\" id=\"arrow-f275592e3e82452089ed47c5d084efcc-0-12\" stroke-width=\"2px\" d=\"M950,242.0 C950,162.0 1070.0,162.0 1070.0,242.0\" fill=\"none\" stroke=\"currentColor\"/>\n",
              "    <text dy=\"1.25em\" style=\"font-size: 0.8em; letter-spacing: 1px\">\n",
              "        <textPath xlink:href=\"#arrow-f275592e3e82452089ed47c5d084efcc-0-12\" class=\"displacy-label\" startOffset=\"50%\" side=\"left\" fill=\"currentColor\" text-anchor=\"middle\">prep</textPath>\n",
              "    </text>\n",
              "    <path class=\"displacy-arrowhead\" d=\"M1070.0,244.0 L1078.0,232.0 1062.0,232.0\" fill=\"currentColor\"/>\n",
              "</g>\n",
              "\n",
              "<g class=\"displacy-arrow\">\n",
              "    <path class=\"displacy-arc\" id=\"arrow-f275592e3e82452089ed47c5d084efcc-0-13\" stroke-width=\"2px\" d=\"M1190,242.0 C1190,202.0 1225.0,202.0 1225.0,242.0\" fill=\"none\" stroke=\"currentColor\"/>\n",
              "    <text dy=\"1.25em\" style=\"font-size: 0.8em; letter-spacing: 1px\">\n",
              "        <textPath xlink:href=\"#arrow-f275592e3e82452089ed47c5d084efcc-0-13\" class=\"displacy-label\" startOffset=\"50%\" side=\"left\" fill=\"currentColor\" text-anchor=\"middle\">nmod</textPath>\n",
              "    </text>\n",
              "    <path class=\"displacy-arrowhead\" d=\"M1190,244.0 L1182,232.0 1198,232.0\" fill=\"currentColor\"/>\n",
              "</g>\n",
              "\n",
              "<g class=\"displacy-arrow\">\n",
              "    <path class=\"displacy-arc\" id=\"arrow-f275592e3e82452089ed47c5d084efcc-0-14\" stroke-width=\"2px\" d=\"M1110,242.0 C1110,162.0 1230.0,162.0 1230.0,242.0\" fill=\"none\" stroke=\"currentColor\"/>\n",
              "    <text dy=\"1.25em\" style=\"font-size: 0.8em; letter-spacing: 1px\">\n",
              "        <textPath xlink:href=\"#arrow-f275592e3e82452089ed47c5d084efcc-0-14\" class=\"displacy-label\" startOffset=\"50%\" side=\"left\" fill=\"currentColor\" text-anchor=\"middle\">pobj</textPath>\n",
              "    </text>\n",
              "    <path class=\"displacy-arrowhead\" d=\"M1230.0,244.0 L1238.0,232.0 1222.0,232.0\" fill=\"currentColor\"/>\n",
              "</g>\n",
              "\n",
              "<g class=\"displacy-arrow\">\n",
              "    <path class=\"displacy-arc\" id=\"arrow-f275592e3e82452089ed47c5d084efcc-0-15\" stroke-width=\"2px\" d=\"M1350,242.0 C1350,202.0 1385.0,202.0 1385.0,242.0\" fill=\"none\" stroke=\"currentColor\"/>\n",
              "    <text dy=\"1.25em\" style=\"font-size: 0.8em; letter-spacing: 1px\">\n",
              "        <textPath xlink:href=\"#arrow-f275592e3e82452089ed47c5d084efcc-0-15\" class=\"displacy-label\" startOffset=\"50%\" side=\"left\" fill=\"currentColor\" text-anchor=\"middle\">advmod</textPath>\n",
              "    </text>\n",
              "    <path class=\"displacy-arrowhead\" d=\"M1385.0,244.0 L1393.0,232.0 1377.0,232.0\" fill=\"currentColor\"/>\n",
              "</g>\n",
              "</svg></span>"
            ]
          },
          "metadata": {}
        }
      ],
      "source": [
        "displacy.render(doc,style = 'dep',jupyter = True,options={'distance':80})"
      ]
    },
    {
      "cell_type": "markdown",
      "metadata": {
        "id": "IX1X8QP1lBLm"
      },
      "source": [
        "### Stemming"
      ]
    },
    {
      "cell_type": "code",
      "execution_count": 7,
      "metadata": {
        "colab": {
          "base_uri": "https://localhost:8080/",
          "height": 424
        },
        "id": "yZGP2xWMlDXa",
        "outputId": "8dc18e7b-317b-4e43-e5ea-458932135eee"
      },
      "outputs": [
        {
          "output_type": "execute_result",
          "data": {
            "text/plain": [
              "           0\n",
              "0       same\n",
              "1       next\n",
              "2    another\n",
              "3       most\n",
              "4      forty\n",
              "..       ...\n",
              "321       no\n",
              "322      you\n",
              "323      see\n",
              "324       up\n",
              "325     from\n",
              "\n",
              "[326 rows x 1 columns]"
            ],
            "text/html": [
              "\n",
              "  <div id=\"df-dd18711b-c0c8-4563-8d63-a43aacef6d67\" class=\"colab-df-container\">\n",
              "    <div>\n",
              "<style scoped>\n",
              "    .dataframe tbody tr th:only-of-type {\n",
              "        vertical-align: middle;\n",
              "    }\n",
              "\n",
              "    .dataframe tbody tr th {\n",
              "        vertical-align: top;\n",
              "    }\n",
              "\n",
              "    .dataframe thead th {\n",
              "        text-align: right;\n",
              "    }\n",
              "</style>\n",
              "<table border=\"1\" class=\"dataframe\">\n",
              "  <thead>\n",
              "    <tr style=\"text-align: right;\">\n",
              "      <th></th>\n",
              "      <th>0</th>\n",
              "    </tr>\n",
              "  </thead>\n",
              "  <tbody>\n",
              "    <tr>\n",
              "      <th>0</th>\n",
              "      <td>same</td>\n",
              "    </tr>\n",
              "    <tr>\n",
              "      <th>1</th>\n",
              "      <td>next</td>\n",
              "    </tr>\n",
              "    <tr>\n",
              "      <th>2</th>\n",
              "      <td>another</td>\n",
              "    </tr>\n",
              "    <tr>\n",
              "      <th>3</th>\n",
              "      <td>most</td>\n",
              "    </tr>\n",
              "    <tr>\n",
              "      <th>4</th>\n",
              "      <td>forty</td>\n",
              "    </tr>\n",
              "    <tr>\n",
              "      <th>...</th>\n",
              "      <td>...</td>\n",
              "    </tr>\n",
              "    <tr>\n",
              "      <th>321</th>\n",
              "      <td>no</td>\n",
              "    </tr>\n",
              "    <tr>\n",
              "      <th>322</th>\n",
              "      <td>you</td>\n",
              "    </tr>\n",
              "    <tr>\n",
              "      <th>323</th>\n",
              "      <td>see</td>\n",
              "    </tr>\n",
              "    <tr>\n",
              "      <th>324</th>\n",
              "      <td>up</td>\n",
              "    </tr>\n",
              "    <tr>\n",
              "      <th>325</th>\n",
              "      <td>from</td>\n",
              "    </tr>\n",
              "  </tbody>\n",
              "</table>\n",
              "<p>326 rows × 1 columns</p>\n",
              "</div>\n",
              "    <div class=\"colab-df-buttons\">\n",
              "\n",
              "  <div class=\"colab-df-container\">\n",
              "    <button class=\"colab-df-convert\" onclick=\"convertToInteractive('df-dd18711b-c0c8-4563-8d63-a43aacef6d67')\"\n",
              "            title=\"Convert this dataframe to an interactive table.\"\n",
              "            style=\"display:none;\">\n",
              "\n",
              "  <svg xmlns=\"http://www.w3.org/2000/svg\" height=\"24px\" viewBox=\"0 -960 960 960\">\n",
              "    <path d=\"M120-120v-720h720v720H120Zm60-500h600v-160H180v160Zm220 220h160v-160H400v160Zm0 220h160v-160H400v160ZM180-400h160v-160H180v160Zm440 0h160v-160H620v160ZM180-180h160v-160H180v160Zm440 0h160v-160H620v160Z\"/>\n",
              "  </svg>\n",
              "    </button>\n",
              "\n",
              "  <style>\n",
              "    .colab-df-container {\n",
              "      display:flex;\n",
              "      gap: 12px;\n",
              "    }\n",
              "\n",
              "    .colab-df-convert {\n",
              "      background-color: #E8F0FE;\n",
              "      border: none;\n",
              "      border-radius: 50%;\n",
              "      cursor: pointer;\n",
              "      display: none;\n",
              "      fill: #1967D2;\n",
              "      height: 32px;\n",
              "      padding: 0 0 0 0;\n",
              "      width: 32px;\n",
              "    }\n",
              "\n",
              "    .colab-df-convert:hover {\n",
              "      background-color: #E2EBFA;\n",
              "      box-shadow: 0px 1px 2px rgba(60, 64, 67, 0.3), 0px 1px 3px 1px rgba(60, 64, 67, 0.15);\n",
              "      fill: #174EA6;\n",
              "    }\n",
              "\n",
              "    .colab-df-buttons div {\n",
              "      margin-bottom: 4px;\n",
              "    }\n",
              "\n",
              "    [theme=dark] .colab-df-convert {\n",
              "      background-color: #3B4455;\n",
              "      fill: #D2E3FC;\n",
              "    }\n",
              "\n",
              "    [theme=dark] .colab-df-convert:hover {\n",
              "      background-color: #434B5C;\n",
              "      box-shadow: 0px 1px 3px 1px rgba(0, 0, 0, 0.15);\n",
              "      filter: drop-shadow(0px 1px 2px rgba(0, 0, 0, 0.3));\n",
              "      fill: #FFFFFF;\n",
              "    }\n",
              "  </style>\n",
              "\n",
              "    <script>\n",
              "      const buttonEl =\n",
              "        document.querySelector('#df-dd18711b-c0c8-4563-8d63-a43aacef6d67 button.colab-df-convert');\n",
              "      buttonEl.style.display =\n",
              "        google.colab.kernel.accessAllowed ? 'block' : 'none';\n",
              "\n",
              "      async function convertToInteractive(key) {\n",
              "        const element = document.querySelector('#df-dd18711b-c0c8-4563-8d63-a43aacef6d67');\n",
              "        const dataTable =\n",
              "          await google.colab.kernel.invokeFunction('convertToInteractive',\n",
              "                                                    [key], {});\n",
              "        if (!dataTable) return;\n",
              "\n",
              "        const docLinkHtml = 'Like what you see? Visit the ' +\n",
              "          '<a target=\"_blank\" href=https://colab.research.google.com/notebooks/data_table.ipynb>data table notebook</a>'\n",
              "          + ' to learn more about interactive tables.';\n",
              "        element.innerHTML = '';\n",
              "        dataTable['output_type'] = 'display_data';\n",
              "        await google.colab.output.renderOutput(dataTable, element);\n",
              "        const docLink = document.createElement('div');\n",
              "        docLink.innerHTML = docLinkHtml;\n",
              "        element.appendChild(docLink);\n",
              "      }\n",
              "    </script>\n",
              "  </div>\n",
              "\n",
              "\n",
              "<div id=\"df-7bc3126d-42f7-488b-a741-cc0e6dc5656d\">\n",
              "  <button class=\"colab-df-quickchart\" onclick=\"quickchart('df-7bc3126d-42f7-488b-a741-cc0e6dc5656d')\"\n",
              "            title=\"Suggest charts\"\n",
              "            style=\"display:none;\">\n",
              "\n",
              "<svg xmlns=\"http://www.w3.org/2000/svg\" height=\"24px\"viewBox=\"0 0 24 24\"\n",
              "     width=\"24px\">\n",
              "    <g>\n",
              "        <path d=\"M19 3H5c-1.1 0-2 .9-2 2v14c0 1.1.9 2 2 2h14c1.1 0 2-.9 2-2V5c0-1.1-.9-2-2-2zM9 17H7v-7h2v7zm4 0h-2V7h2v10zm4 0h-2v-4h2v4z\"/>\n",
              "    </g>\n",
              "</svg>\n",
              "  </button>\n",
              "\n",
              "<style>\n",
              "  .colab-df-quickchart {\n",
              "      --bg-color: #E8F0FE;\n",
              "      --fill-color: #1967D2;\n",
              "      --hover-bg-color: #E2EBFA;\n",
              "      --hover-fill-color: #174EA6;\n",
              "      --disabled-fill-color: #AAA;\n",
              "      --disabled-bg-color: #DDD;\n",
              "  }\n",
              "\n",
              "  [theme=dark] .colab-df-quickchart {\n",
              "      --bg-color: #3B4455;\n",
              "      --fill-color: #D2E3FC;\n",
              "      --hover-bg-color: #434B5C;\n",
              "      --hover-fill-color: #FFFFFF;\n",
              "      --disabled-bg-color: #3B4455;\n",
              "      --disabled-fill-color: #666;\n",
              "  }\n",
              "\n",
              "  .colab-df-quickchart {\n",
              "    background-color: var(--bg-color);\n",
              "    border: none;\n",
              "    border-radius: 50%;\n",
              "    cursor: pointer;\n",
              "    display: none;\n",
              "    fill: var(--fill-color);\n",
              "    height: 32px;\n",
              "    padding: 0;\n",
              "    width: 32px;\n",
              "  }\n",
              "\n",
              "  .colab-df-quickchart:hover {\n",
              "    background-color: var(--hover-bg-color);\n",
              "    box-shadow: 0 1px 2px rgba(60, 64, 67, 0.3), 0 1px 3px 1px rgba(60, 64, 67, 0.15);\n",
              "    fill: var(--button-hover-fill-color);\n",
              "  }\n",
              "\n",
              "  .colab-df-quickchart-complete:disabled,\n",
              "  .colab-df-quickchart-complete:disabled:hover {\n",
              "    background-color: var(--disabled-bg-color);\n",
              "    fill: var(--disabled-fill-color);\n",
              "    box-shadow: none;\n",
              "  }\n",
              "\n",
              "  .colab-df-spinner {\n",
              "    border: 2px solid var(--fill-color);\n",
              "    border-color: transparent;\n",
              "    border-bottom-color: var(--fill-color);\n",
              "    animation:\n",
              "      spin 1s steps(1) infinite;\n",
              "  }\n",
              "\n",
              "  @keyframes spin {\n",
              "    0% {\n",
              "      border-color: transparent;\n",
              "      border-bottom-color: var(--fill-color);\n",
              "      border-left-color: var(--fill-color);\n",
              "    }\n",
              "    20% {\n",
              "      border-color: transparent;\n",
              "      border-left-color: var(--fill-color);\n",
              "      border-top-color: var(--fill-color);\n",
              "    }\n",
              "    30% {\n",
              "      border-color: transparent;\n",
              "      border-left-color: var(--fill-color);\n",
              "      border-top-color: var(--fill-color);\n",
              "      border-right-color: var(--fill-color);\n",
              "    }\n",
              "    40% {\n",
              "      border-color: transparent;\n",
              "      border-right-color: var(--fill-color);\n",
              "      border-top-color: var(--fill-color);\n",
              "    }\n",
              "    60% {\n",
              "      border-color: transparent;\n",
              "      border-right-color: var(--fill-color);\n",
              "    }\n",
              "    80% {\n",
              "      border-color: transparent;\n",
              "      border-right-color: var(--fill-color);\n",
              "      border-bottom-color: var(--fill-color);\n",
              "    }\n",
              "    90% {\n",
              "      border-color: transparent;\n",
              "      border-bottom-color: var(--fill-color);\n",
              "    }\n",
              "  }\n",
              "</style>\n",
              "\n",
              "  <script>\n",
              "    async function quickchart(key) {\n",
              "      const quickchartButtonEl =\n",
              "        document.querySelector('#' + key + ' button');\n",
              "      quickchartButtonEl.disabled = true;  // To prevent multiple clicks.\n",
              "      quickchartButtonEl.classList.add('colab-df-spinner');\n",
              "      try {\n",
              "        const charts = await google.colab.kernel.invokeFunction(\n",
              "            'suggestCharts', [key], {});\n",
              "      } catch (error) {\n",
              "        console.error('Error during call to suggestCharts:', error);\n",
              "      }\n",
              "      quickchartButtonEl.classList.remove('colab-df-spinner');\n",
              "      quickchartButtonEl.classList.add('colab-df-quickchart-complete');\n",
              "    }\n",
              "    (() => {\n",
              "      let quickchartButtonEl =\n",
              "        document.querySelector('#df-7bc3126d-42f7-488b-a741-cc0e6dc5656d button');\n",
              "      quickchartButtonEl.style.display =\n",
              "        google.colab.kernel.accessAllowed ? 'block' : 'none';\n",
              "    })();\n",
              "  </script>\n",
              "</div>\n",
              "\n",
              "    </div>\n",
              "  </div>\n"
            ]
          },
          "metadata": {},
          "execution_count": 7
        }
      ],
      "source": [
        "pd.DataFrame(nlp.Defaults.stop_words)"
      ]
    },
    {
      "cell_type": "code",
      "execution_count": 8,
      "metadata": {
        "colab": {
          "base_uri": "https://localhost:8080/",
          "height": 363
        },
        "id": "hOZKm0cLnfEc",
        "outputId": "4d68d271-dd8c-4b10-add9-d200c0e39342"
      },
      "outputs": [
        {
          "output_type": "execute_result",
          "data": {
            "text/plain": [
              "  label                                            message  length  punct\n",
              "0   ham  Go until jurong point, crazy.. Available only ...     111      9\n",
              "1   ham                      Ok lar... Joking wif u oni...      29      6\n",
              "2  spam  Free entry in 2 a wkly comp to win FA Cup fina...     155      6\n",
              "3   ham  U dun say so early hor... U c already then say...      49      6\n",
              "4   ham  Nah I don't think he goes to usf, he lives aro...      61      2\n",
              "5  spam  FreeMsg Hey there darling it's been 3 week's n...     147      8\n",
              "6   ham  Even my brother is not like to speak with me. ...      77      2\n",
              "7   ham  As per your request 'Melle Melle (Oru Minnamin...     160      6\n",
              "8  spam  WINNER!! As a valued network customer you have...     157      6\n",
              "9  spam  Had your mobile 11 months or more? U R entitle...     154      2"
            ],
            "text/html": [
              "\n",
              "  <div id=\"df-4414c3c2-ad54-4f70-8094-765c0d7a3561\" class=\"colab-df-container\">\n",
              "    <div>\n",
              "<style scoped>\n",
              "    .dataframe tbody tr th:only-of-type {\n",
              "        vertical-align: middle;\n",
              "    }\n",
              "\n",
              "    .dataframe tbody tr th {\n",
              "        vertical-align: top;\n",
              "    }\n",
              "\n",
              "    .dataframe thead th {\n",
              "        text-align: right;\n",
              "    }\n",
              "</style>\n",
              "<table border=\"1\" class=\"dataframe\">\n",
              "  <thead>\n",
              "    <tr style=\"text-align: right;\">\n",
              "      <th></th>\n",
              "      <th>label</th>\n",
              "      <th>message</th>\n",
              "      <th>length</th>\n",
              "      <th>punct</th>\n",
              "    </tr>\n",
              "  </thead>\n",
              "  <tbody>\n",
              "    <tr>\n",
              "      <th>0</th>\n",
              "      <td>ham</td>\n",
              "      <td>Go until jurong point, crazy.. Available only ...</td>\n",
              "      <td>111</td>\n",
              "      <td>9</td>\n",
              "    </tr>\n",
              "    <tr>\n",
              "      <th>1</th>\n",
              "      <td>ham</td>\n",
              "      <td>Ok lar... Joking wif u oni...</td>\n",
              "      <td>29</td>\n",
              "      <td>6</td>\n",
              "    </tr>\n",
              "    <tr>\n",
              "      <th>2</th>\n",
              "      <td>spam</td>\n",
              "      <td>Free entry in 2 a wkly comp to win FA Cup fina...</td>\n",
              "      <td>155</td>\n",
              "      <td>6</td>\n",
              "    </tr>\n",
              "    <tr>\n",
              "      <th>3</th>\n",
              "      <td>ham</td>\n",
              "      <td>U dun say so early hor... U c already then say...</td>\n",
              "      <td>49</td>\n",
              "      <td>6</td>\n",
              "    </tr>\n",
              "    <tr>\n",
              "      <th>4</th>\n",
              "      <td>ham</td>\n",
              "      <td>Nah I don't think he goes to usf, he lives aro...</td>\n",
              "      <td>61</td>\n",
              "      <td>2</td>\n",
              "    </tr>\n",
              "    <tr>\n",
              "      <th>5</th>\n",
              "      <td>spam</td>\n",
              "      <td>FreeMsg Hey there darling it's been 3 week's n...</td>\n",
              "      <td>147</td>\n",
              "      <td>8</td>\n",
              "    </tr>\n",
              "    <tr>\n",
              "      <th>6</th>\n",
              "      <td>ham</td>\n",
              "      <td>Even my brother is not like to speak with me. ...</td>\n",
              "      <td>77</td>\n",
              "      <td>2</td>\n",
              "    </tr>\n",
              "    <tr>\n",
              "      <th>7</th>\n",
              "      <td>ham</td>\n",
              "      <td>As per your request 'Melle Melle (Oru Minnamin...</td>\n",
              "      <td>160</td>\n",
              "      <td>6</td>\n",
              "    </tr>\n",
              "    <tr>\n",
              "      <th>8</th>\n",
              "      <td>spam</td>\n",
              "      <td>WINNER!! As a valued network customer you have...</td>\n",
              "      <td>157</td>\n",
              "      <td>6</td>\n",
              "    </tr>\n",
              "    <tr>\n",
              "      <th>9</th>\n",
              "      <td>spam</td>\n",
              "      <td>Had your mobile 11 months or more? U R entitle...</td>\n",
              "      <td>154</td>\n",
              "      <td>2</td>\n",
              "    </tr>\n",
              "  </tbody>\n",
              "</table>\n",
              "</div>\n",
              "    <div class=\"colab-df-buttons\">\n",
              "\n",
              "  <div class=\"colab-df-container\">\n",
              "    <button class=\"colab-df-convert\" onclick=\"convertToInteractive('df-4414c3c2-ad54-4f70-8094-765c0d7a3561')\"\n",
              "            title=\"Convert this dataframe to an interactive table.\"\n",
              "            style=\"display:none;\">\n",
              "\n",
              "  <svg xmlns=\"http://www.w3.org/2000/svg\" height=\"24px\" viewBox=\"0 -960 960 960\">\n",
              "    <path d=\"M120-120v-720h720v720H120Zm60-500h600v-160H180v160Zm220 220h160v-160H400v160Zm0 220h160v-160H400v160ZM180-400h160v-160H180v160Zm440 0h160v-160H620v160ZM180-180h160v-160H180v160Zm440 0h160v-160H620v160Z\"/>\n",
              "  </svg>\n",
              "    </button>\n",
              "\n",
              "  <style>\n",
              "    .colab-df-container {\n",
              "      display:flex;\n",
              "      gap: 12px;\n",
              "    }\n",
              "\n",
              "    .colab-df-convert {\n",
              "      background-color: #E8F0FE;\n",
              "      border: none;\n",
              "      border-radius: 50%;\n",
              "      cursor: pointer;\n",
              "      display: none;\n",
              "      fill: #1967D2;\n",
              "      height: 32px;\n",
              "      padding: 0 0 0 0;\n",
              "      width: 32px;\n",
              "    }\n",
              "\n",
              "    .colab-df-convert:hover {\n",
              "      background-color: #E2EBFA;\n",
              "      box-shadow: 0px 1px 2px rgba(60, 64, 67, 0.3), 0px 1px 3px 1px rgba(60, 64, 67, 0.15);\n",
              "      fill: #174EA6;\n",
              "    }\n",
              "\n",
              "    .colab-df-buttons div {\n",
              "      margin-bottom: 4px;\n",
              "    }\n",
              "\n",
              "    [theme=dark] .colab-df-convert {\n",
              "      background-color: #3B4455;\n",
              "      fill: #D2E3FC;\n",
              "    }\n",
              "\n",
              "    [theme=dark] .colab-df-convert:hover {\n",
              "      background-color: #434B5C;\n",
              "      box-shadow: 0px 1px 3px 1px rgba(0, 0, 0, 0.15);\n",
              "      filter: drop-shadow(0px 1px 2px rgba(0, 0, 0, 0.3));\n",
              "      fill: #FFFFFF;\n",
              "    }\n",
              "  </style>\n",
              "\n",
              "    <script>\n",
              "      const buttonEl =\n",
              "        document.querySelector('#df-4414c3c2-ad54-4f70-8094-765c0d7a3561 button.colab-df-convert');\n",
              "      buttonEl.style.display =\n",
              "        google.colab.kernel.accessAllowed ? 'block' : 'none';\n",
              "\n",
              "      async function convertToInteractive(key) {\n",
              "        const element = document.querySelector('#df-4414c3c2-ad54-4f70-8094-765c0d7a3561');\n",
              "        const dataTable =\n",
              "          await google.colab.kernel.invokeFunction('convertToInteractive',\n",
              "                                                    [key], {});\n",
              "        if (!dataTable) return;\n",
              "\n",
              "        const docLinkHtml = 'Like what you see? Visit the ' +\n",
              "          '<a target=\"_blank\" href=https://colab.research.google.com/notebooks/data_table.ipynb>data table notebook</a>'\n",
              "          + ' to learn more about interactive tables.';\n",
              "        element.innerHTML = '';\n",
              "        dataTable['output_type'] = 'display_data';\n",
              "        await google.colab.output.renderOutput(dataTable, element);\n",
              "        const docLink = document.createElement('div');\n",
              "        docLink.innerHTML = docLinkHtml;\n",
              "        element.appendChild(docLink);\n",
              "      }\n",
              "    </script>\n",
              "  </div>\n",
              "\n",
              "\n",
              "<div id=\"df-33aa5152-24fc-4dde-939d-6b50fdff228d\">\n",
              "  <button class=\"colab-df-quickchart\" onclick=\"quickchart('df-33aa5152-24fc-4dde-939d-6b50fdff228d')\"\n",
              "            title=\"Suggest charts\"\n",
              "            style=\"display:none;\">\n",
              "\n",
              "<svg xmlns=\"http://www.w3.org/2000/svg\" height=\"24px\"viewBox=\"0 0 24 24\"\n",
              "     width=\"24px\">\n",
              "    <g>\n",
              "        <path d=\"M19 3H5c-1.1 0-2 .9-2 2v14c0 1.1.9 2 2 2h14c1.1 0 2-.9 2-2V5c0-1.1-.9-2-2-2zM9 17H7v-7h2v7zm4 0h-2V7h2v10zm4 0h-2v-4h2v4z\"/>\n",
              "    </g>\n",
              "</svg>\n",
              "  </button>\n",
              "\n",
              "<style>\n",
              "  .colab-df-quickchart {\n",
              "      --bg-color: #E8F0FE;\n",
              "      --fill-color: #1967D2;\n",
              "      --hover-bg-color: #E2EBFA;\n",
              "      --hover-fill-color: #174EA6;\n",
              "      --disabled-fill-color: #AAA;\n",
              "      --disabled-bg-color: #DDD;\n",
              "  }\n",
              "\n",
              "  [theme=dark] .colab-df-quickchart {\n",
              "      --bg-color: #3B4455;\n",
              "      --fill-color: #D2E3FC;\n",
              "      --hover-bg-color: #434B5C;\n",
              "      --hover-fill-color: #FFFFFF;\n",
              "      --disabled-bg-color: #3B4455;\n",
              "      --disabled-fill-color: #666;\n",
              "  }\n",
              "\n",
              "  .colab-df-quickchart {\n",
              "    background-color: var(--bg-color);\n",
              "    border: none;\n",
              "    border-radius: 50%;\n",
              "    cursor: pointer;\n",
              "    display: none;\n",
              "    fill: var(--fill-color);\n",
              "    height: 32px;\n",
              "    padding: 0;\n",
              "    width: 32px;\n",
              "  }\n",
              "\n",
              "  .colab-df-quickchart:hover {\n",
              "    background-color: var(--hover-bg-color);\n",
              "    box-shadow: 0 1px 2px rgba(60, 64, 67, 0.3), 0 1px 3px 1px rgba(60, 64, 67, 0.15);\n",
              "    fill: var(--button-hover-fill-color);\n",
              "  }\n",
              "\n",
              "  .colab-df-quickchart-complete:disabled,\n",
              "  .colab-df-quickchart-complete:disabled:hover {\n",
              "    background-color: var(--disabled-bg-color);\n",
              "    fill: var(--disabled-fill-color);\n",
              "    box-shadow: none;\n",
              "  }\n",
              "\n",
              "  .colab-df-spinner {\n",
              "    border: 2px solid var(--fill-color);\n",
              "    border-color: transparent;\n",
              "    border-bottom-color: var(--fill-color);\n",
              "    animation:\n",
              "      spin 1s steps(1) infinite;\n",
              "  }\n",
              "\n",
              "  @keyframes spin {\n",
              "    0% {\n",
              "      border-color: transparent;\n",
              "      border-bottom-color: var(--fill-color);\n",
              "      border-left-color: var(--fill-color);\n",
              "    }\n",
              "    20% {\n",
              "      border-color: transparent;\n",
              "      border-left-color: var(--fill-color);\n",
              "      border-top-color: var(--fill-color);\n",
              "    }\n",
              "    30% {\n",
              "      border-color: transparent;\n",
              "      border-left-color: var(--fill-color);\n",
              "      border-top-color: var(--fill-color);\n",
              "      border-right-color: var(--fill-color);\n",
              "    }\n",
              "    40% {\n",
              "      border-color: transparent;\n",
              "      border-right-color: var(--fill-color);\n",
              "      border-top-color: var(--fill-color);\n",
              "    }\n",
              "    60% {\n",
              "      border-color: transparent;\n",
              "      border-right-color: var(--fill-color);\n",
              "    }\n",
              "    80% {\n",
              "      border-color: transparent;\n",
              "      border-right-color: var(--fill-color);\n",
              "      border-bottom-color: var(--fill-color);\n",
              "    }\n",
              "    90% {\n",
              "      border-color: transparent;\n",
              "      border-bottom-color: var(--fill-color);\n",
              "    }\n",
              "  }\n",
              "</style>\n",
              "\n",
              "  <script>\n",
              "    async function quickchart(key) {\n",
              "      const quickchartButtonEl =\n",
              "        document.querySelector('#' + key + ' button');\n",
              "      quickchartButtonEl.disabled = true;  // To prevent multiple clicks.\n",
              "      quickchartButtonEl.classList.add('colab-df-spinner');\n",
              "      try {\n",
              "        const charts = await google.colab.kernel.invokeFunction(\n",
              "            'suggestCharts', [key], {});\n",
              "      } catch (error) {\n",
              "        console.error('Error during call to suggestCharts:', error);\n",
              "      }\n",
              "      quickchartButtonEl.classList.remove('colab-df-spinner');\n",
              "      quickchartButtonEl.classList.add('colab-df-quickchart-complete');\n",
              "    }\n",
              "    (() => {\n",
              "      let quickchartButtonEl =\n",
              "        document.querySelector('#df-33aa5152-24fc-4dde-939d-6b50fdff228d button');\n",
              "      quickchartButtonEl.style.display =\n",
              "        google.colab.kernel.accessAllowed ? 'block' : 'none';\n",
              "    })();\n",
              "  </script>\n",
              "</div>\n",
              "\n",
              "    </div>\n",
              "  </div>\n"
            ]
          },
          "metadata": {},
          "execution_count": 8
        }
      ],
      "source": [
        "df = pd.read_csv('/content/smsspamcollection.tsv',sep='\\t')\n",
        "df.head(10)"
      ]
    },
    {
      "cell_type": "code",
      "execution_count": 9,
      "metadata": {
        "id": "HcdzD5h9-BCX"
      },
      "outputs": [],
      "source": [
        "from sklearn.model_selection import train_test_split"
      ]
    },
    {
      "cell_type": "code",
      "execution_count": 10,
      "metadata": {
        "id": "RVqAEN3G_bA_"
      },
      "outputs": [],
      "source": [
        "X = df['message']\n",
        "y = df['label']\n",
        "X_train, X_test, y_train, y_test = train_test_split(X, y, test_size=0.33, random_state=42)"
      ]
    },
    {
      "cell_type": "code",
      "execution_count": 11,
      "metadata": {
        "id": "QxrwugSE_8us"
      },
      "outputs": [],
      "source": [
        "from sklearn.feature_extraction.text import CountVectorizer\n",
        "from sklearn.feature_extraction.text import TfidfVectorizer"
      ]
    },
    {
      "cell_type": "code",
      "execution_count": 12,
      "metadata": {
        "colab": {
          "base_uri": "https://localhost:8080/"
        },
        "id": "U9tuVidkAJGd",
        "outputId": "c18b973a-cbe1-4108-9e5d-34f45b9e7df8"
      },
      "outputs": [
        {
          "output_type": "stream",
          "name": "stdout",
          "text": [
            "Feature Names (Words): ['00' '000' '000pes' ... 'zoom' 'zouk' 'èn']\n",
            "Feature Matrix:\n",
            " [[0 0 0 ... 0 0 0]\n",
            " [0 0 0 ... 0 0 0]\n",
            " [0 0 0 ... 0 0 0]\n",
            " ...\n",
            " [0 0 0 ... 0 0 0]\n",
            " [0 0 0 ... 0 0 0]\n",
            " [0 0 0 ... 0 0 0]]\n"
          ]
        }
      ],
      "source": [
        "vectorizer = CountVectorizer()\n",
        "\n",
        "# Fit and transform the text data\n",
        "X_vect = vectorizer.fit_transform(X_train)\n",
        "\n",
        "# feature names (words)\n",
        "feature_names = vectorizer.get_feature_names_out()\n",
        "\n",
        "#dense matrix\n",
        "dense_matrix = X_vect.toarray()\n",
        "\n",
        "print(\"Feature Names (Words):\", feature_names)\n",
        "print(\"Feature Matrix:\\n\", dense_matrix)"
      ]
    },
    {
      "cell_type": "code",
      "execution_count": 13,
      "metadata": {
        "colab": {
          "base_uri": "https://localhost:8080/"
        },
        "id": "hqnCwaGYolFv",
        "outputId": "18d36764-f994-4f1a-e0ac-1abd2cf29f6b"
      },
      "outputs": [
        {
          "output_type": "stream",
          "name": "stdout",
          "text": [
            "Feature Names (Words): ['00' '000' '000pes' ... 'zoom' 'zouk' 'èn']\n",
            "TF-IDF Feature Matrix:\n",
            " [[0. 0. 0. ... 0. 0. 0.]\n",
            " [0. 0. 0. ... 0. 0. 0.]\n",
            " [0. 0. 0. ... 0. 0. 0.]\n",
            " ...\n",
            " [0. 0. 0. ... 0. 0. 0.]\n",
            " [0. 0. 0. ... 0. 0. 0.]\n",
            " [0. 0. 0. ... 0. 0. 0.]]\n"
          ]
        }
      ],
      "source": [
        "tfidf = TfidfVectorizer()\n",
        "\n",
        "\n",
        "# Fit and transform the text data\n",
        "X_tfidf = tfidf.fit_transform(X_train)\n",
        "\n",
        "# Get feature names (words)\n",
        "feature_names_tfidf = tfidf.get_feature_names_out()\n",
        "\n",
        "# Convert to dense matrix (for demonstration purposes)\n",
        "dense_matrix_tfidf = X_tfidf.toarray()\n",
        "\n",
        "print(\"Feature Names (Words):\", feature_names_tfidf)\n",
        "print(\"TF-IDF Feature Matrix:\\n\", dense_matrix_tfidf)\n"
      ]
    },
    {
      "cell_type": "code",
      "execution_count": 14,
      "metadata": {
        "colab": {
          "base_uri": "https://localhost:8080/",
          "height": 424
        },
        "id": "ZYhX86XMqAFz",
        "outputId": "690bb714-9aa3-47ed-9768-3ce822dc6619"
      },
      "outputs": [
        {
          "output_type": "execute_result",
          "data": {
            "text/plain": [
              "     label                                             review\n",
              "0      neg  how do films like mouse hunt get into theatres...\n",
              "1      neg  some talented actresses are blessed with a dem...\n",
              "2      pos  this has been an extraordinary year for austra...\n",
              "3      pos  according to hollywood movies made in last few...\n",
              "4      neg  my first press screening of 1998 and already i...\n",
              "...    ...                                                ...\n",
              "1995   pos  i like movies with albert brooks , and i reall...\n",
              "1996   pos  it might surprise some to know that joel and e...\n",
              "1997   pos  the verdict : spine-chilling drama from horror...\n",
              "1998   pos  i want to correct what i wrote in a former ret...\n",
              "1999   pos  a couple of months ago , when i first download...\n",
              "\n",
              "[2000 rows x 2 columns]"
            ],
            "text/html": [
              "\n",
              "  <div id=\"df-cabad549-7bf7-477b-961f-f4ffb8d4c5d2\" class=\"colab-df-container\">\n",
              "    <div>\n",
              "<style scoped>\n",
              "    .dataframe tbody tr th:only-of-type {\n",
              "        vertical-align: middle;\n",
              "    }\n",
              "\n",
              "    .dataframe tbody tr th {\n",
              "        vertical-align: top;\n",
              "    }\n",
              "\n",
              "    .dataframe thead th {\n",
              "        text-align: right;\n",
              "    }\n",
              "</style>\n",
              "<table border=\"1\" class=\"dataframe\">\n",
              "  <thead>\n",
              "    <tr style=\"text-align: right;\">\n",
              "      <th></th>\n",
              "      <th>label</th>\n",
              "      <th>review</th>\n",
              "    </tr>\n",
              "  </thead>\n",
              "  <tbody>\n",
              "    <tr>\n",
              "      <th>0</th>\n",
              "      <td>neg</td>\n",
              "      <td>how do films like mouse hunt get into theatres...</td>\n",
              "    </tr>\n",
              "    <tr>\n",
              "      <th>1</th>\n",
              "      <td>neg</td>\n",
              "      <td>some talented actresses are blessed with a dem...</td>\n",
              "    </tr>\n",
              "    <tr>\n",
              "      <th>2</th>\n",
              "      <td>pos</td>\n",
              "      <td>this has been an extraordinary year for austra...</td>\n",
              "    </tr>\n",
              "    <tr>\n",
              "      <th>3</th>\n",
              "      <td>pos</td>\n",
              "      <td>according to hollywood movies made in last few...</td>\n",
              "    </tr>\n",
              "    <tr>\n",
              "      <th>4</th>\n",
              "      <td>neg</td>\n",
              "      <td>my first press screening of 1998 and already i...</td>\n",
              "    </tr>\n",
              "    <tr>\n",
              "      <th>...</th>\n",
              "      <td>...</td>\n",
              "      <td>...</td>\n",
              "    </tr>\n",
              "    <tr>\n",
              "      <th>1995</th>\n",
              "      <td>pos</td>\n",
              "      <td>i like movies with albert brooks , and i reall...</td>\n",
              "    </tr>\n",
              "    <tr>\n",
              "      <th>1996</th>\n",
              "      <td>pos</td>\n",
              "      <td>it might surprise some to know that joel and e...</td>\n",
              "    </tr>\n",
              "    <tr>\n",
              "      <th>1997</th>\n",
              "      <td>pos</td>\n",
              "      <td>the verdict : spine-chilling drama from horror...</td>\n",
              "    </tr>\n",
              "    <tr>\n",
              "      <th>1998</th>\n",
              "      <td>pos</td>\n",
              "      <td>i want to correct what i wrote in a former ret...</td>\n",
              "    </tr>\n",
              "    <tr>\n",
              "      <th>1999</th>\n",
              "      <td>pos</td>\n",
              "      <td>a couple of months ago , when i first download...</td>\n",
              "    </tr>\n",
              "  </tbody>\n",
              "</table>\n",
              "<p>2000 rows × 2 columns</p>\n",
              "</div>\n",
              "    <div class=\"colab-df-buttons\">\n",
              "\n",
              "  <div class=\"colab-df-container\">\n",
              "    <button class=\"colab-df-convert\" onclick=\"convertToInteractive('df-cabad549-7bf7-477b-961f-f4ffb8d4c5d2')\"\n",
              "            title=\"Convert this dataframe to an interactive table.\"\n",
              "            style=\"display:none;\">\n",
              "\n",
              "  <svg xmlns=\"http://www.w3.org/2000/svg\" height=\"24px\" viewBox=\"0 -960 960 960\">\n",
              "    <path d=\"M120-120v-720h720v720H120Zm60-500h600v-160H180v160Zm220 220h160v-160H400v160Zm0 220h160v-160H400v160ZM180-400h160v-160H180v160Zm440 0h160v-160H620v160ZM180-180h160v-160H180v160Zm440 0h160v-160H620v160Z\"/>\n",
              "  </svg>\n",
              "    </button>\n",
              "\n",
              "  <style>\n",
              "    .colab-df-container {\n",
              "      display:flex;\n",
              "      gap: 12px;\n",
              "    }\n",
              "\n",
              "    .colab-df-convert {\n",
              "      background-color: #E8F0FE;\n",
              "      border: none;\n",
              "      border-radius: 50%;\n",
              "      cursor: pointer;\n",
              "      display: none;\n",
              "      fill: #1967D2;\n",
              "      height: 32px;\n",
              "      padding: 0 0 0 0;\n",
              "      width: 32px;\n",
              "    }\n",
              "\n",
              "    .colab-df-convert:hover {\n",
              "      background-color: #E2EBFA;\n",
              "      box-shadow: 0px 1px 2px rgba(60, 64, 67, 0.3), 0px 1px 3px 1px rgba(60, 64, 67, 0.15);\n",
              "      fill: #174EA6;\n",
              "    }\n",
              "\n",
              "    .colab-df-buttons div {\n",
              "      margin-bottom: 4px;\n",
              "    }\n",
              "\n",
              "    [theme=dark] .colab-df-convert {\n",
              "      background-color: #3B4455;\n",
              "      fill: #D2E3FC;\n",
              "    }\n",
              "\n",
              "    [theme=dark] .colab-df-convert:hover {\n",
              "      background-color: #434B5C;\n",
              "      box-shadow: 0px 1px 3px 1px rgba(0, 0, 0, 0.15);\n",
              "      filter: drop-shadow(0px 1px 2px rgba(0, 0, 0, 0.3));\n",
              "      fill: #FFFFFF;\n",
              "    }\n",
              "  </style>\n",
              "\n",
              "    <script>\n",
              "      const buttonEl =\n",
              "        document.querySelector('#df-cabad549-7bf7-477b-961f-f4ffb8d4c5d2 button.colab-df-convert');\n",
              "      buttonEl.style.display =\n",
              "        google.colab.kernel.accessAllowed ? 'block' : 'none';\n",
              "\n",
              "      async function convertToInteractive(key) {\n",
              "        const element = document.querySelector('#df-cabad549-7bf7-477b-961f-f4ffb8d4c5d2');\n",
              "        const dataTable =\n",
              "          await google.colab.kernel.invokeFunction('convertToInteractive',\n",
              "                                                    [key], {});\n",
              "        if (!dataTable) return;\n",
              "\n",
              "        const docLinkHtml = 'Like what you see? Visit the ' +\n",
              "          '<a target=\"_blank\" href=https://colab.research.google.com/notebooks/data_table.ipynb>data table notebook</a>'\n",
              "          + ' to learn more about interactive tables.';\n",
              "        element.innerHTML = '';\n",
              "        dataTable['output_type'] = 'display_data';\n",
              "        await google.colab.output.renderOutput(dataTable, element);\n",
              "        const docLink = document.createElement('div');\n",
              "        docLink.innerHTML = docLinkHtml;\n",
              "        element.appendChild(docLink);\n",
              "      }\n",
              "    </script>\n",
              "  </div>\n",
              "\n",
              "\n",
              "<div id=\"df-407760e7-2058-44a8-b021-a2a981afa7aa\">\n",
              "  <button class=\"colab-df-quickchart\" onclick=\"quickchart('df-407760e7-2058-44a8-b021-a2a981afa7aa')\"\n",
              "            title=\"Suggest charts\"\n",
              "            style=\"display:none;\">\n",
              "\n",
              "<svg xmlns=\"http://www.w3.org/2000/svg\" height=\"24px\"viewBox=\"0 0 24 24\"\n",
              "     width=\"24px\">\n",
              "    <g>\n",
              "        <path d=\"M19 3H5c-1.1 0-2 .9-2 2v14c0 1.1.9 2 2 2h14c1.1 0 2-.9 2-2V5c0-1.1-.9-2-2-2zM9 17H7v-7h2v7zm4 0h-2V7h2v10zm4 0h-2v-4h2v4z\"/>\n",
              "    </g>\n",
              "</svg>\n",
              "  </button>\n",
              "\n",
              "<style>\n",
              "  .colab-df-quickchart {\n",
              "      --bg-color: #E8F0FE;\n",
              "      --fill-color: #1967D2;\n",
              "      --hover-bg-color: #E2EBFA;\n",
              "      --hover-fill-color: #174EA6;\n",
              "      --disabled-fill-color: #AAA;\n",
              "      --disabled-bg-color: #DDD;\n",
              "  }\n",
              "\n",
              "  [theme=dark] .colab-df-quickchart {\n",
              "      --bg-color: #3B4455;\n",
              "      --fill-color: #D2E3FC;\n",
              "      --hover-bg-color: #434B5C;\n",
              "      --hover-fill-color: #FFFFFF;\n",
              "      --disabled-bg-color: #3B4455;\n",
              "      --disabled-fill-color: #666;\n",
              "  }\n",
              "\n",
              "  .colab-df-quickchart {\n",
              "    background-color: var(--bg-color);\n",
              "    border: none;\n",
              "    border-radius: 50%;\n",
              "    cursor: pointer;\n",
              "    display: none;\n",
              "    fill: var(--fill-color);\n",
              "    height: 32px;\n",
              "    padding: 0;\n",
              "    width: 32px;\n",
              "  }\n",
              "\n",
              "  .colab-df-quickchart:hover {\n",
              "    background-color: var(--hover-bg-color);\n",
              "    box-shadow: 0 1px 2px rgba(60, 64, 67, 0.3), 0 1px 3px 1px rgba(60, 64, 67, 0.15);\n",
              "    fill: var(--button-hover-fill-color);\n",
              "  }\n",
              "\n",
              "  .colab-df-quickchart-complete:disabled,\n",
              "  .colab-df-quickchart-complete:disabled:hover {\n",
              "    background-color: var(--disabled-bg-color);\n",
              "    fill: var(--disabled-fill-color);\n",
              "    box-shadow: none;\n",
              "  }\n",
              "\n",
              "  .colab-df-spinner {\n",
              "    border: 2px solid var(--fill-color);\n",
              "    border-color: transparent;\n",
              "    border-bottom-color: var(--fill-color);\n",
              "    animation:\n",
              "      spin 1s steps(1) infinite;\n",
              "  }\n",
              "\n",
              "  @keyframes spin {\n",
              "    0% {\n",
              "      border-color: transparent;\n",
              "      border-bottom-color: var(--fill-color);\n",
              "      border-left-color: var(--fill-color);\n",
              "    }\n",
              "    20% {\n",
              "      border-color: transparent;\n",
              "      border-left-color: var(--fill-color);\n",
              "      border-top-color: var(--fill-color);\n",
              "    }\n",
              "    30% {\n",
              "      border-color: transparent;\n",
              "      border-left-color: var(--fill-color);\n",
              "      border-top-color: var(--fill-color);\n",
              "      border-right-color: var(--fill-color);\n",
              "    }\n",
              "    40% {\n",
              "      border-color: transparent;\n",
              "      border-right-color: var(--fill-color);\n",
              "      border-top-color: var(--fill-color);\n",
              "    }\n",
              "    60% {\n",
              "      border-color: transparent;\n",
              "      border-right-color: var(--fill-color);\n",
              "    }\n",
              "    80% {\n",
              "      border-color: transparent;\n",
              "      border-right-color: var(--fill-color);\n",
              "      border-bottom-color: var(--fill-color);\n",
              "    }\n",
              "    90% {\n",
              "      border-color: transparent;\n",
              "      border-bottom-color: var(--fill-color);\n",
              "    }\n",
              "  }\n",
              "</style>\n",
              "\n",
              "  <script>\n",
              "    async function quickchart(key) {\n",
              "      const quickchartButtonEl =\n",
              "        document.querySelector('#' + key + ' button');\n",
              "      quickchartButtonEl.disabled = true;  // To prevent multiple clicks.\n",
              "      quickchartButtonEl.classList.add('colab-df-spinner');\n",
              "      try {\n",
              "        const charts = await google.colab.kernel.invokeFunction(\n",
              "            'suggestCharts', [key], {});\n",
              "      } catch (error) {\n",
              "        console.error('Error during call to suggestCharts:', error);\n",
              "      }\n",
              "      quickchartButtonEl.classList.remove('colab-df-spinner');\n",
              "      quickchartButtonEl.classList.add('colab-df-quickchart-complete');\n",
              "    }\n",
              "    (() => {\n",
              "      let quickchartButtonEl =\n",
              "        document.querySelector('#df-407760e7-2058-44a8-b021-a2a981afa7aa button');\n",
              "      quickchartButtonEl.style.display =\n",
              "        google.colab.kernel.accessAllowed ? 'block' : 'none';\n",
              "    })();\n",
              "  </script>\n",
              "</div>\n",
              "\n",
              "  <div id=\"id_25aa02d8-35e6-448d-95b0-c81b1995314b\">\n",
              "    <style>\n",
              "      .colab-df-generate {\n",
              "        background-color: #E8F0FE;\n",
              "        border: none;\n",
              "        border-radius: 50%;\n",
              "        cursor: pointer;\n",
              "        display: none;\n",
              "        fill: #1967D2;\n",
              "        height: 32px;\n",
              "        padding: 0 0 0 0;\n",
              "        width: 32px;\n",
              "      }\n",
              "\n",
              "      .colab-df-generate:hover {\n",
              "        background-color: #E2EBFA;\n",
              "        box-shadow: 0px 1px 2px rgba(60, 64, 67, 0.3), 0px 1px 3px 1px rgba(60, 64, 67, 0.15);\n",
              "        fill: #174EA6;\n",
              "      }\n",
              "\n",
              "      [theme=dark] .colab-df-generate {\n",
              "        background-color: #3B4455;\n",
              "        fill: #D2E3FC;\n",
              "      }\n",
              "\n",
              "      [theme=dark] .colab-df-generate:hover {\n",
              "        background-color: #434B5C;\n",
              "        box-shadow: 0px 1px 3px 1px rgba(0, 0, 0, 0.15);\n",
              "        filter: drop-shadow(0px 1px 2px rgba(0, 0, 0, 0.3));\n",
              "        fill: #FFFFFF;\n",
              "      }\n",
              "    </style>\n",
              "    <button class=\"colab-df-generate\" onclick=\"generateWithVariable('movie_df')\"\n",
              "            title=\"Generate code using this dataframe.\"\n",
              "            style=\"display:none;\">\n",
              "\n",
              "  <svg xmlns=\"http://www.w3.org/2000/svg\" height=\"24px\"viewBox=\"0 0 24 24\"\n",
              "       width=\"24px\">\n",
              "    <path d=\"M7,19H8.4L18.45,9,17,7.55,7,17.6ZM5,21V16.75L18.45,3.32a2,2,0,0,1,2.83,0l1.4,1.43a1.91,1.91,0,0,1,.58,1.4,1.91,1.91,0,0,1-.58,1.4L9.25,21ZM18.45,9,17,7.55Zm-12,3A5.31,5.31,0,0,0,4.9,8.1,5.31,5.31,0,0,0,1,6.5,5.31,5.31,0,0,0,4.9,4.9,5.31,5.31,0,0,0,6.5,1,5.31,5.31,0,0,0,8.1,4.9,5.31,5.31,0,0,0,12,6.5,5.46,5.46,0,0,0,6.5,12Z\"/>\n",
              "  </svg>\n",
              "    </button>\n",
              "    <script>\n",
              "      (() => {\n",
              "      const buttonEl =\n",
              "        document.querySelector('#id_25aa02d8-35e6-448d-95b0-c81b1995314b button.colab-df-generate');\n",
              "      buttonEl.style.display =\n",
              "        google.colab.kernel.accessAllowed ? 'block' : 'none';\n",
              "\n",
              "      buttonEl.onclick = () => {\n",
              "        google.colab.notebook.generateWithVariable('movie_df');\n",
              "      }\n",
              "      })();\n",
              "    </script>\n",
              "  </div>\n",
              "\n",
              "    </div>\n",
              "  </div>\n"
            ]
          },
          "metadata": {},
          "execution_count": 14
        }
      ],
      "source": [
        "movie_df = pd.read_csv('/content/moviereviews.tsv',sep='\\t')\n",
        "movie_df"
      ]
    },
    {
      "cell_type": "code",
      "execution_count": 15,
      "metadata": {
        "colab": {
          "base_uri": "https://localhost:8080/"
        },
        "id": "rCOga4KsqTvu",
        "outputId": "91be6856-3d12-4560-826a-91f99f1a3b08"
      },
      "outputs": [
        {
          "output_type": "execute_result",
          "data": {
            "text/plain": [
              "label      0\n",
              "review    35\n",
              "dtype: int64"
            ]
          },
          "metadata": {},
          "execution_count": 15
        }
      ],
      "source": [
        "movie_df.isnull().sum()"
      ]
    },
    {
      "cell_type": "code",
      "execution_count": 16,
      "metadata": {
        "id": "NhQupCjiqxoA"
      },
      "outputs": [],
      "source": [
        "movie_df.dropna(inplace = True)"
      ]
    },
    {
      "cell_type": "code",
      "execution_count": 17,
      "metadata": {
        "id": "_FgXvnwis7Wk"
      },
      "outputs": [],
      "source": [
        "X = movie_df['review']\n",
        "y = movie_df['label']\n",
        "\n",
        "X_train, X_test, y_train, y_test = train_test_split(X, y, test_size=0.33, random_state=42)"
      ]
    },
    {
      "cell_type": "code",
      "execution_count": 18,
      "metadata": {
        "id": "tBma98WPq4Fh"
      },
      "outputs": [],
      "source": [
        "from sklearn.pipeline import Pipeline\n",
        "from sklearn.naive_bayes import MultinomialNB\n",
        "from sklearn.svm import LinearSVC\n",
        "\n",
        "# Naïve Bayes:\n",
        "text_clf_nb = Pipeline([('tfidf', TfidfVectorizer()),\n",
        "                     ('clf', MultinomialNB()),\n",
        "])\n",
        "\n",
        "# Linear SVC:\n",
        "text_clf_lsvc = Pipeline([('tfidf', TfidfVectorizer()),\n",
        "                     ('clf', LinearSVC()),\n",
        "])"
      ]
    },
    {
      "cell_type": "code",
      "execution_count": 19,
      "metadata": {
        "colab": {
          "base_uri": "https://localhost:8080/",
          "height": 126
        },
        "id": "HV5puCebq4Gq",
        "outputId": "a0e1edc9-e4cb-43ec-c946-be35267efaae"
      },
      "outputs": [
        {
          "output_type": "execute_result",
          "data": {
            "text/plain": [
              "Pipeline(steps=[('tfidf', TfidfVectorizer()), ('clf', MultinomialNB())])"
            ],
            "text/html": [
              "<style>#sk-container-id-1 {color: black;background-color: white;}#sk-container-id-1 pre{padding: 0;}#sk-container-id-1 div.sk-toggleable {background-color: white;}#sk-container-id-1 label.sk-toggleable__label {cursor: pointer;display: block;width: 100%;margin-bottom: 0;padding: 0.3em;box-sizing: border-box;text-align: center;}#sk-container-id-1 label.sk-toggleable__label-arrow:before {content: \"▸\";float: left;margin-right: 0.25em;color: #696969;}#sk-container-id-1 label.sk-toggleable__label-arrow:hover:before {color: black;}#sk-container-id-1 div.sk-estimator:hover label.sk-toggleable__label-arrow:before {color: black;}#sk-container-id-1 div.sk-toggleable__content {max-height: 0;max-width: 0;overflow: hidden;text-align: left;background-color: #f0f8ff;}#sk-container-id-1 div.sk-toggleable__content pre {margin: 0.2em;color: black;border-radius: 0.25em;background-color: #f0f8ff;}#sk-container-id-1 input.sk-toggleable__control:checked~div.sk-toggleable__content {max-height: 200px;max-width: 100%;overflow: auto;}#sk-container-id-1 input.sk-toggleable__control:checked~label.sk-toggleable__label-arrow:before {content: \"▾\";}#sk-container-id-1 div.sk-estimator input.sk-toggleable__control:checked~label.sk-toggleable__label {background-color: #d4ebff;}#sk-container-id-1 div.sk-label input.sk-toggleable__control:checked~label.sk-toggleable__label {background-color: #d4ebff;}#sk-container-id-1 input.sk-hidden--visually {border: 0;clip: rect(1px 1px 1px 1px);clip: rect(1px, 1px, 1px, 1px);height: 1px;margin: -1px;overflow: hidden;padding: 0;position: absolute;width: 1px;}#sk-container-id-1 div.sk-estimator {font-family: monospace;background-color: #f0f8ff;border: 1px dotted black;border-radius: 0.25em;box-sizing: border-box;margin-bottom: 0.5em;}#sk-container-id-1 div.sk-estimator:hover {background-color: #d4ebff;}#sk-container-id-1 div.sk-parallel-item::after {content: \"\";width: 100%;border-bottom: 1px solid gray;flex-grow: 1;}#sk-container-id-1 div.sk-label:hover label.sk-toggleable__label {background-color: #d4ebff;}#sk-container-id-1 div.sk-serial::before {content: \"\";position: absolute;border-left: 1px solid gray;box-sizing: border-box;top: 0;bottom: 0;left: 50%;z-index: 0;}#sk-container-id-1 div.sk-serial {display: flex;flex-direction: column;align-items: center;background-color: white;padding-right: 0.2em;padding-left: 0.2em;position: relative;}#sk-container-id-1 div.sk-item {position: relative;z-index: 1;}#sk-container-id-1 div.sk-parallel {display: flex;align-items: stretch;justify-content: center;background-color: white;position: relative;}#sk-container-id-1 div.sk-item::before, #sk-container-id-1 div.sk-parallel-item::before {content: \"\";position: absolute;border-left: 1px solid gray;box-sizing: border-box;top: 0;bottom: 0;left: 50%;z-index: -1;}#sk-container-id-1 div.sk-parallel-item {display: flex;flex-direction: column;z-index: 1;position: relative;background-color: white;}#sk-container-id-1 div.sk-parallel-item:first-child::after {align-self: flex-end;width: 50%;}#sk-container-id-1 div.sk-parallel-item:last-child::after {align-self: flex-start;width: 50%;}#sk-container-id-1 div.sk-parallel-item:only-child::after {width: 0;}#sk-container-id-1 div.sk-dashed-wrapped {border: 1px dashed gray;margin: 0 0.4em 0.5em 0.4em;box-sizing: border-box;padding-bottom: 0.4em;background-color: white;}#sk-container-id-1 div.sk-label label {font-family: monospace;font-weight: bold;display: inline-block;line-height: 1.2em;}#sk-container-id-1 div.sk-label-container {text-align: center;}#sk-container-id-1 div.sk-container {/* jupyter's `normalize.less` sets `[hidden] { display: none; }` but bootstrap.min.css set `[hidden] { display: none !important; }` so we also need the `!important` here to be able to override the default hidden behavior on the sphinx rendered scikit-learn.org. See: https://github.com/scikit-learn/scikit-learn/issues/21755 */display: inline-block !important;position: relative;}#sk-container-id-1 div.sk-text-repr-fallback {display: none;}</style><div id=\"sk-container-id-1\" class=\"sk-top-container\"><div class=\"sk-text-repr-fallback\"><pre>Pipeline(steps=[(&#x27;tfidf&#x27;, TfidfVectorizer()), (&#x27;clf&#x27;, MultinomialNB())])</pre><b>In a Jupyter environment, please rerun this cell to show the HTML representation or trust the notebook. <br />On GitHub, the HTML representation is unable to render, please try loading this page with nbviewer.org.</b></div><div class=\"sk-container\" hidden><div class=\"sk-item sk-dashed-wrapped\"><div class=\"sk-label-container\"><div class=\"sk-label sk-toggleable\"><input class=\"sk-toggleable__control sk-hidden--visually\" id=\"sk-estimator-id-1\" type=\"checkbox\" ><label for=\"sk-estimator-id-1\" class=\"sk-toggleable__label sk-toggleable__label-arrow\">Pipeline</label><div class=\"sk-toggleable__content\"><pre>Pipeline(steps=[(&#x27;tfidf&#x27;, TfidfVectorizer()), (&#x27;clf&#x27;, MultinomialNB())])</pre></div></div></div><div class=\"sk-serial\"><div class=\"sk-item\"><div class=\"sk-estimator sk-toggleable\"><input class=\"sk-toggleable__control sk-hidden--visually\" id=\"sk-estimator-id-2\" type=\"checkbox\" ><label for=\"sk-estimator-id-2\" class=\"sk-toggleable__label sk-toggleable__label-arrow\">TfidfVectorizer</label><div class=\"sk-toggleable__content\"><pre>TfidfVectorizer()</pre></div></div></div><div class=\"sk-item\"><div class=\"sk-estimator sk-toggleable\"><input class=\"sk-toggleable__control sk-hidden--visually\" id=\"sk-estimator-id-3\" type=\"checkbox\" ><label for=\"sk-estimator-id-3\" class=\"sk-toggleable__label sk-toggleable__label-arrow\">MultinomialNB</label><div class=\"sk-toggleable__content\"><pre>MultinomialNB()</pre></div></div></div></div></div></div></div>"
            ]
          },
          "metadata": {},
          "execution_count": 19
        }
      ],
      "source": [
        "text_clf_nb.fit(X_train, y_train)"
      ]
    },
    {
      "cell_type": "code",
      "execution_count": 20,
      "metadata": {
        "id": "JVRJY7uXtTn-"
      },
      "outputs": [],
      "source": [
        "predictions = text_clf_nb.predict(X_test)\n",
        "# predictions"
      ]
    },
    {
      "cell_type": "code",
      "execution_count": 21,
      "metadata": {
        "colab": {
          "base_uri": "https://localhost:8080/"
        },
        "id": "oosfyggZtb_R",
        "outputId": "53013120-3177-4528-eabf-3ac10902c517"
      },
      "outputs": [
        {
          "output_type": "stream",
          "name": "stdout",
          "text": [
            "[[303  19]\n",
            " [114 213]]\n"
          ]
        }
      ],
      "source": [
        "from sklearn import metrics\n",
        "print(metrics.confusion_matrix(y_test,predictions))"
      ]
    },
    {
      "cell_type": "code",
      "execution_count": 22,
      "metadata": {
        "colab": {
          "base_uri": "https://localhost:8080/"
        },
        "id": "iTC3iqdVtdKt",
        "outputId": "cb55898e-31cd-44e0-fb24-6f03b2fc2a8c"
      },
      "outputs": [
        {
          "output_type": "stream",
          "name": "stdout",
          "text": [
            "              precision    recall  f1-score   support\n",
            "\n",
            "         neg       0.73      0.94      0.82       322\n",
            "         pos       0.92      0.65      0.76       327\n",
            "\n",
            "    accuracy                           0.80       649\n",
            "   macro avg       0.82      0.80      0.79       649\n",
            "weighted avg       0.82      0.80      0.79       649\n",
            "\n"
          ]
        }
      ],
      "source": [
        "print(metrics.classification_report(y_test,predictions))"
      ]
    },
    {
      "cell_type": "code",
      "execution_count": 23,
      "metadata": {
        "colab": {
          "base_uri": "https://localhost:8080/"
        },
        "id": "WwQwO_KAthoV",
        "outputId": "21466004-c3d8-4558-949e-205d5b71f46f"
      },
      "outputs": [
        {
          "output_type": "stream",
          "name": "stdout",
          "text": [
            "0.7950693374422187\n"
          ]
        }
      ],
      "source": [
        "print(metrics.accuracy_score(y_test,predictions))"
      ]
    },
    {
      "cell_type": "code",
      "execution_count": 24,
      "metadata": {
        "colab": {
          "base_uri": "https://localhost:8080/",
          "height": 126
        },
        "id": "0BdZhSLQtlae",
        "outputId": "235ab6ec-7c71-4338-b565-f7c2d33faeed"
      },
      "outputs": [
        {
          "output_type": "execute_result",
          "data": {
            "text/plain": [
              "Pipeline(steps=[('tfidf', TfidfVectorizer()), ('clf', LinearSVC())])"
            ],
            "text/html": [
              "<style>#sk-container-id-2 {color: black;background-color: white;}#sk-container-id-2 pre{padding: 0;}#sk-container-id-2 div.sk-toggleable {background-color: white;}#sk-container-id-2 label.sk-toggleable__label {cursor: pointer;display: block;width: 100%;margin-bottom: 0;padding: 0.3em;box-sizing: border-box;text-align: center;}#sk-container-id-2 label.sk-toggleable__label-arrow:before {content: \"▸\";float: left;margin-right: 0.25em;color: #696969;}#sk-container-id-2 label.sk-toggleable__label-arrow:hover:before {color: black;}#sk-container-id-2 div.sk-estimator:hover label.sk-toggleable__label-arrow:before {color: black;}#sk-container-id-2 div.sk-toggleable__content {max-height: 0;max-width: 0;overflow: hidden;text-align: left;background-color: #f0f8ff;}#sk-container-id-2 div.sk-toggleable__content pre {margin: 0.2em;color: black;border-radius: 0.25em;background-color: #f0f8ff;}#sk-container-id-2 input.sk-toggleable__control:checked~div.sk-toggleable__content {max-height: 200px;max-width: 100%;overflow: auto;}#sk-container-id-2 input.sk-toggleable__control:checked~label.sk-toggleable__label-arrow:before {content: \"▾\";}#sk-container-id-2 div.sk-estimator input.sk-toggleable__control:checked~label.sk-toggleable__label {background-color: #d4ebff;}#sk-container-id-2 div.sk-label input.sk-toggleable__control:checked~label.sk-toggleable__label {background-color: #d4ebff;}#sk-container-id-2 input.sk-hidden--visually {border: 0;clip: rect(1px 1px 1px 1px);clip: rect(1px, 1px, 1px, 1px);height: 1px;margin: -1px;overflow: hidden;padding: 0;position: absolute;width: 1px;}#sk-container-id-2 div.sk-estimator {font-family: monospace;background-color: #f0f8ff;border: 1px dotted black;border-radius: 0.25em;box-sizing: border-box;margin-bottom: 0.5em;}#sk-container-id-2 div.sk-estimator:hover {background-color: #d4ebff;}#sk-container-id-2 div.sk-parallel-item::after {content: \"\";width: 100%;border-bottom: 1px solid gray;flex-grow: 1;}#sk-container-id-2 div.sk-label:hover label.sk-toggleable__label {background-color: #d4ebff;}#sk-container-id-2 div.sk-serial::before {content: \"\";position: absolute;border-left: 1px solid gray;box-sizing: border-box;top: 0;bottom: 0;left: 50%;z-index: 0;}#sk-container-id-2 div.sk-serial {display: flex;flex-direction: column;align-items: center;background-color: white;padding-right: 0.2em;padding-left: 0.2em;position: relative;}#sk-container-id-2 div.sk-item {position: relative;z-index: 1;}#sk-container-id-2 div.sk-parallel {display: flex;align-items: stretch;justify-content: center;background-color: white;position: relative;}#sk-container-id-2 div.sk-item::before, #sk-container-id-2 div.sk-parallel-item::before {content: \"\";position: absolute;border-left: 1px solid gray;box-sizing: border-box;top: 0;bottom: 0;left: 50%;z-index: -1;}#sk-container-id-2 div.sk-parallel-item {display: flex;flex-direction: column;z-index: 1;position: relative;background-color: white;}#sk-container-id-2 div.sk-parallel-item:first-child::after {align-self: flex-end;width: 50%;}#sk-container-id-2 div.sk-parallel-item:last-child::after {align-self: flex-start;width: 50%;}#sk-container-id-2 div.sk-parallel-item:only-child::after {width: 0;}#sk-container-id-2 div.sk-dashed-wrapped {border: 1px dashed gray;margin: 0 0.4em 0.5em 0.4em;box-sizing: border-box;padding-bottom: 0.4em;background-color: white;}#sk-container-id-2 div.sk-label label {font-family: monospace;font-weight: bold;display: inline-block;line-height: 1.2em;}#sk-container-id-2 div.sk-label-container {text-align: center;}#sk-container-id-2 div.sk-container {/* jupyter's `normalize.less` sets `[hidden] { display: none; }` but bootstrap.min.css set `[hidden] { display: none !important; }` so we also need the `!important` here to be able to override the default hidden behavior on the sphinx rendered scikit-learn.org. See: https://github.com/scikit-learn/scikit-learn/issues/21755 */display: inline-block !important;position: relative;}#sk-container-id-2 div.sk-text-repr-fallback {display: none;}</style><div id=\"sk-container-id-2\" class=\"sk-top-container\"><div class=\"sk-text-repr-fallback\"><pre>Pipeline(steps=[(&#x27;tfidf&#x27;, TfidfVectorizer()), (&#x27;clf&#x27;, LinearSVC())])</pre><b>In a Jupyter environment, please rerun this cell to show the HTML representation or trust the notebook. <br />On GitHub, the HTML representation is unable to render, please try loading this page with nbviewer.org.</b></div><div class=\"sk-container\" hidden><div class=\"sk-item sk-dashed-wrapped\"><div class=\"sk-label-container\"><div class=\"sk-label sk-toggleable\"><input class=\"sk-toggleable__control sk-hidden--visually\" id=\"sk-estimator-id-4\" type=\"checkbox\" ><label for=\"sk-estimator-id-4\" class=\"sk-toggleable__label sk-toggleable__label-arrow\">Pipeline</label><div class=\"sk-toggleable__content\"><pre>Pipeline(steps=[(&#x27;tfidf&#x27;, TfidfVectorizer()), (&#x27;clf&#x27;, LinearSVC())])</pre></div></div></div><div class=\"sk-serial\"><div class=\"sk-item\"><div class=\"sk-estimator sk-toggleable\"><input class=\"sk-toggleable__control sk-hidden--visually\" id=\"sk-estimator-id-5\" type=\"checkbox\" ><label for=\"sk-estimator-id-5\" class=\"sk-toggleable__label sk-toggleable__label-arrow\">TfidfVectorizer</label><div class=\"sk-toggleable__content\"><pre>TfidfVectorizer()</pre></div></div></div><div class=\"sk-item\"><div class=\"sk-estimator sk-toggleable\"><input class=\"sk-toggleable__control sk-hidden--visually\" id=\"sk-estimator-id-6\" type=\"checkbox\" ><label for=\"sk-estimator-id-6\" class=\"sk-toggleable__label sk-toggleable__label-arrow\">LinearSVC</label><div class=\"sk-toggleable__content\"><pre>LinearSVC()</pre></div></div></div></div></div></div></div>"
            ]
          },
          "metadata": {},
          "execution_count": 24
        }
      ],
      "source": [
        "text_clf_lsvc.fit(X_train, y_train)"
      ]
    },
    {
      "cell_type": "code",
      "execution_count": 25,
      "metadata": {
        "id": "AL-ttFK-tqe9"
      },
      "outputs": [],
      "source": [
        "predictions = text_clf_lsvc.predict(X_test)"
      ]
    },
    {
      "cell_type": "code",
      "execution_count": 26,
      "metadata": {
        "colab": {
          "base_uri": "https://localhost:8080/"
        },
        "id": "VESQP-pRttAv",
        "outputId": "9800b6d7-b2dd-45a2-c3b6-0e23f36aff58"
      },
      "outputs": [
        {
          "output_type": "stream",
          "name": "stdout",
          "text": [
            "[[281  41]\n",
            " [ 56 271]]\n"
          ]
        }
      ],
      "source": [
        "print(metrics.confusion_matrix(y_test,predictions))"
      ]
    },
    {
      "cell_type": "code",
      "execution_count": 27,
      "metadata": {
        "colab": {
          "base_uri": "https://localhost:8080/"
        },
        "id": "2afxbQqktxC5",
        "outputId": "2fdbdd89-bf57-4f5a-a65f-79b16f279152"
      },
      "outputs": [
        {
          "output_type": "stream",
          "name": "stdout",
          "text": [
            "0.8505392912172574\n"
          ]
        }
      ],
      "source": [
        "print(metrics.accuracy_score(y_test,predictions))"
      ]
    },
    {
      "cell_type": "code",
      "execution_count": 28,
      "metadata": {
        "id": "KCtoc9gRt1uf"
      },
      "outputs": [],
      "source": [
        "stopwords = ['a', 'about', 'an', 'and', 'are', 'as', 'at', 'be', 'been', 'but', 'by', 'can', \\\n",
        "             'even', 'ever', 'for', 'from', 'get', 'had', 'has', 'have', 'he', 'her', 'hers', 'his', \\\n",
        "             'how', 'i', 'if', 'in', 'into', 'is', 'it', 'its', 'just', 'me', 'my', 'of', 'on', 'or', \\\n",
        "             'see', 'seen', 'she', 'so', 'than', 'that', 'the', 'their', 'there', 'they', 'this', \\\n",
        "             'to', 'was', 'we', 'were', 'what', 'when', 'which', 'who', 'will', 'with', 'you']"
      ]
    },
    {
      "cell_type": "markdown",
      "metadata": {
        "id": "-uIqEVBgvk3J"
      },
      "source": [
        "### adding stop words to imporve calssification"
      ]
    },
    {
      "cell_type": "code",
      "execution_count": 29,
      "metadata": {
        "colab": {
          "base_uri": "https://localhost:8080/",
          "height": 126
        },
        "id": "hvPOb6uFvdOY",
        "outputId": "3bec09f5-3b57-423a-e0b5-8af4593f37bd"
      },
      "outputs": [
        {
          "output_type": "execute_result",
          "data": {
            "text/plain": [
              "Pipeline(steps=[('tfidf',\n",
              "                 TfidfVectorizer(stop_words=['a', 'about', 'an', 'and', 'are',\n",
              "                                             'as', 'at', 'be', 'been', 'but',\n",
              "                                             'by', 'can', 'even', 'ever', 'for',\n",
              "                                             'from', 'get', 'had', 'has',\n",
              "                                             'have', 'he', 'her', 'hers', 'his',\n",
              "                                             'how', 'i', 'if', 'in', 'into',\n",
              "                                             'is', ...])),\n",
              "                ('clf', LinearSVC())])"
            ],
            "text/html": [
              "<style>#sk-container-id-3 {color: black;background-color: white;}#sk-container-id-3 pre{padding: 0;}#sk-container-id-3 div.sk-toggleable {background-color: white;}#sk-container-id-3 label.sk-toggleable__label {cursor: pointer;display: block;width: 100%;margin-bottom: 0;padding: 0.3em;box-sizing: border-box;text-align: center;}#sk-container-id-3 label.sk-toggleable__label-arrow:before {content: \"▸\";float: left;margin-right: 0.25em;color: #696969;}#sk-container-id-3 label.sk-toggleable__label-arrow:hover:before {color: black;}#sk-container-id-3 div.sk-estimator:hover label.sk-toggleable__label-arrow:before {color: black;}#sk-container-id-3 div.sk-toggleable__content {max-height: 0;max-width: 0;overflow: hidden;text-align: left;background-color: #f0f8ff;}#sk-container-id-3 div.sk-toggleable__content pre {margin: 0.2em;color: black;border-radius: 0.25em;background-color: #f0f8ff;}#sk-container-id-3 input.sk-toggleable__control:checked~div.sk-toggleable__content {max-height: 200px;max-width: 100%;overflow: auto;}#sk-container-id-3 input.sk-toggleable__control:checked~label.sk-toggleable__label-arrow:before {content: \"▾\";}#sk-container-id-3 div.sk-estimator input.sk-toggleable__control:checked~label.sk-toggleable__label {background-color: #d4ebff;}#sk-container-id-3 div.sk-label input.sk-toggleable__control:checked~label.sk-toggleable__label {background-color: #d4ebff;}#sk-container-id-3 input.sk-hidden--visually {border: 0;clip: rect(1px 1px 1px 1px);clip: rect(1px, 1px, 1px, 1px);height: 1px;margin: -1px;overflow: hidden;padding: 0;position: absolute;width: 1px;}#sk-container-id-3 div.sk-estimator {font-family: monospace;background-color: #f0f8ff;border: 1px dotted black;border-radius: 0.25em;box-sizing: border-box;margin-bottom: 0.5em;}#sk-container-id-3 div.sk-estimator:hover {background-color: #d4ebff;}#sk-container-id-3 div.sk-parallel-item::after {content: \"\";width: 100%;border-bottom: 1px solid gray;flex-grow: 1;}#sk-container-id-3 div.sk-label:hover label.sk-toggleable__label {background-color: #d4ebff;}#sk-container-id-3 div.sk-serial::before {content: \"\";position: absolute;border-left: 1px solid gray;box-sizing: border-box;top: 0;bottom: 0;left: 50%;z-index: 0;}#sk-container-id-3 div.sk-serial {display: flex;flex-direction: column;align-items: center;background-color: white;padding-right: 0.2em;padding-left: 0.2em;position: relative;}#sk-container-id-3 div.sk-item {position: relative;z-index: 1;}#sk-container-id-3 div.sk-parallel {display: flex;align-items: stretch;justify-content: center;background-color: white;position: relative;}#sk-container-id-3 div.sk-item::before, #sk-container-id-3 div.sk-parallel-item::before {content: \"\";position: absolute;border-left: 1px solid gray;box-sizing: border-box;top: 0;bottom: 0;left: 50%;z-index: -1;}#sk-container-id-3 div.sk-parallel-item {display: flex;flex-direction: column;z-index: 1;position: relative;background-color: white;}#sk-container-id-3 div.sk-parallel-item:first-child::after {align-self: flex-end;width: 50%;}#sk-container-id-3 div.sk-parallel-item:last-child::after {align-self: flex-start;width: 50%;}#sk-container-id-3 div.sk-parallel-item:only-child::after {width: 0;}#sk-container-id-3 div.sk-dashed-wrapped {border: 1px dashed gray;margin: 0 0.4em 0.5em 0.4em;box-sizing: border-box;padding-bottom: 0.4em;background-color: white;}#sk-container-id-3 div.sk-label label {font-family: monospace;font-weight: bold;display: inline-block;line-height: 1.2em;}#sk-container-id-3 div.sk-label-container {text-align: center;}#sk-container-id-3 div.sk-container {/* jupyter's `normalize.less` sets `[hidden] { display: none; }` but bootstrap.min.css set `[hidden] { display: none !important; }` so we also need the `!important` here to be able to override the default hidden behavior on the sphinx rendered scikit-learn.org. See: https://github.com/scikit-learn/scikit-learn/issues/21755 */display: inline-block !important;position: relative;}#sk-container-id-3 div.sk-text-repr-fallback {display: none;}</style><div id=\"sk-container-id-3\" class=\"sk-top-container\"><div class=\"sk-text-repr-fallback\"><pre>Pipeline(steps=[(&#x27;tfidf&#x27;,\n",
              "                 TfidfVectorizer(stop_words=[&#x27;a&#x27;, &#x27;about&#x27;, &#x27;an&#x27;, &#x27;and&#x27;, &#x27;are&#x27;,\n",
              "                                             &#x27;as&#x27;, &#x27;at&#x27;, &#x27;be&#x27;, &#x27;been&#x27;, &#x27;but&#x27;,\n",
              "                                             &#x27;by&#x27;, &#x27;can&#x27;, &#x27;even&#x27;, &#x27;ever&#x27;, &#x27;for&#x27;,\n",
              "                                             &#x27;from&#x27;, &#x27;get&#x27;, &#x27;had&#x27;, &#x27;has&#x27;,\n",
              "                                             &#x27;have&#x27;, &#x27;he&#x27;, &#x27;her&#x27;, &#x27;hers&#x27;, &#x27;his&#x27;,\n",
              "                                             &#x27;how&#x27;, &#x27;i&#x27;, &#x27;if&#x27;, &#x27;in&#x27;, &#x27;into&#x27;,\n",
              "                                             &#x27;is&#x27;, ...])),\n",
              "                (&#x27;clf&#x27;, LinearSVC())])</pre><b>In a Jupyter environment, please rerun this cell to show the HTML representation or trust the notebook. <br />On GitHub, the HTML representation is unable to render, please try loading this page with nbviewer.org.</b></div><div class=\"sk-container\" hidden><div class=\"sk-item sk-dashed-wrapped\"><div class=\"sk-label-container\"><div class=\"sk-label sk-toggleable\"><input class=\"sk-toggleable__control sk-hidden--visually\" id=\"sk-estimator-id-7\" type=\"checkbox\" ><label for=\"sk-estimator-id-7\" class=\"sk-toggleable__label sk-toggleable__label-arrow\">Pipeline</label><div class=\"sk-toggleable__content\"><pre>Pipeline(steps=[(&#x27;tfidf&#x27;,\n",
              "                 TfidfVectorizer(stop_words=[&#x27;a&#x27;, &#x27;about&#x27;, &#x27;an&#x27;, &#x27;and&#x27;, &#x27;are&#x27;,\n",
              "                                             &#x27;as&#x27;, &#x27;at&#x27;, &#x27;be&#x27;, &#x27;been&#x27;, &#x27;but&#x27;,\n",
              "                                             &#x27;by&#x27;, &#x27;can&#x27;, &#x27;even&#x27;, &#x27;ever&#x27;, &#x27;for&#x27;,\n",
              "                                             &#x27;from&#x27;, &#x27;get&#x27;, &#x27;had&#x27;, &#x27;has&#x27;,\n",
              "                                             &#x27;have&#x27;, &#x27;he&#x27;, &#x27;her&#x27;, &#x27;hers&#x27;, &#x27;his&#x27;,\n",
              "                                             &#x27;how&#x27;, &#x27;i&#x27;, &#x27;if&#x27;, &#x27;in&#x27;, &#x27;into&#x27;,\n",
              "                                             &#x27;is&#x27;, ...])),\n",
              "                (&#x27;clf&#x27;, LinearSVC())])</pre></div></div></div><div class=\"sk-serial\"><div class=\"sk-item\"><div class=\"sk-estimator sk-toggleable\"><input class=\"sk-toggleable__control sk-hidden--visually\" id=\"sk-estimator-id-8\" type=\"checkbox\" ><label for=\"sk-estimator-id-8\" class=\"sk-toggleable__label sk-toggleable__label-arrow\">TfidfVectorizer</label><div class=\"sk-toggleable__content\"><pre>TfidfVectorizer(stop_words=[&#x27;a&#x27;, &#x27;about&#x27;, &#x27;an&#x27;, &#x27;and&#x27;, &#x27;are&#x27;, &#x27;as&#x27;, &#x27;at&#x27;, &#x27;be&#x27;,\n",
              "                            &#x27;been&#x27;, &#x27;but&#x27;, &#x27;by&#x27;, &#x27;can&#x27;, &#x27;even&#x27;, &#x27;ever&#x27;, &#x27;for&#x27;,\n",
              "                            &#x27;from&#x27;, &#x27;get&#x27;, &#x27;had&#x27;, &#x27;has&#x27;, &#x27;have&#x27;, &#x27;he&#x27;, &#x27;her&#x27;,\n",
              "                            &#x27;hers&#x27;, &#x27;his&#x27;, &#x27;how&#x27;, &#x27;i&#x27;, &#x27;if&#x27;, &#x27;in&#x27;, &#x27;into&#x27;, &#x27;is&#x27;, ...])</pre></div></div></div><div class=\"sk-item\"><div class=\"sk-estimator sk-toggleable\"><input class=\"sk-toggleable__control sk-hidden--visually\" id=\"sk-estimator-id-9\" type=\"checkbox\" ><label for=\"sk-estimator-id-9\" class=\"sk-toggleable__label sk-toggleable__label-arrow\">LinearSVC</label><div class=\"sk-toggleable__content\"><pre>LinearSVC()</pre></div></div></div></div></div></div></div>"
            ]
          },
          "metadata": {},
          "execution_count": 29
        }
      ],
      "source": [
        "text_clf_lsvc2 = Pipeline([('tfidf', TfidfVectorizer(stop_words=stopwords)),\n",
        "                     ('clf', LinearSVC()),\n",
        "])\n",
        "text_clf_lsvc2.fit(X_train, y_train)"
      ]
    },
    {
      "cell_type": "code",
      "execution_count": 30,
      "metadata": {
        "colab": {
          "base_uri": "https://localhost:8080/"
        },
        "id": "LjenP9rxv0Dy",
        "outputId": "c4d04d32-058f-4219-95bb-c39092fa0ad6"
      },
      "outputs": [
        {
          "output_type": "stream",
          "name": "stdout",
          "text": [
            "[[278  44]\n",
            " [ 54 273]]\n"
          ]
        }
      ],
      "source": [
        "predictions = text_clf_lsvc2.predict(X_test)\n",
        "print(metrics.confusion_matrix(y_test,predictions))"
      ]
    },
    {
      "cell_type": "code",
      "execution_count": 31,
      "metadata": {
        "colab": {
          "base_uri": "https://localhost:8080/"
        },
        "id": "-BtUtLP6v0uo",
        "outputId": "73027ec3-9406-4648-ae32-ceef8bffc1bf"
      },
      "outputs": [
        {
          "output_type": "stream",
          "name": "stdout",
          "text": [
            "              precision    recall  f1-score   support\n",
            "\n",
            "         neg       0.84      0.86      0.85       322\n",
            "         pos       0.86      0.83      0.85       327\n",
            "\n",
            "    accuracy                           0.85       649\n",
            "   macro avg       0.85      0.85      0.85       649\n",
            "weighted avg       0.85      0.85      0.85       649\n",
            "\n"
          ]
        }
      ],
      "source": [
        "print(metrics.classification_report(y_test,predictions))"
      ]
    },
    {
      "cell_type": "code",
      "execution_count": 32,
      "metadata": {
        "colab": {
          "base_uri": "https://localhost:8080/"
        },
        "id": "3VmJ3y4Rv3xx",
        "outputId": "f73309a0-942d-4225-ac26-0d89bd725318"
      },
      "outputs": [
        {
          "output_type": "stream",
          "name": "stdout",
          "text": [
            "0.8489984591679507\n"
          ]
        }
      ],
      "source": [
        "print(metrics.accuracy_score(y_test,predictions))"
      ]
    },
    {
      "cell_type": "code",
      "execution_count": 33,
      "metadata": {
        "id": "pk2avY-Ev6xR"
      },
      "outputs": [],
      "source": [
        "myreview1 = \"A movie I really wanted to love was terrible. \\\n",
        "I'm sure the producers had the best intentions, but the execution was lacking.\""
      ]
    },
    {
      "cell_type": "code",
      "execution_count": 34,
      "metadata": {
        "id": "N4wq83NYwRlv"
      },
      "outputs": [],
      "source": [
        "myreview2 = \"as a thriller movie fan i was looking for a movie that is full of thrill and this movie \\\n",
        "did not dissapoint me. though i thought it won't meet my expection but i was wrong.\""
      ]
    },
    {
      "cell_type": "code",
      "execution_count": 35,
      "metadata": {
        "id": "-n2ehqeY0v-F"
      },
      "outputs": [],
      "source": [
        "myreview3 = \"Marvel's 'Avengers: Endgame' is a breathtaking cinematic masterpiece that beautifully wraps up over a decade of storytelling. \\\n",
        " The movie impressively weaves together multiple story arcs, delivering an emotional and action-packed experience. \\\n",
        "  With stunning visual effects, compelling character development, and an epic conclusion,\\\n",
        "   it's a must-watch for every fan of the Marvel Cinematic Universe.\""
      ]
    },
    {
      "cell_type": "code",
      "execution_count": 36,
      "metadata": {
        "colab": {
          "base_uri": "https://localhost:8080/"
        },
        "id": "oP0xBKuVwHHL",
        "outputId": "d327c348-0e45-42db-f7f0-e851728d1464"
      },
      "outputs": [
        {
          "output_type": "stream",
          "name": "stdout",
          "text": [
            "['neg']\n",
            "['neg']\n",
            "['pos']\n"
          ]
        }
      ],
      "source": [
        "print(text_clf_nb.predict([myreview1]))\n",
        "print(text_clf_lsvc2.predict([myreview2]))\n",
        "print(text_clf_lsvc2.predict([myreview3]))"
      ]
    },
    {
      "cell_type": "code",
      "execution_count": 37,
      "metadata": {
        "id": "JU_0tJMNzzYL"
      },
      "outputs": [],
      "source": [
        "### Using lemmatization for performence improvement"
      ]
    },
    {
      "cell_type": "code",
      "execution_count": 38,
      "metadata": {
        "colab": {
          "base_uri": "https://localhost:8080/"
        },
        "id": "qo1vLVdowtOQ",
        "outputId": "ef6a45a1-b6de-4502-b0f1-f679fd86443b"
      },
      "outputs": [
        {
          "output_type": "stream",
          "name": "stdout",
          "text": [
            "[[264  58]\n",
            " [ 55 272]]\n",
            "              precision    recall  f1-score   support\n",
            "\n",
            "         neg       0.83      0.82      0.82       322\n",
            "         pos       0.82      0.83      0.83       327\n",
            "\n",
            "    accuracy                           0.83       649\n",
            "   macro avg       0.83      0.83      0.83       649\n",
            "weighted avg       0.83      0.83      0.83       649\n",
            "\n",
            "0.8258859784283513\n"
          ]
        }
      ],
      "source": [
        "import spacy\n",
        "\n",
        "# Load Spacy's English model\n",
        "nlp = spacy.load('en_core_web_sm', disable=['parser', 'ner'])\n",
        "\n",
        "# Lemmatization and stopwords\n",
        "def spacy_lemmatize(text):\n",
        "    return ' '.join([token.lemma_ for token in nlp(text) if not token.is_stop])\n",
        "\n",
        "# Applying Lemmatization and custom stopwords\n",
        "X_train_lemmatized = [spacy_lemmatize(text) for text in X_train]\n",
        "X_test_lemmatized = [spacy_lemmatize(text) for text in X_test]\n",
        "\n",
        "# Updating the model pipeline with Lemmatized text\n",
        "text_clf_lsvc3 = Pipeline([\n",
        "    ('tfidf', TfidfVectorizer()),\n",
        "    ('clf', LinearSVC())\n",
        "])\n",
        "\n",
        "text_clf_lsvc3.fit(X_train_lemmatized, y_train)\n",
        "\n",
        "predictions = text_clf_lsvc3.predict(X_test_lemmatized)\n",
        "\n",
        "print(metrics.confusion_matrix(y_test, predictions))\n",
        "print(metrics.classification_report(y_test, predictions))\n",
        "print(metrics.accuracy_score(y_test, predictions))\n"
      ]
    },
    {
      "cell_type": "code",
      "execution_count": 39,
      "metadata": {
        "colab": {
          "base_uri": "https://localhost:8080/"
        },
        "id": "cuKOmEIK0Q5P",
        "outputId": "d96d31da-4b9e-433a-a24f-3b510bbdcc02"
      },
      "outputs": [
        {
          "output_type": "stream",
          "name": "stdout",
          "text": [
            "['neg']\n",
            "['neg']\n",
            "['pos']\n"
          ]
        }
      ],
      "source": [
        "print(text_clf_lsvc3.predict([myreview1]))\n",
        "print(text_clf_lsvc3.predict([myreview2])) #it should be posative\n",
        "print(text_clf_lsvc3.predict([myreview3]))"
      ]
    },
    {
      "cell_type": "markdown",
      "metadata": {
        "id": "Vn_eH2NqaB47"
      },
      "source": [
        "### semantic and sentiment analysis"
      ]
    },
    {
      "cell_type": "code",
      "execution_count": 40,
      "metadata": {
        "colab": {
          "base_uri": "https://localhost:8080/"
        },
        "id": "HzUM2fZuaRFg",
        "outputId": "c748d58a-b6e4-4750-9633-8cd2fc318b51"
      },
      "outputs": [
        {
          "output_type": "stream",
          "name": "stdout",
          "text": [
            "2024-01-02 14:23:12.836458: E external/local_xla/xla/stream_executor/cuda/cuda_dnn.cc:9261] Unable to register cuDNN factory: Attempting to register factory for plugin cuDNN when one has already been registered\n",
            "2024-01-02 14:23:12.836510: E external/local_xla/xla/stream_executor/cuda/cuda_fft.cc:607] Unable to register cuFFT factory: Attempting to register factory for plugin cuFFT when one has already been registered\n",
            "2024-01-02 14:23:12.838240: E external/local_xla/xla/stream_executor/cuda/cuda_blas.cc:1515] Unable to register cuBLAS factory: Attempting to register factory for plugin cuBLAS when one has already been registered\n",
            "2024-01-02 14:23:13.886944: W tensorflow/compiler/tf2tensorrt/utils/py_utils.cc:38] TF-TRT Warning: Could not find TensorRT\n",
            "Collecting en-core-web-lg==3.6.0\n",
            "  Downloading https://github.com/explosion/spacy-models/releases/download/en_core_web_lg-3.6.0/en_core_web_lg-3.6.0-py3-none-any.whl (587.7 MB)\n",
            "\u001b[2K     \u001b[90m━━━━━━━━━━━━━━━━━━━━━━━━━━━━━━━━━━━━━━━━\u001b[0m \u001b[32m587.7/587.7 MB\u001b[0m \u001b[31m1.3 MB/s\u001b[0m eta \u001b[36m0:00:00\u001b[0m\n",
            "\u001b[?25hRequirement already satisfied: spacy<3.7.0,>=3.6.0 in /usr/local/lib/python3.10/dist-packages (from en-core-web-lg==3.6.0) (3.6.1)\n",
            "Requirement already satisfied: spacy-legacy<3.1.0,>=3.0.11 in /usr/local/lib/python3.10/dist-packages (from spacy<3.7.0,>=3.6.0->en-core-web-lg==3.6.0) (3.0.12)\n",
            "Requirement already satisfied: spacy-loggers<2.0.0,>=1.0.0 in /usr/local/lib/python3.10/dist-packages (from spacy<3.7.0,>=3.6.0->en-core-web-lg==3.6.0) (1.0.5)\n",
            "Requirement already satisfied: murmurhash<1.1.0,>=0.28.0 in /usr/local/lib/python3.10/dist-packages (from spacy<3.7.0,>=3.6.0->en-core-web-lg==3.6.0) (1.0.10)\n",
            "Requirement already satisfied: cymem<2.1.0,>=2.0.2 in /usr/local/lib/python3.10/dist-packages (from spacy<3.7.0,>=3.6.0->en-core-web-lg==3.6.0) (2.0.8)\n",
            "Requirement already satisfied: preshed<3.1.0,>=3.0.2 in /usr/local/lib/python3.10/dist-packages (from spacy<3.7.0,>=3.6.0->en-core-web-lg==3.6.0) (3.0.9)\n",
            "Requirement already satisfied: thinc<8.2.0,>=8.1.8 in /usr/local/lib/python3.10/dist-packages (from spacy<3.7.0,>=3.6.0->en-core-web-lg==3.6.0) (8.1.12)\n",
            "Requirement already satisfied: wasabi<1.2.0,>=0.9.1 in /usr/local/lib/python3.10/dist-packages (from spacy<3.7.0,>=3.6.0->en-core-web-lg==3.6.0) (1.1.2)\n",
            "Requirement already satisfied: srsly<3.0.0,>=2.4.3 in /usr/local/lib/python3.10/dist-packages (from spacy<3.7.0,>=3.6.0->en-core-web-lg==3.6.0) (2.4.8)\n",
            "Requirement already satisfied: catalogue<2.1.0,>=2.0.6 in /usr/local/lib/python3.10/dist-packages (from spacy<3.7.0,>=3.6.0->en-core-web-lg==3.6.0) (2.0.10)\n",
            "Requirement already satisfied: typer<0.10.0,>=0.3.0 in /usr/local/lib/python3.10/dist-packages (from spacy<3.7.0,>=3.6.0->en-core-web-lg==3.6.0) (0.9.0)\n",
            "Requirement already satisfied: pathy>=0.10.0 in /usr/local/lib/python3.10/dist-packages (from spacy<3.7.0,>=3.6.0->en-core-web-lg==3.6.0) (0.10.3)\n",
            "Requirement already satisfied: smart-open<7.0.0,>=5.2.1 in /usr/local/lib/python3.10/dist-packages (from spacy<3.7.0,>=3.6.0->en-core-web-lg==3.6.0) (6.4.0)\n",
            "Requirement already satisfied: tqdm<5.0.0,>=4.38.0 in /usr/local/lib/python3.10/dist-packages (from spacy<3.7.0,>=3.6.0->en-core-web-lg==3.6.0) (4.66.1)\n",
            "Requirement already satisfied: numpy>=1.15.0 in /usr/local/lib/python3.10/dist-packages (from spacy<3.7.0,>=3.6.0->en-core-web-lg==3.6.0) (1.23.5)\n",
            "Requirement already satisfied: requests<3.0.0,>=2.13.0 in /usr/local/lib/python3.10/dist-packages (from spacy<3.7.0,>=3.6.0->en-core-web-lg==3.6.0) (2.31.0)\n",
            "Requirement already satisfied: pydantic!=1.8,!=1.8.1,<3.0.0,>=1.7.4 in /usr/local/lib/python3.10/dist-packages (from spacy<3.7.0,>=3.6.0->en-core-web-lg==3.6.0) (1.10.13)\n",
            "Requirement already satisfied: jinja2 in /usr/local/lib/python3.10/dist-packages (from spacy<3.7.0,>=3.6.0->en-core-web-lg==3.6.0) (3.1.2)\n",
            "Requirement already satisfied: setuptools in /usr/local/lib/python3.10/dist-packages (from spacy<3.7.0,>=3.6.0->en-core-web-lg==3.6.0) (67.7.2)\n",
            "Requirement already satisfied: packaging>=20.0 in /usr/local/lib/python3.10/dist-packages (from spacy<3.7.0,>=3.6.0->en-core-web-lg==3.6.0) (23.2)\n",
            "Requirement already satisfied: langcodes<4.0.0,>=3.2.0 in /usr/local/lib/python3.10/dist-packages (from spacy<3.7.0,>=3.6.0->en-core-web-lg==3.6.0) (3.3.0)\n",
            "Requirement already satisfied: typing-extensions>=4.2.0 in /usr/local/lib/python3.10/dist-packages (from pydantic!=1.8,!=1.8.1,<3.0.0,>=1.7.4->spacy<3.7.0,>=3.6.0->en-core-web-lg==3.6.0) (4.5.0)\n",
            "Requirement already satisfied: charset-normalizer<4,>=2 in /usr/local/lib/python3.10/dist-packages (from requests<3.0.0,>=2.13.0->spacy<3.7.0,>=3.6.0->en-core-web-lg==3.6.0) (3.3.2)\n",
            "Requirement already satisfied: idna<4,>=2.5 in /usr/local/lib/python3.10/dist-packages (from requests<3.0.0,>=2.13.0->spacy<3.7.0,>=3.6.0->en-core-web-lg==3.6.0) (3.6)\n",
            "Requirement already satisfied: urllib3<3,>=1.21.1 in /usr/local/lib/python3.10/dist-packages (from requests<3.0.0,>=2.13.0->spacy<3.7.0,>=3.6.0->en-core-web-lg==3.6.0) (2.0.7)\n",
            "Requirement already satisfied: certifi>=2017.4.17 in /usr/local/lib/python3.10/dist-packages (from requests<3.0.0,>=2.13.0->spacy<3.7.0,>=3.6.0->en-core-web-lg==3.6.0) (2023.11.17)\n",
            "Requirement already satisfied: blis<0.8.0,>=0.7.8 in /usr/local/lib/python3.10/dist-packages (from thinc<8.2.0,>=8.1.8->spacy<3.7.0,>=3.6.0->en-core-web-lg==3.6.0) (0.7.11)\n",
            "Requirement already satisfied: confection<1.0.0,>=0.0.1 in /usr/local/lib/python3.10/dist-packages (from thinc<8.2.0,>=8.1.8->spacy<3.7.0,>=3.6.0->en-core-web-lg==3.6.0) (0.1.4)\n",
            "Requirement already satisfied: click<9.0.0,>=7.1.1 in /usr/local/lib/python3.10/dist-packages (from typer<0.10.0,>=0.3.0->spacy<3.7.0,>=3.6.0->en-core-web-lg==3.6.0) (8.1.7)\n",
            "Requirement already satisfied: MarkupSafe>=2.0 in /usr/local/lib/python3.10/dist-packages (from jinja2->spacy<3.7.0,>=3.6.0->en-core-web-lg==3.6.0) (2.1.3)\n",
            "Installing collected packages: en-core-web-lg\n",
            "Successfully installed en-core-web-lg-3.6.0\n",
            "\u001b[38;5;2m✔ Download and installation successful\u001b[0m\n",
            "You can now load the package via spacy.load('en_core_web_lg')\n"
          ]
        }
      ],
      "source": [
        "!python -m spacy download en_core_web_lg"
      ]
    },
    {
      "cell_type": "code",
      "execution_count": 41,
      "metadata": {
        "id": "EbxWRX8waH4Y"
      },
      "outputs": [],
      "source": [
        "nlp2 = spacy.load('en_core_web_lg',disable=['parser','tagger','ner'])"
      ]
    },
    {
      "cell_type": "code",
      "execution_count": 42,
      "metadata": {
        "id": "nmFJCWyGa7Nx"
      },
      "outputs": [],
      "source": [
        "# nlp2(u'love').vector"
      ]
    },
    {
      "cell_type": "code",
      "execution_count": 43,
      "metadata": {
        "colab": {
          "base_uri": "https://localhost:8080/"
        },
        "id": "TA0GwB0tbtB6",
        "outputId": "762df2cd-ee52-401b-f519-13c217aae5af"
      },
      "outputs": [
        {
          "output_type": "stream",
          "name": "stdout",
          "text": [
            "lion lion 1.0\n",
            "lion cat 0.3854507803916931\n",
            "lion pet 0.20031584799289703\n",
            "cat lion 0.3854507803916931\n",
            "cat cat 1.0\n",
            "cat pet 0.732966423034668\n",
            "pet lion 0.20031584799289703\n",
            "pet cat 0.732966423034668\n",
            "pet pet 1.0\n"
          ]
        },
        {
          "output_type": "stream",
          "name": "stderr",
          "text": [
            "/usr/local/lib/python3.10/dist-packages/spacy/pipeline/lemmatizer.py:211: UserWarning: [W108] The rule-based lemmatizer did not find POS annotation for one or more tokens. Check that your pipeline includes components that assign token.pos, typically 'tagger'+'attribute_ruler' or 'morphologizer'.\n",
            "  warnings.warn(Warnings.W108)\n"
          ]
        }
      ],
      "source": [
        "tokens = nlp2(u'lion cat pet')\n",
        "for i in tokens:\n",
        "  for j in tokens:\n",
        "    print(i.text,j.text,i.similarity(j))"
      ]
    },
    {
      "cell_type": "code",
      "execution_count": 44,
      "metadata": {
        "colab": {
          "base_uri": "https://localhost:8080/"
        },
        "id": "TMLxW6uihExu",
        "outputId": "ee1aae7a-a5da-4f3a-9812-a30a820db301"
      },
      "outputs": [
        {
          "output_type": "stream",
          "name": "stderr",
          "text": [
            "[nltk_data] Downloading package vader_lexicon to /root/nltk_data...\n"
          ]
        },
        {
          "output_type": "execute_result",
          "data": {
            "text/plain": [
              "True"
            ]
          },
          "metadata": {},
          "execution_count": 44
        }
      ],
      "source": [
        "nltk.download('vader_lexicon')"
      ]
    },
    {
      "cell_type": "code",
      "execution_count": 45,
      "metadata": {
        "id": "D_C7LRBSmFgG"
      },
      "outputs": [],
      "source": [
        "from nltk.sentiment.vader import SentimentIntensityAnalyzer"
      ]
    },
    {
      "cell_type": "code",
      "execution_count": 46,
      "metadata": {
        "id": "DUnd7hV4mNTQ"
      },
      "outputs": [],
      "source": [
        "sid = SentimentIntensityAnalyzer()"
      ]
    },
    {
      "cell_type": "code",
      "execution_count": 47,
      "metadata": {
        "colab": {
          "base_uri": "https://localhost:8080/"
        },
        "id": "jfpSiWdtmTtI",
        "outputId": "96e8bf2d-80f9-4ed4-f466-e414434341d0"
      },
      "outputs": [
        {
          "output_type": "execute_result",
          "data": {
            "text/plain": [
              "{'neg': 0.0, 'neu': 0.556, 'pos': 0.444, 'compound': 0.4927}"
            ]
          },
          "metadata": {},
          "execution_count": 47
        }
      ],
      "source": [
        "a = 'this is a fucking good movie'\n",
        "sid.polarity_scores(a)"
      ]
    },
    {
      "cell_type": "code",
      "execution_count": 48,
      "metadata": {
        "colab": {
          "base_uri": "https://localhost:8080/"
        },
        "id": "9jthiFcqm5g1",
        "outputId": "db54f4aa-bf10-4fd8-e414-32f351038171"
      },
      "outputs": [
        {
          "output_type": "execute_result",
          "data": {
            "text/plain": [
              "{'neg': 0.119, 'neu': 0.748, 'pos': 0.132, 'compound': -0.3716}"
            ]
          },
          "metadata": {},
          "execution_count": 48
        }
      ],
      "source": [
        "sid.polarity_scores(myreview2)"
      ]
    },
    {
      "cell_type": "code",
      "execution_count": 49,
      "metadata": {
        "colab": {
          "base_uri": "https://localhost:8080/"
        },
        "id": "VkOYS8ahnfl_",
        "outputId": "41b3908a-2577-44ac-eb2f-f2dd8acb1328"
      },
      "outputs": [
        {
          "output_type": "execute_result",
          "data": {
            "text/plain": [
              "{'neg': 0.098, 'neu': 0.752, 'pos': 0.15, 'compound': 0.9892}"
            ]
          },
          "metadata": {},
          "execution_count": 49
        }
      ],
      "source": [
        "sid.polarity_scores(movie_df.iloc[202]['review'])"
      ]
    },
    {
      "cell_type": "code",
      "execution_count": 50,
      "metadata": {
        "colab": {
          "base_uri": "https://localhost:8080/",
          "height": 363
        },
        "id": "QGZXtuNLoQNZ",
        "outputId": "a0e7479d-603b-475b-f81a-56763e016617"
      },
      "outputs": [
        {
          "output_type": "execute_result",
          "data": {
            "text/plain": [
              "  label                                             review  \\\n",
              "0   neg  how do films like mouse hunt get into theatres...   \n",
              "1   neg  some talented actresses are blessed with a dem...   \n",
              "2   pos  this has been an extraordinary year for austra...   \n",
              "3   pos  according to hollywood movies made in last few...   \n",
              "4   neg  my first press screening of 1998 and already i...   \n",
              "5   neg  to put it bluntly , ed wood would have been pr...   \n",
              "6   neg  synopsis : melissa , a mentally-disturbed woma...   \n",
              "7   neg  tim robbins and martin lawernce team up in thi...   \n",
              "8   neg  in \" gia \" , angelina jolie plays the titular ...   \n",
              "9   neg  in 1990 , the surprise success an unheralded l...   \n",
              "\n",
              "                                              scores  \n",
              "0  {'neg': 0.121, 'neu': 0.778, 'pos': 0.101, 'co...  \n",
              "1  {'neg': 0.12, 'neu': 0.775, 'pos': 0.105, 'com...  \n",
              "2  {'neg': 0.068, 'neu': 0.781, 'pos': 0.15, 'com...  \n",
              "3  {'neg': 0.071, 'neu': 0.782, 'pos': 0.147, 'co...  \n",
              "4  {'neg': 0.091, 'neu': 0.817, 'pos': 0.093, 'co...  \n",
              "5  {'neg': 0.123, 'neu': 0.821, 'pos': 0.056, 'co...  \n",
              "6  {'neg': 0.087, 'neu': 0.742, 'pos': 0.17, 'com...  \n",
              "7  {'neg': 0.118, 'neu': 0.709, 'pos': 0.172, 'co...  \n",
              "8  {'neg': 0.082, 'neu': 0.862, 'pos': 0.056, 'co...  \n",
              "9  {'neg': 0.145, 'neu': 0.728, 'pos': 0.127, 'co...  "
            ],
            "text/html": [
              "\n",
              "  <div id=\"df-60ce1873-1fb7-43b4-957b-57a23faddaf9\" class=\"colab-df-container\">\n",
              "    <div>\n",
              "<style scoped>\n",
              "    .dataframe tbody tr th:only-of-type {\n",
              "        vertical-align: middle;\n",
              "    }\n",
              "\n",
              "    .dataframe tbody tr th {\n",
              "        vertical-align: top;\n",
              "    }\n",
              "\n",
              "    .dataframe thead th {\n",
              "        text-align: right;\n",
              "    }\n",
              "</style>\n",
              "<table border=\"1\" class=\"dataframe\">\n",
              "  <thead>\n",
              "    <tr style=\"text-align: right;\">\n",
              "      <th></th>\n",
              "      <th>label</th>\n",
              "      <th>review</th>\n",
              "      <th>scores</th>\n",
              "    </tr>\n",
              "  </thead>\n",
              "  <tbody>\n",
              "    <tr>\n",
              "      <th>0</th>\n",
              "      <td>neg</td>\n",
              "      <td>how do films like mouse hunt get into theatres...</td>\n",
              "      <td>{'neg': 0.121, 'neu': 0.778, 'pos': 0.101, 'co...</td>\n",
              "    </tr>\n",
              "    <tr>\n",
              "      <th>1</th>\n",
              "      <td>neg</td>\n",
              "      <td>some talented actresses are blessed with a dem...</td>\n",
              "      <td>{'neg': 0.12, 'neu': 0.775, 'pos': 0.105, 'com...</td>\n",
              "    </tr>\n",
              "    <tr>\n",
              "      <th>2</th>\n",
              "      <td>pos</td>\n",
              "      <td>this has been an extraordinary year for austra...</td>\n",
              "      <td>{'neg': 0.068, 'neu': 0.781, 'pos': 0.15, 'com...</td>\n",
              "    </tr>\n",
              "    <tr>\n",
              "      <th>3</th>\n",
              "      <td>pos</td>\n",
              "      <td>according to hollywood movies made in last few...</td>\n",
              "      <td>{'neg': 0.071, 'neu': 0.782, 'pos': 0.147, 'co...</td>\n",
              "    </tr>\n",
              "    <tr>\n",
              "      <th>4</th>\n",
              "      <td>neg</td>\n",
              "      <td>my first press screening of 1998 and already i...</td>\n",
              "      <td>{'neg': 0.091, 'neu': 0.817, 'pos': 0.093, 'co...</td>\n",
              "    </tr>\n",
              "    <tr>\n",
              "      <th>5</th>\n",
              "      <td>neg</td>\n",
              "      <td>to put it bluntly , ed wood would have been pr...</td>\n",
              "      <td>{'neg': 0.123, 'neu': 0.821, 'pos': 0.056, 'co...</td>\n",
              "    </tr>\n",
              "    <tr>\n",
              "      <th>6</th>\n",
              "      <td>neg</td>\n",
              "      <td>synopsis : melissa , a mentally-disturbed woma...</td>\n",
              "      <td>{'neg': 0.087, 'neu': 0.742, 'pos': 0.17, 'com...</td>\n",
              "    </tr>\n",
              "    <tr>\n",
              "      <th>7</th>\n",
              "      <td>neg</td>\n",
              "      <td>tim robbins and martin lawernce team up in thi...</td>\n",
              "      <td>{'neg': 0.118, 'neu': 0.709, 'pos': 0.172, 'co...</td>\n",
              "    </tr>\n",
              "    <tr>\n",
              "      <th>8</th>\n",
              "      <td>neg</td>\n",
              "      <td>in \" gia \" , angelina jolie plays the titular ...</td>\n",
              "      <td>{'neg': 0.082, 'neu': 0.862, 'pos': 0.056, 'co...</td>\n",
              "    </tr>\n",
              "    <tr>\n",
              "      <th>9</th>\n",
              "      <td>neg</td>\n",
              "      <td>in 1990 , the surprise success an unheralded l...</td>\n",
              "      <td>{'neg': 0.145, 'neu': 0.728, 'pos': 0.127, 'co...</td>\n",
              "    </tr>\n",
              "  </tbody>\n",
              "</table>\n",
              "</div>\n",
              "    <div class=\"colab-df-buttons\">\n",
              "\n",
              "  <div class=\"colab-df-container\">\n",
              "    <button class=\"colab-df-convert\" onclick=\"convertToInteractive('df-60ce1873-1fb7-43b4-957b-57a23faddaf9')\"\n",
              "            title=\"Convert this dataframe to an interactive table.\"\n",
              "            style=\"display:none;\">\n",
              "\n",
              "  <svg xmlns=\"http://www.w3.org/2000/svg\" height=\"24px\" viewBox=\"0 -960 960 960\">\n",
              "    <path d=\"M120-120v-720h720v720H120Zm60-500h600v-160H180v160Zm220 220h160v-160H400v160Zm0 220h160v-160H400v160ZM180-400h160v-160H180v160Zm440 0h160v-160H620v160ZM180-180h160v-160H180v160Zm440 0h160v-160H620v160Z\"/>\n",
              "  </svg>\n",
              "    </button>\n",
              "\n",
              "  <style>\n",
              "    .colab-df-container {\n",
              "      display:flex;\n",
              "      gap: 12px;\n",
              "    }\n",
              "\n",
              "    .colab-df-convert {\n",
              "      background-color: #E8F0FE;\n",
              "      border: none;\n",
              "      border-radius: 50%;\n",
              "      cursor: pointer;\n",
              "      display: none;\n",
              "      fill: #1967D2;\n",
              "      height: 32px;\n",
              "      padding: 0 0 0 0;\n",
              "      width: 32px;\n",
              "    }\n",
              "\n",
              "    .colab-df-convert:hover {\n",
              "      background-color: #E2EBFA;\n",
              "      box-shadow: 0px 1px 2px rgba(60, 64, 67, 0.3), 0px 1px 3px 1px rgba(60, 64, 67, 0.15);\n",
              "      fill: #174EA6;\n",
              "    }\n",
              "\n",
              "    .colab-df-buttons div {\n",
              "      margin-bottom: 4px;\n",
              "    }\n",
              "\n",
              "    [theme=dark] .colab-df-convert {\n",
              "      background-color: #3B4455;\n",
              "      fill: #D2E3FC;\n",
              "    }\n",
              "\n",
              "    [theme=dark] .colab-df-convert:hover {\n",
              "      background-color: #434B5C;\n",
              "      box-shadow: 0px 1px 3px 1px rgba(0, 0, 0, 0.15);\n",
              "      filter: drop-shadow(0px 1px 2px rgba(0, 0, 0, 0.3));\n",
              "      fill: #FFFFFF;\n",
              "    }\n",
              "  </style>\n",
              "\n",
              "    <script>\n",
              "      const buttonEl =\n",
              "        document.querySelector('#df-60ce1873-1fb7-43b4-957b-57a23faddaf9 button.colab-df-convert');\n",
              "      buttonEl.style.display =\n",
              "        google.colab.kernel.accessAllowed ? 'block' : 'none';\n",
              "\n",
              "      async function convertToInteractive(key) {\n",
              "        const element = document.querySelector('#df-60ce1873-1fb7-43b4-957b-57a23faddaf9');\n",
              "        const dataTable =\n",
              "          await google.colab.kernel.invokeFunction('convertToInteractive',\n",
              "                                                    [key], {});\n",
              "        if (!dataTable) return;\n",
              "\n",
              "        const docLinkHtml = 'Like what you see? Visit the ' +\n",
              "          '<a target=\"_blank\" href=https://colab.research.google.com/notebooks/data_table.ipynb>data table notebook</a>'\n",
              "          + ' to learn more about interactive tables.';\n",
              "        element.innerHTML = '';\n",
              "        dataTable['output_type'] = 'display_data';\n",
              "        await google.colab.output.renderOutput(dataTable, element);\n",
              "        const docLink = document.createElement('div');\n",
              "        docLink.innerHTML = docLinkHtml;\n",
              "        element.appendChild(docLink);\n",
              "      }\n",
              "    </script>\n",
              "  </div>\n",
              "\n",
              "\n",
              "<div id=\"df-48b1f473-7094-4728-bdd2-b56ca01dc065\">\n",
              "  <button class=\"colab-df-quickchart\" onclick=\"quickchart('df-48b1f473-7094-4728-bdd2-b56ca01dc065')\"\n",
              "            title=\"Suggest charts\"\n",
              "            style=\"display:none;\">\n",
              "\n",
              "<svg xmlns=\"http://www.w3.org/2000/svg\" height=\"24px\"viewBox=\"0 0 24 24\"\n",
              "     width=\"24px\">\n",
              "    <g>\n",
              "        <path d=\"M19 3H5c-1.1 0-2 .9-2 2v14c0 1.1.9 2 2 2h14c1.1 0 2-.9 2-2V5c0-1.1-.9-2-2-2zM9 17H7v-7h2v7zm4 0h-2V7h2v10zm4 0h-2v-4h2v4z\"/>\n",
              "    </g>\n",
              "</svg>\n",
              "  </button>\n",
              "\n",
              "<style>\n",
              "  .colab-df-quickchart {\n",
              "      --bg-color: #E8F0FE;\n",
              "      --fill-color: #1967D2;\n",
              "      --hover-bg-color: #E2EBFA;\n",
              "      --hover-fill-color: #174EA6;\n",
              "      --disabled-fill-color: #AAA;\n",
              "      --disabled-bg-color: #DDD;\n",
              "  }\n",
              "\n",
              "  [theme=dark] .colab-df-quickchart {\n",
              "      --bg-color: #3B4455;\n",
              "      --fill-color: #D2E3FC;\n",
              "      --hover-bg-color: #434B5C;\n",
              "      --hover-fill-color: #FFFFFF;\n",
              "      --disabled-bg-color: #3B4455;\n",
              "      --disabled-fill-color: #666;\n",
              "  }\n",
              "\n",
              "  .colab-df-quickchart {\n",
              "    background-color: var(--bg-color);\n",
              "    border: none;\n",
              "    border-radius: 50%;\n",
              "    cursor: pointer;\n",
              "    display: none;\n",
              "    fill: var(--fill-color);\n",
              "    height: 32px;\n",
              "    padding: 0;\n",
              "    width: 32px;\n",
              "  }\n",
              "\n",
              "  .colab-df-quickchart:hover {\n",
              "    background-color: var(--hover-bg-color);\n",
              "    box-shadow: 0 1px 2px rgba(60, 64, 67, 0.3), 0 1px 3px 1px rgba(60, 64, 67, 0.15);\n",
              "    fill: var(--button-hover-fill-color);\n",
              "  }\n",
              "\n",
              "  .colab-df-quickchart-complete:disabled,\n",
              "  .colab-df-quickchart-complete:disabled:hover {\n",
              "    background-color: var(--disabled-bg-color);\n",
              "    fill: var(--disabled-fill-color);\n",
              "    box-shadow: none;\n",
              "  }\n",
              "\n",
              "  .colab-df-spinner {\n",
              "    border: 2px solid var(--fill-color);\n",
              "    border-color: transparent;\n",
              "    border-bottom-color: var(--fill-color);\n",
              "    animation:\n",
              "      spin 1s steps(1) infinite;\n",
              "  }\n",
              "\n",
              "  @keyframes spin {\n",
              "    0% {\n",
              "      border-color: transparent;\n",
              "      border-bottom-color: var(--fill-color);\n",
              "      border-left-color: var(--fill-color);\n",
              "    }\n",
              "    20% {\n",
              "      border-color: transparent;\n",
              "      border-left-color: var(--fill-color);\n",
              "      border-top-color: var(--fill-color);\n",
              "    }\n",
              "    30% {\n",
              "      border-color: transparent;\n",
              "      border-left-color: var(--fill-color);\n",
              "      border-top-color: var(--fill-color);\n",
              "      border-right-color: var(--fill-color);\n",
              "    }\n",
              "    40% {\n",
              "      border-color: transparent;\n",
              "      border-right-color: var(--fill-color);\n",
              "      border-top-color: var(--fill-color);\n",
              "    }\n",
              "    60% {\n",
              "      border-color: transparent;\n",
              "      border-right-color: var(--fill-color);\n",
              "    }\n",
              "    80% {\n",
              "      border-color: transparent;\n",
              "      border-right-color: var(--fill-color);\n",
              "      border-bottom-color: var(--fill-color);\n",
              "    }\n",
              "    90% {\n",
              "      border-color: transparent;\n",
              "      border-bottom-color: var(--fill-color);\n",
              "    }\n",
              "  }\n",
              "</style>\n",
              "\n",
              "  <script>\n",
              "    async function quickchart(key) {\n",
              "      const quickchartButtonEl =\n",
              "        document.querySelector('#' + key + ' button');\n",
              "      quickchartButtonEl.disabled = true;  // To prevent multiple clicks.\n",
              "      quickchartButtonEl.classList.add('colab-df-spinner');\n",
              "      try {\n",
              "        const charts = await google.colab.kernel.invokeFunction(\n",
              "            'suggestCharts', [key], {});\n",
              "      } catch (error) {\n",
              "        console.error('Error during call to suggestCharts:', error);\n",
              "      }\n",
              "      quickchartButtonEl.classList.remove('colab-df-spinner');\n",
              "      quickchartButtonEl.classList.add('colab-df-quickchart-complete');\n",
              "    }\n",
              "    (() => {\n",
              "      let quickchartButtonEl =\n",
              "        document.querySelector('#df-48b1f473-7094-4728-bdd2-b56ca01dc065 button');\n",
              "      quickchartButtonEl.style.display =\n",
              "        google.colab.kernel.accessAllowed ? 'block' : 'none';\n",
              "    })();\n",
              "  </script>\n",
              "</div>\n",
              "\n",
              "    </div>\n",
              "  </div>\n"
            ]
          },
          "metadata": {},
          "execution_count": 50
        }
      ],
      "source": [
        "movie_df['scores'] = movie_df['review'].apply(lambda r : sid.polarity_scores(r))\n",
        "movie_df.head(10)"
      ]
    },
    {
      "cell_type": "code",
      "execution_count": 51,
      "metadata": {
        "colab": {
          "base_uri": "https://localhost:8080/",
          "height": 363
        },
        "id": "c_ZuZWprsKrh",
        "outputId": "afcf043a-785b-443e-ed91-16027692e9e9"
      },
      "outputs": [
        {
          "output_type": "execute_result",
          "data": {
            "text/plain": [
              "  label                                             review  \\\n",
              "0   neg  how do films like mouse hunt get into theatres...   \n",
              "1   neg  some talented actresses are blessed with a dem...   \n",
              "2   pos  this has been an extraordinary year for austra...   \n",
              "3   pos  according to hollywood movies made in last few...   \n",
              "4   neg  my first press screening of 1998 and already i...   \n",
              "5   neg  to put it bluntly , ed wood would have been pr...   \n",
              "6   neg  synopsis : melissa , a mentally-disturbed woma...   \n",
              "7   neg  tim robbins and martin lawernce team up in thi...   \n",
              "8   neg  in \" gia \" , angelina jolie plays the titular ...   \n",
              "9   neg  in 1990 , the surprise success an unheralded l...   \n",
              "\n",
              "                                              scores  compound  \n",
              "0  {'neg': 0.121, 'neu': 0.778, 'pos': 0.101, 'co...   -0.9125  \n",
              "1  {'neg': 0.12, 'neu': 0.775, 'pos': 0.105, 'com...   -0.8618  \n",
              "2  {'neg': 0.068, 'neu': 0.781, 'pos': 0.15, 'com...    0.9951  \n",
              "3  {'neg': 0.071, 'neu': 0.782, 'pos': 0.147, 'co...    0.9972  \n",
              "4  {'neg': 0.091, 'neu': 0.817, 'pos': 0.093, 'co...   -0.2484  \n",
              "5  {'neg': 0.123, 'neu': 0.821, 'pos': 0.056, 'co...   -0.9855  \n",
              "6  {'neg': 0.087, 'neu': 0.742, 'pos': 0.17, 'com...    0.9871  \n",
              "7  {'neg': 0.118, 'neu': 0.709, 'pos': 0.172, 'co...    0.9829  \n",
              "8  {'neg': 0.082, 'neu': 0.862, 'pos': 0.056, 'co...   -0.8278  \n",
              "9  {'neg': 0.145, 'neu': 0.728, 'pos': 0.127, 'co...   -0.9147  "
            ],
            "text/html": [
              "\n",
              "  <div id=\"df-3e90686d-090b-4f55-a7ba-5dc0ca69cc1b\" class=\"colab-df-container\">\n",
              "    <div>\n",
              "<style scoped>\n",
              "    .dataframe tbody tr th:only-of-type {\n",
              "        vertical-align: middle;\n",
              "    }\n",
              "\n",
              "    .dataframe tbody tr th {\n",
              "        vertical-align: top;\n",
              "    }\n",
              "\n",
              "    .dataframe thead th {\n",
              "        text-align: right;\n",
              "    }\n",
              "</style>\n",
              "<table border=\"1\" class=\"dataframe\">\n",
              "  <thead>\n",
              "    <tr style=\"text-align: right;\">\n",
              "      <th></th>\n",
              "      <th>label</th>\n",
              "      <th>review</th>\n",
              "      <th>scores</th>\n",
              "      <th>compound</th>\n",
              "    </tr>\n",
              "  </thead>\n",
              "  <tbody>\n",
              "    <tr>\n",
              "      <th>0</th>\n",
              "      <td>neg</td>\n",
              "      <td>how do films like mouse hunt get into theatres...</td>\n",
              "      <td>{'neg': 0.121, 'neu': 0.778, 'pos': 0.101, 'co...</td>\n",
              "      <td>-0.9125</td>\n",
              "    </tr>\n",
              "    <tr>\n",
              "      <th>1</th>\n",
              "      <td>neg</td>\n",
              "      <td>some talented actresses are blessed with a dem...</td>\n",
              "      <td>{'neg': 0.12, 'neu': 0.775, 'pos': 0.105, 'com...</td>\n",
              "      <td>-0.8618</td>\n",
              "    </tr>\n",
              "    <tr>\n",
              "      <th>2</th>\n",
              "      <td>pos</td>\n",
              "      <td>this has been an extraordinary year for austra...</td>\n",
              "      <td>{'neg': 0.068, 'neu': 0.781, 'pos': 0.15, 'com...</td>\n",
              "      <td>0.9951</td>\n",
              "    </tr>\n",
              "    <tr>\n",
              "      <th>3</th>\n",
              "      <td>pos</td>\n",
              "      <td>according to hollywood movies made in last few...</td>\n",
              "      <td>{'neg': 0.071, 'neu': 0.782, 'pos': 0.147, 'co...</td>\n",
              "      <td>0.9972</td>\n",
              "    </tr>\n",
              "    <tr>\n",
              "      <th>4</th>\n",
              "      <td>neg</td>\n",
              "      <td>my first press screening of 1998 and already i...</td>\n",
              "      <td>{'neg': 0.091, 'neu': 0.817, 'pos': 0.093, 'co...</td>\n",
              "      <td>-0.2484</td>\n",
              "    </tr>\n",
              "    <tr>\n",
              "      <th>5</th>\n",
              "      <td>neg</td>\n",
              "      <td>to put it bluntly , ed wood would have been pr...</td>\n",
              "      <td>{'neg': 0.123, 'neu': 0.821, 'pos': 0.056, 'co...</td>\n",
              "      <td>-0.9855</td>\n",
              "    </tr>\n",
              "    <tr>\n",
              "      <th>6</th>\n",
              "      <td>neg</td>\n",
              "      <td>synopsis : melissa , a mentally-disturbed woma...</td>\n",
              "      <td>{'neg': 0.087, 'neu': 0.742, 'pos': 0.17, 'com...</td>\n",
              "      <td>0.9871</td>\n",
              "    </tr>\n",
              "    <tr>\n",
              "      <th>7</th>\n",
              "      <td>neg</td>\n",
              "      <td>tim robbins and martin lawernce team up in thi...</td>\n",
              "      <td>{'neg': 0.118, 'neu': 0.709, 'pos': 0.172, 'co...</td>\n",
              "      <td>0.9829</td>\n",
              "    </tr>\n",
              "    <tr>\n",
              "      <th>8</th>\n",
              "      <td>neg</td>\n",
              "      <td>in \" gia \" , angelina jolie plays the titular ...</td>\n",
              "      <td>{'neg': 0.082, 'neu': 0.862, 'pos': 0.056, 'co...</td>\n",
              "      <td>-0.8278</td>\n",
              "    </tr>\n",
              "    <tr>\n",
              "      <th>9</th>\n",
              "      <td>neg</td>\n",
              "      <td>in 1990 , the surprise success an unheralded l...</td>\n",
              "      <td>{'neg': 0.145, 'neu': 0.728, 'pos': 0.127, 'co...</td>\n",
              "      <td>-0.9147</td>\n",
              "    </tr>\n",
              "  </tbody>\n",
              "</table>\n",
              "</div>\n",
              "    <div class=\"colab-df-buttons\">\n",
              "\n",
              "  <div class=\"colab-df-container\">\n",
              "    <button class=\"colab-df-convert\" onclick=\"convertToInteractive('df-3e90686d-090b-4f55-a7ba-5dc0ca69cc1b')\"\n",
              "            title=\"Convert this dataframe to an interactive table.\"\n",
              "            style=\"display:none;\">\n",
              "\n",
              "  <svg xmlns=\"http://www.w3.org/2000/svg\" height=\"24px\" viewBox=\"0 -960 960 960\">\n",
              "    <path d=\"M120-120v-720h720v720H120Zm60-500h600v-160H180v160Zm220 220h160v-160H400v160Zm0 220h160v-160H400v160ZM180-400h160v-160H180v160Zm440 0h160v-160H620v160ZM180-180h160v-160H180v160Zm440 0h160v-160H620v160Z\"/>\n",
              "  </svg>\n",
              "    </button>\n",
              "\n",
              "  <style>\n",
              "    .colab-df-container {\n",
              "      display:flex;\n",
              "      gap: 12px;\n",
              "    }\n",
              "\n",
              "    .colab-df-convert {\n",
              "      background-color: #E8F0FE;\n",
              "      border: none;\n",
              "      border-radius: 50%;\n",
              "      cursor: pointer;\n",
              "      display: none;\n",
              "      fill: #1967D2;\n",
              "      height: 32px;\n",
              "      padding: 0 0 0 0;\n",
              "      width: 32px;\n",
              "    }\n",
              "\n",
              "    .colab-df-convert:hover {\n",
              "      background-color: #E2EBFA;\n",
              "      box-shadow: 0px 1px 2px rgba(60, 64, 67, 0.3), 0px 1px 3px 1px rgba(60, 64, 67, 0.15);\n",
              "      fill: #174EA6;\n",
              "    }\n",
              "\n",
              "    .colab-df-buttons div {\n",
              "      margin-bottom: 4px;\n",
              "    }\n",
              "\n",
              "    [theme=dark] .colab-df-convert {\n",
              "      background-color: #3B4455;\n",
              "      fill: #D2E3FC;\n",
              "    }\n",
              "\n",
              "    [theme=dark] .colab-df-convert:hover {\n",
              "      background-color: #434B5C;\n",
              "      box-shadow: 0px 1px 3px 1px rgba(0, 0, 0, 0.15);\n",
              "      filter: drop-shadow(0px 1px 2px rgba(0, 0, 0, 0.3));\n",
              "      fill: #FFFFFF;\n",
              "    }\n",
              "  </style>\n",
              "\n",
              "    <script>\n",
              "      const buttonEl =\n",
              "        document.querySelector('#df-3e90686d-090b-4f55-a7ba-5dc0ca69cc1b button.colab-df-convert');\n",
              "      buttonEl.style.display =\n",
              "        google.colab.kernel.accessAllowed ? 'block' : 'none';\n",
              "\n",
              "      async function convertToInteractive(key) {\n",
              "        const element = document.querySelector('#df-3e90686d-090b-4f55-a7ba-5dc0ca69cc1b');\n",
              "        const dataTable =\n",
              "          await google.colab.kernel.invokeFunction('convertToInteractive',\n",
              "                                                    [key], {});\n",
              "        if (!dataTable) return;\n",
              "\n",
              "        const docLinkHtml = 'Like what you see? Visit the ' +\n",
              "          '<a target=\"_blank\" href=https://colab.research.google.com/notebooks/data_table.ipynb>data table notebook</a>'\n",
              "          + ' to learn more about interactive tables.';\n",
              "        element.innerHTML = '';\n",
              "        dataTable['output_type'] = 'display_data';\n",
              "        await google.colab.output.renderOutput(dataTable, element);\n",
              "        const docLink = document.createElement('div');\n",
              "        docLink.innerHTML = docLinkHtml;\n",
              "        element.appendChild(docLink);\n",
              "      }\n",
              "    </script>\n",
              "  </div>\n",
              "\n",
              "\n",
              "<div id=\"df-9ec35e0b-5856-4278-a085-780aa21e4ca7\">\n",
              "  <button class=\"colab-df-quickchart\" onclick=\"quickchart('df-9ec35e0b-5856-4278-a085-780aa21e4ca7')\"\n",
              "            title=\"Suggest charts\"\n",
              "            style=\"display:none;\">\n",
              "\n",
              "<svg xmlns=\"http://www.w3.org/2000/svg\" height=\"24px\"viewBox=\"0 0 24 24\"\n",
              "     width=\"24px\">\n",
              "    <g>\n",
              "        <path d=\"M19 3H5c-1.1 0-2 .9-2 2v14c0 1.1.9 2 2 2h14c1.1 0 2-.9 2-2V5c0-1.1-.9-2-2-2zM9 17H7v-7h2v7zm4 0h-2V7h2v10zm4 0h-2v-4h2v4z\"/>\n",
              "    </g>\n",
              "</svg>\n",
              "  </button>\n",
              "\n",
              "<style>\n",
              "  .colab-df-quickchart {\n",
              "      --bg-color: #E8F0FE;\n",
              "      --fill-color: #1967D2;\n",
              "      --hover-bg-color: #E2EBFA;\n",
              "      --hover-fill-color: #174EA6;\n",
              "      --disabled-fill-color: #AAA;\n",
              "      --disabled-bg-color: #DDD;\n",
              "  }\n",
              "\n",
              "  [theme=dark] .colab-df-quickchart {\n",
              "      --bg-color: #3B4455;\n",
              "      --fill-color: #D2E3FC;\n",
              "      --hover-bg-color: #434B5C;\n",
              "      --hover-fill-color: #FFFFFF;\n",
              "      --disabled-bg-color: #3B4455;\n",
              "      --disabled-fill-color: #666;\n",
              "  }\n",
              "\n",
              "  .colab-df-quickchart {\n",
              "    background-color: var(--bg-color);\n",
              "    border: none;\n",
              "    border-radius: 50%;\n",
              "    cursor: pointer;\n",
              "    display: none;\n",
              "    fill: var(--fill-color);\n",
              "    height: 32px;\n",
              "    padding: 0;\n",
              "    width: 32px;\n",
              "  }\n",
              "\n",
              "  .colab-df-quickchart:hover {\n",
              "    background-color: var(--hover-bg-color);\n",
              "    box-shadow: 0 1px 2px rgba(60, 64, 67, 0.3), 0 1px 3px 1px rgba(60, 64, 67, 0.15);\n",
              "    fill: var(--button-hover-fill-color);\n",
              "  }\n",
              "\n",
              "  .colab-df-quickchart-complete:disabled,\n",
              "  .colab-df-quickchart-complete:disabled:hover {\n",
              "    background-color: var(--disabled-bg-color);\n",
              "    fill: var(--disabled-fill-color);\n",
              "    box-shadow: none;\n",
              "  }\n",
              "\n",
              "  .colab-df-spinner {\n",
              "    border: 2px solid var(--fill-color);\n",
              "    border-color: transparent;\n",
              "    border-bottom-color: var(--fill-color);\n",
              "    animation:\n",
              "      spin 1s steps(1) infinite;\n",
              "  }\n",
              "\n",
              "  @keyframes spin {\n",
              "    0% {\n",
              "      border-color: transparent;\n",
              "      border-bottom-color: var(--fill-color);\n",
              "      border-left-color: var(--fill-color);\n",
              "    }\n",
              "    20% {\n",
              "      border-color: transparent;\n",
              "      border-left-color: var(--fill-color);\n",
              "      border-top-color: var(--fill-color);\n",
              "    }\n",
              "    30% {\n",
              "      border-color: transparent;\n",
              "      border-left-color: var(--fill-color);\n",
              "      border-top-color: var(--fill-color);\n",
              "      border-right-color: var(--fill-color);\n",
              "    }\n",
              "    40% {\n",
              "      border-color: transparent;\n",
              "      border-right-color: var(--fill-color);\n",
              "      border-top-color: var(--fill-color);\n",
              "    }\n",
              "    60% {\n",
              "      border-color: transparent;\n",
              "      border-right-color: var(--fill-color);\n",
              "    }\n",
              "    80% {\n",
              "      border-color: transparent;\n",
              "      border-right-color: var(--fill-color);\n",
              "      border-bottom-color: var(--fill-color);\n",
              "    }\n",
              "    90% {\n",
              "      border-color: transparent;\n",
              "      border-bottom-color: var(--fill-color);\n",
              "    }\n",
              "  }\n",
              "</style>\n",
              "\n",
              "  <script>\n",
              "    async function quickchart(key) {\n",
              "      const quickchartButtonEl =\n",
              "        document.querySelector('#' + key + ' button');\n",
              "      quickchartButtonEl.disabled = true;  // To prevent multiple clicks.\n",
              "      quickchartButtonEl.classList.add('colab-df-spinner');\n",
              "      try {\n",
              "        const charts = await google.colab.kernel.invokeFunction(\n",
              "            'suggestCharts', [key], {});\n",
              "      } catch (error) {\n",
              "        console.error('Error during call to suggestCharts:', error);\n",
              "      }\n",
              "      quickchartButtonEl.classList.remove('colab-df-spinner');\n",
              "      quickchartButtonEl.classList.add('colab-df-quickchart-complete');\n",
              "    }\n",
              "    (() => {\n",
              "      let quickchartButtonEl =\n",
              "        document.querySelector('#df-9ec35e0b-5856-4278-a085-780aa21e4ca7 button');\n",
              "      quickchartButtonEl.style.display =\n",
              "        google.colab.kernel.accessAllowed ? 'block' : 'none';\n",
              "    })();\n",
              "  </script>\n",
              "</div>\n",
              "\n",
              "    </div>\n",
              "  </div>\n"
            ]
          },
          "metadata": {},
          "execution_count": 51
        }
      ],
      "source": [
        "movie_df['compound'] = movie_df['scores'].apply(lambda d : d['compound'])\n",
        "movie_df.head(10)"
      ]
    },
    {
      "cell_type": "code",
      "execution_count": 52,
      "metadata": {
        "colab": {
          "base_uri": "https://localhost:8080/",
          "height": 363
        },
        "id": "8bIRMbsDqJAZ",
        "outputId": "83643e00-07d0-4c6c-faac-35a63cf6521c"
      },
      "outputs": [
        {
          "output_type": "execute_result",
          "data": {
            "text/plain": [
              "  label                                             review  \\\n",
              "0   neg  how do films like mouse hunt get into theatres...   \n",
              "1   neg  some talented actresses are blessed with a dem...   \n",
              "2   pos  this has been an extraordinary year for austra...   \n",
              "3   pos  according to hollywood movies made in last few...   \n",
              "4   neg  my first press screening of 1998 and already i...   \n",
              "5   neg  to put it bluntly , ed wood would have been pr...   \n",
              "6   neg  synopsis : melissa , a mentally-disturbed woma...   \n",
              "7   neg  tim robbins and martin lawernce team up in thi...   \n",
              "8   neg  in \" gia \" , angelina jolie plays the titular ...   \n",
              "9   neg  in 1990 , the surprise success an unheralded l...   \n",
              "\n",
              "                                              scores  compound compound_score  \n",
              "0  {'neg': 0.121, 'neu': 0.778, 'pos': 0.101, 'co...   -0.9125            neg  \n",
              "1  {'neg': 0.12, 'neu': 0.775, 'pos': 0.105, 'com...   -0.8618            neg  \n",
              "2  {'neg': 0.068, 'neu': 0.781, 'pos': 0.15, 'com...    0.9951            pos  \n",
              "3  {'neg': 0.071, 'neu': 0.782, 'pos': 0.147, 'co...    0.9972            pos  \n",
              "4  {'neg': 0.091, 'neu': 0.817, 'pos': 0.093, 'co...   -0.2484            neg  \n",
              "5  {'neg': 0.123, 'neu': 0.821, 'pos': 0.056, 'co...   -0.9855            neg  \n",
              "6  {'neg': 0.087, 'neu': 0.742, 'pos': 0.17, 'com...    0.9871            pos  \n",
              "7  {'neg': 0.118, 'neu': 0.709, 'pos': 0.172, 'co...    0.9829            pos  \n",
              "8  {'neg': 0.082, 'neu': 0.862, 'pos': 0.056, 'co...   -0.8278            neg  \n",
              "9  {'neg': 0.145, 'neu': 0.728, 'pos': 0.127, 'co...   -0.9147            neg  "
            ],
            "text/html": [
              "\n",
              "  <div id=\"df-cd6c3b10-e917-45c2-b544-912fd2c2f8d7\" class=\"colab-df-container\">\n",
              "    <div>\n",
              "<style scoped>\n",
              "    .dataframe tbody tr th:only-of-type {\n",
              "        vertical-align: middle;\n",
              "    }\n",
              "\n",
              "    .dataframe tbody tr th {\n",
              "        vertical-align: top;\n",
              "    }\n",
              "\n",
              "    .dataframe thead th {\n",
              "        text-align: right;\n",
              "    }\n",
              "</style>\n",
              "<table border=\"1\" class=\"dataframe\">\n",
              "  <thead>\n",
              "    <tr style=\"text-align: right;\">\n",
              "      <th></th>\n",
              "      <th>label</th>\n",
              "      <th>review</th>\n",
              "      <th>scores</th>\n",
              "      <th>compound</th>\n",
              "      <th>compound_score</th>\n",
              "    </tr>\n",
              "  </thead>\n",
              "  <tbody>\n",
              "    <tr>\n",
              "      <th>0</th>\n",
              "      <td>neg</td>\n",
              "      <td>how do films like mouse hunt get into theatres...</td>\n",
              "      <td>{'neg': 0.121, 'neu': 0.778, 'pos': 0.101, 'co...</td>\n",
              "      <td>-0.9125</td>\n",
              "      <td>neg</td>\n",
              "    </tr>\n",
              "    <tr>\n",
              "      <th>1</th>\n",
              "      <td>neg</td>\n",
              "      <td>some talented actresses are blessed with a dem...</td>\n",
              "      <td>{'neg': 0.12, 'neu': 0.775, 'pos': 0.105, 'com...</td>\n",
              "      <td>-0.8618</td>\n",
              "      <td>neg</td>\n",
              "    </tr>\n",
              "    <tr>\n",
              "      <th>2</th>\n",
              "      <td>pos</td>\n",
              "      <td>this has been an extraordinary year for austra...</td>\n",
              "      <td>{'neg': 0.068, 'neu': 0.781, 'pos': 0.15, 'com...</td>\n",
              "      <td>0.9951</td>\n",
              "      <td>pos</td>\n",
              "    </tr>\n",
              "    <tr>\n",
              "      <th>3</th>\n",
              "      <td>pos</td>\n",
              "      <td>according to hollywood movies made in last few...</td>\n",
              "      <td>{'neg': 0.071, 'neu': 0.782, 'pos': 0.147, 'co...</td>\n",
              "      <td>0.9972</td>\n",
              "      <td>pos</td>\n",
              "    </tr>\n",
              "    <tr>\n",
              "      <th>4</th>\n",
              "      <td>neg</td>\n",
              "      <td>my first press screening of 1998 and already i...</td>\n",
              "      <td>{'neg': 0.091, 'neu': 0.817, 'pos': 0.093, 'co...</td>\n",
              "      <td>-0.2484</td>\n",
              "      <td>neg</td>\n",
              "    </tr>\n",
              "    <tr>\n",
              "      <th>5</th>\n",
              "      <td>neg</td>\n",
              "      <td>to put it bluntly , ed wood would have been pr...</td>\n",
              "      <td>{'neg': 0.123, 'neu': 0.821, 'pos': 0.056, 'co...</td>\n",
              "      <td>-0.9855</td>\n",
              "      <td>neg</td>\n",
              "    </tr>\n",
              "    <tr>\n",
              "      <th>6</th>\n",
              "      <td>neg</td>\n",
              "      <td>synopsis : melissa , a mentally-disturbed woma...</td>\n",
              "      <td>{'neg': 0.087, 'neu': 0.742, 'pos': 0.17, 'com...</td>\n",
              "      <td>0.9871</td>\n",
              "      <td>pos</td>\n",
              "    </tr>\n",
              "    <tr>\n",
              "      <th>7</th>\n",
              "      <td>neg</td>\n",
              "      <td>tim robbins and martin lawernce team up in thi...</td>\n",
              "      <td>{'neg': 0.118, 'neu': 0.709, 'pos': 0.172, 'co...</td>\n",
              "      <td>0.9829</td>\n",
              "      <td>pos</td>\n",
              "    </tr>\n",
              "    <tr>\n",
              "      <th>8</th>\n",
              "      <td>neg</td>\n",
              "      <td>in \" gia \" , angelina jolie plays the titular ...</td>\n",
              "      <td>{'neg': 0.082, 'neu': 0.862, 'pos': 0.056, 'co...</td>\n",
              "      <td>-0.8278</td>\n",
              "      <td>neg</td>\n",
              "    </tr>\n",
              "    <tr>\n",
              "      <th>9</th>\n",
              "      <td>neg</td>\n",
              "      <td>in 1990 , the surprise success an unheralded l...</td>\n",
              "      <td>{'neg': 0.145, 'neu': 0.728, 'pos': 0.127, 'co...</td>\n",
              "      <td>-0.9147</td>\n",
              "      <td>neg</td>\n",
              "    </tr>\n",
              "  </tbody>\n",
              "</table>\n",
              "</div>\n",
              "    <div class=\"colab-df-buttons\">\n",
              "\n",
              "  <div class=\"colab-df-container\">\n",
              "    <button class=\"colab-df-convert\" onclick=\"convertToInteractive('df-cd6c3b10-e917-45c2-b544-912fd2c2f8d7')\"\n",
              "            title=\"Convert this dataframe to an interactive table.\"\n",
              "            style=\"display:none;\">\n",
              "\n",
              "  <svg xmlns=\"http://www.w3.org/2000/svg\" height=\"24px\" viewBox=\"0 -960 960 960\">\n",
              "    <path d=\"M120-120v-720h720v720H120Zm60-500h600v-160H180v160Zm220 220h160v-160H400v160Zm0 220h160v-160H400v160ZM180-400h160v-160H180v160Zm440 0h160v-160H620v160ZM180-180h160v-160H180v160Zm440 0h160v-160H620v160Z\"/>\n",
              "  </svg>\n",
              "    </button>\n",
              "\n",
              "  <style>\n",
              "    .colab-df-container {\n",
              "      display:flex;\n",
              "      gap: 12px;\n",
              "    }\n",
              "\n",
              "    .colab-df-convert {\n",
              "      background-color: #E8F0FE;\n",
              "      border: none;\n",
              "      border-radius: 50%;\n",
              "      cursor: pointer;\n",
              "      display: none;\n",
              "      fill: #1967D2;\n",
              "      height: 32px;\n",
              "      padding: 0 0 0 0;\n",
              "      width: 32px;\n",
              "    }\n",
              "\n",
              "    .colab-df-convert:hover {\n",
              "      background-color: #E2EBFA;\n",
              "      box-shadow: 0px 1px 2px rgba(60, 64, 67, 0.3), 0px 1px 3px 1px rgba(60, 64, 67, 0.15);\n",
              "      fill: #174EA6;\n",
              "    }\n",
              "\n",
              "    .colab-df-buttons div {\n",
              "      margin-bottom: 4px;\n",
              "    }\n",
              "\n",
              "    [theme=dark] .colab-df-convert {\n",
              "      background-color: #3B4455;\n",
              "      fill: #D2E3FC;\n",
              "    }\n",
              "\n",
              "    [theme=dark] .colab-df-convert:hover {\n",
              "      background-color: #434B5C;\n",
              "      box-shadow: 0px 1px 3px 1px rgba(0, 0, 0, 0.15);\n",
              "      filter: drop-shadow(0px 1px 2px rgba(0, 0, 0, 0.3));\n",
              "      fill: #FFFFFF;\n",
              "    }\n",
              "  </style>\n",
              "\n",
              "    <script>\n",
              "      const buttonEl =\n",
              "        document.querySelector('#df-cd6c3b10-e917-45c2-b544-912fd2c2f8d7 button.colab-df-convert');\n",
              "      buttonEl.style.display =\n",
              "        google.colab.kernel.accessAllowed ? 'block' : 'none';\n",
              "\n",
              "      async function convertToInteractive(key) {\n",
              "        const element = document.querySelector('#df-cd6c3b10-e917-45c2-b544-912fd2c2f8d7');\n",
              "        const dataTable =\n",
              "          await google.colab.kernel.invokeFunction('convertToInteractive',\n",
              "                                                    [key], {});\n",
              "        if (!dataTable) return;\n",
              "\n",
              "        const docLinkHtml = 'Like what you see? Visit the ' +\n",
              "          '<a target=\"_blank\" href=https://colab.research.google.com/notebooks/data_table.ipynb>data table notebook</a>'\n",
              "          + ' to learn more about interactive tables.';\n",
              "        element.innerHTML = '';\n",
              "        dataTable['output_type'] = 'display_data';\n",
              "        await google.colab.output.renderOutput(dataTable, element);\n",
              "        const docLink = document.createElement('div');\n",
              "        docLink.innerHTML = docLinkHtml;\n",
              "        element.appendChild(docLink);\n",
              "      }\n",
              "    </script>\n",
              "  </div>\n",
              "\n",
              "\n",
              "<div id=\"df-b1ee1a8e-0624-4e6e-8d74-b901718de233\">\n",
              "  <button class=\"colab-df-quickchart\" onclick=\"quickchart('df-b1ee1a8e-0624-4e6e-8d74-b901718de233')\"\n",
              "            title=\"Suggest charts\"\n",
              "            style=\"display:none;\">\n",
              "\n",
              "<svg xmlns=\"http://www.w3.org/2000/svg\" height=\"24px\"viewBox=\"0 0 24 24\"\n",
              "     width=\"24px\">\n",
              "    <g>\n",
              "        <path d=\"M19 3H5c-1.1 0-2 .9-2 2v14c0 1.1.9 2 2 2h14c1.1 0 2-.9 2-2V5c0-1.1-.9-2-2-2zM9 17H7v-7h2v7zm4 0h-2V7h2v10zm4 0h-2v-4h2v4z\"/>\n",
              "    </g>\n",
              "</svg>\n",
              "  </button>\n",
              "\n",
              "<style>\n",
              "  .colab-df-quickchart {\n",
              "      --bg-color: #E8F0FE;\n",
              "      --fill-color: #1967D2;\n",
              "      --hover-bg-color: #E2EBFA;\n",
              "      --hover-fill-color: #174EA6;\n",
              "      --disabled-fill-color: #AAA;\n",
              "      --disabled-bg-color: #DDD;\n",
              "  }\n",
              "\n",
              "  [theme=dark] .colab-df-quickchart {\n",
              "      --bg-color: #3B4455;\n",
              "      --fill-color: #D2E3FC;\n",
              "      --hover-bg-color: #434B5C;\n",
              "      --hover-fill-color: #FFFFFF;\n",
              "      --disabled-bg-color: #3B4455;\n",
              "      --disabled-fill-color: #666;\n",
              "  }\n",
              "\n",
              "  .colab-df-quickchart {\n",
              "    background-color: var(--bg-color);\n",
              "    border: none;\n",
              "    border-radius: 50%;\n",
              "    cursor: pointer;\n",
              "    display: none;\n",
              "    fill: var(--fill-color);\n",
              "    height: 32px;\n",
              "    padding: 0;\n",
              "    width: 32px;\n",
              "  }\n",
              "\n",
              "  .colab-df-quickchart:hover {\n",
              "    background-color: var(--hover-bg-color);\n",
              "    box-shadow: 0 1px 2px rgba(60, 64, 67, 0.3), 0 1px 3px 1px rgba(60, 64, 67, 0.15);\n",
              "    fill: var(--button-hover-fill-color);\n",
              "  }\n",
              "\n",
              "  .colab-df-quickchart-complete:disabled,\n",
              "  .colab-df-quickchart-complete:disabled:hover {\n",
              "    background-color: var(--disabled-bg-color);\n",
              "    fill: var(--disabled-fill-color);\n",
              "    box-shadow: none;\n",
              "  }\n",
              "\n",
              "  .colab-df-spinner {\n",
              "    border: 2px solid var(--fill-color);\n",
              "    border-color: transparent;\n",
              "    border-bottom-color: var(--fill-color);\n",
              "    animation:\n",
              "      spin 1s steps(1) infinite;\n",
              "  }\n",
              "\n",
              "  @keyframes spin {\n",
              "    0% {\n",
              "      border-color: transparent;\n",
              "      border-bottom-color: var(--fill-color);\n",
              "      border-left-color: var(--fill-color);\n",
              "    }\n",
              "    20% {\n",
              "      border-color: transparent;\n",
              "      border-left-color: var(--fill-color);\n",
              "      border-top-color: var(--fill-color);\n",
              "    }\n",
              "    30% {\n",
              "      border-color: transparent;\n",
              "      border-left-color: var(--fill-color);\n",
              "      border-top-color: var(--fill-color);\n",
              "      border-right-color: var(--fill-color);\n",
              "    }\n",
              "    40% {\n",
              "      border-color: transparent;\n",
              "      border-right-color: var(--fill-color);\n",
              "      border-top-color: var(--fill-color);\n",
              "    }\n",
              "    60% {\n",
              "      border-color: transparent;\n",
              "      border-right-color: var(--fill-color);\n",
              "    }\n",
              "    80% {\n",
              "      border-color: transparent;\n",
              "      border-right-color: var(--fill-color);\n",
              "      border-bottom-color: var(--fill-color);\n",
              "    }\n",
              "    90% {\n",
              "      border-color: transparent;\n",
              "      border-bottom-color: var(--fill-color);\n",
              "    }\n",
              "  }\n",
              "</style>\n",
              "\n",
              "  <script>\n",
              "    async function quickchart(key) {\n",
              "      const quickchartButtonEl =\n",
              "        document.querySelector('#' + key + ' button');\n",
              "      quickchartButtonEl.disabled = true;  // To prevent multiple clicks.\n",
              "      quickchartButtonEl.classList.add('colab-df-spinner');\n",
              "      try {\n",
              "        const charts = await google.colab.kernel.invokeFunction(\n",
              "            'suggestCharts', [key], {});\n",
              "      } catch (error) {\n",
              "        console.error('Error during call to suggestCharts:', error);\n",
              "      }\n",
              "      quickchartButtonEl.classList.remove('colab-df-spinner');\n",
              "      quickchartButtonEl.classList.add('colab-df-quickchart-complete');\n",
              "    }\n",
              "    (() => {\n",
              "      let quickchartButtonEl =\n",
              "        document.querySelector('#df-b1ee1a8e-0624-4e6e-8d74-b901718de233 button');\n",
              "      quickchartButtonEl.style.display =\n",
              "        google.colab.kernel.accessAllowed ? 'block' : 'none';\n",
              "    })();\n",
              "  </script>\n",
              "</div>\n",
              "\n",
              "    </div>\n",
              "  </div>\n"
            ]
          },
          "metadata": {},
          "execution_count": 52
        }
      ],
      "source": [
        "movie_df['compound_score'] = movie_df['compound'].apply(lambda s : 'pos' if s > 0 else 'neg' )\n",
        "movie_df.head(10)"
      ]
    },
    {
      "cell_type": "markdown",
      "metadata": {
        "id": "O5dVXs3mYcUU"
      },
      "source": [
        "###  Latent Dirichlet Allocation (LDA)"
      ]
    },
    {
      "cell_type": "code",
      "execution_count": 53,
      "metadata": {
        "colab": {
          "base_uri": "https://localhost:8080/"
        },
        "id": "GUiz1zNxUPET",
        "outputId": "3ee244e8-507e-4e61-c6e4-892af47c34da"
      },
      "outputs": [
        {
          "output_type": "execute_result",
          "data": {
            "text/plain": [
              "1965"
            ]
          },
          "metadata": {},
          "execution_count": 53
        }
      ],
      "source": [
        "len(movie_df['review'])"
      ]
    },
    {
      "cell_type": "code",
      "execution_count": 54,
      "metadata": {
        "colab": {
          "base_uri": "https://localhost:8080/"
        },
        "id": "WiS-3DGYUPFo",
        "outputId": "68adf28e-ac7c-499e-804a-8bf35b191222"
      },
      "outputs": [
        {
          "output_type": "execute_result",
          "data": {
            "text/plain": [
              "<1965x23298 sparse matrix of type '<class 'numpy.int64'>'\n",
              "\twith 455692 stored elements in Compressed Sparse Row format>"
            ]
          },
          "metadata": {},
          "execution_count": 54
        }
      ],
      "source": [
        "cv2 = CountVectorizer(max_df = 0.95,min_df = 2,stop_words='english')\n",
        "dtm = cv2.fit_transform(movie_df['review'])\n",
        "dtm"
      ]
    },
    {
      "cell_type": "code",
      "execution_count": 55,
      "metadata": {
        "id": "3sovai6l5vI4"
      },
      "outputs": [],
      "source": [
        "from sklearn.decomposition import LatentDirichletAllocation\n",
        "lda = LatentDirichletAllocation(n_components=8)"
      ]
    },
    {
      "cell_type": "code",
      "execution_count": 56,
      "metadata": {
        "colab": {
          "base_uri": "https://localhost:8080/",
          "height": 75
        },
        "id": "R9vGnHUS539U",
        "outputId": "ed925340-54f2-4e6a-c3b4-307453918038"
      },
      "outputs": [
        {
          "output_type": "execute_result",
          "data": {
            "text/plain": [
              "LatentDirichletAllocation(n_components=8)"
            ],
            "text/html": [
              "<style>#sk-container-id-4 {color: black;background-color: white;}#sk-container-id-4 pre{padding: 0;}#sk-container-id-4 div.sk-toggleable {background-color: white;}#sk-container-id-4 label.sk-toggleable__label {cursor: pointer;display: block;width: 100%;margin-bottom: 0;padding: 0.3em;box-sizing: border-box;text-align: center;}#sk-container-id-4 label.sk-toggleable__label-arrow:before {content: \"▸\";float: left;margin-right: 0.25em;color: #696969;}#sk-container-id-4 label.sk-toggleable__label-arrow:hover:before {color: black;}#sk-container-id-4 div.sk-estimator:hover label.sk-toggleable__label-arrow:before {color: black;}#sk-container-id-4 div.sk-toggleable__content {max-height: 0;max-width: 0;overflow: hidden;text-align: left;background-color: #f0f8ff;}#sk-container-id-4 div.sk-toggleable__content pre {margin: 0.2em;color: black;border-radius: 0.25em;background-color: #f0f8ff;}#sk-container-id-4 input.sk-toggleable__control:checked~div.sk-toggleable__content {max-height: 200px;max-width: 100%;overflow: auto;}#sk-container-id-4 input.sk-toggleable__control:checked~label.sk-toggleable__label-arrow:before {content: \"▾\";}#sk-container-id-4 div.sk-estimator input.sk-toggleable__control:checked~label.sk-toggleable__label {background-color: #d4ebff;}#sk-container-id-4 div.sk-label input.sk-toggleable__control:checked~label.sk-toggleable__label {background-color: #d4ebff;}#sk-container-id-4 input.sk-hidden--visually {border: 0;clip: rect(1px 1px 1px 1px);clip: rect(1px, 1px, 1px, 1px);height: 1px;margin: -1px;overflow: hidden;padding: 0;position: absolute;width: 1px;}#sk-container-id-4 div.sk-estimator {font-family: monospace;background-color: #f0f8ff;border: 1px dotted black;border-radius: 0.25em;box-sizing: border-box;margin-bottom: 0.5em;}#sk-container-id-4 div.sk-estimator:hover {background-color: #d4ebff;}#sk-container-id-4 div.sk-parallel-item::after {content: \"\";width: 100%;border-bottom: 1px solid gray;flex-grow: 1;}#sk-container-id-4 div.sk-label:hover label.sk-toggleable__label {background-color: #d4ebff;}#sk-container-id-4 div.sk-serial::before {content: \"\";position: absolute;border-left: 1px solid gray;box-sizing: border-box;top: 0;bottom: 0;left: 50%;z-index: 0;}#sk-container-id-4 div.sk-serial {display: flex;flex-direction: column;align-items: center;background-color: white;padding-right: 0.2em;padding-left: 0.2em;position: relative;}#sk-container-id-4 div.sk-item {position: relative;z-index: 1;}#sk-container-id-4 div.sk-parallel {display: flex;align-items: stretch;justify-content: center;background-color: white;position: relative;}#sk-container-id-4 div.sk-item::before, #sk-container-id-4 div.sk-parallel-item::before {content: \"\";position: absolute;border-left: 1px solid gray;box-sizing: border-box;top: 0;bottom: 0;left: 50%;z-index: -1;}#sk-container-id-4 div.sk-parallel-item {display: flex;flex-direction: column;z-index: 1;position: relative;background-color: white;}#sk-container-id-4 div.sk-parallel-item:first-child::after {align-self: flex-end;width: 50%;}#sk-container-id-4 div.sk-parallel-item:last-child::after {align-self: flex-start;width: 50%;}#sk-container-id-4 div.sk-parallel-item:only-child::after {width: 0;}#sk-container-id-4 div.sk-dashed-wrapped {border: 1px dashed gray;margin: 0 0.4em 0.5em 0.4em;box-sizing: border-box;padding-bottom: 0.4em;background-color: white;}#sk-container-id-4 div.sk-label label {font-family: monospace;font-weight: bold;display: inline-block;line-height: 1.2em;}#sk-container-id-4 div.sk-label-container {text-align: center;}#sk-container-id-4 div.sk-container {/* jupyter's `normalize.less` sets `[hidden] { display: none; }` but bootstrap.min.css set `[hidden] { display: none !important; }` so we also need the `!important` here to be able to override the default hidden behavior on the sphinx rendered scikit-learn.org. See: https://github.com/scikit-learn/scikit-learn/issues/21755 */display: inline-block !important;position: relative;}#sk-container-id-4 div.sk-text-repr-fallback {display: none;}</style><div id=\"sk-container-id-4\" class=\"sk-top-container\"><div class=\"sk-text-repr-fallback\"><pre>LatentDirichletAllocation(n_components=8)</pre><b>In a Jupyter environment, please rerun this cell to show the HTML representation or trust the notebook. <br />On GitHub, the HTML representation is unable to render, please try loading this page with nbviewer.org.</b></div><div class=\"sk-container\" hidden><div class=\"sk-item\"><div class=\"sk-estimator sk-toggleable\"><input class=\"sk-toggleable__control sk-hidden--visually\" id=\"sk-estimator-id-10\" type=\"checkbox\" checked><label for=\"sk-estimator-id-10\" class=\"sk-toggleable__label sk-toggleable__label-arrow\">LatentDirichletAllocation</label><div class=\"sk-toggleable__content\"><pre>LatentDirichletAllocation(n_components=8)</pre></div></div></div></div></div>"
            ]
          },
          "metadata": {},
          "execution_count": 56
        }
      ],
      "source": [
        "lda.fit(dtm)"
      ]
    },
    {
      "cell_type": "markdown",
      "metadata": {
        "id": "jjxOyKRV6qJF"
      },
      "source": [
        "### Grab the topics"
      ]
    },
    {
      "cell_type": "code",
      "execution_count": 57,
      "metadata": {
        "colab": {
          "base_uri": "https://localhost:8080/"
        },
        "id": "nt6UlztO6MtV",
        "outputId": "dfd0b5b4-b480-421b-deb6-b5a8942299b6"
      },
      "outputs": [
        {
          "output_type": "execute_result",
          "data": {
            "text/plain": [
              "array([[ 1.15777019, 36.13444957,  0.12501983, ...,  1.1246987 ,\n",
              "         0.12559395,  0.125     ],\n",
              "       [ 0.125     , 20.20736859,  0.12501025, ...,  0.125     ,\n",
              "         1.63105845,  1.12499877],\n",
              "       [ 0.12507972, 14.20950358, 10.12488618, ...,  0.12506018,\n",
              "         0.12500097,  0.125     ],\n",
              "       ...,\n",
              "       [ 0.1252269 ,  8.96286655,  0.12502338, ...,  0.12541231,\n",
              "        16.48534484,  0.125     ],\n",
              "       [ 5.00635763, 16.75544876,  0.125     , ...,  0.125     ,\n",
              "         0.125     ,  0.125     ],\n",
              "       [ 0.125     ,  8.12208508,  0.125     , ...,  0.125     ,\n",
              "         0.125     ,  0.125     ]])"
            ]
          },
          "metadata": {},
          "execution_count": 57
        }
      ],
      "source": [
        "lda.components_"
      ]
    },
    {
      "cell_type": "code",
      "execution_count": 58,
      "metadata": {
        "id": "IZ3WM8gi6vq_"
      },
      "outputs": [],
      "source": [
        "single_topic = lda.components_[0]\n",
        "toptenwords = single_topic.argsort()[-10:]"
      ]
    },
    {
      "cell_type": "code",
      "execution_count": 59,
      "metadata": {
        "colab": {
          "base_uri": "https://localhost:8080/"
        },
        "id": "Wm2Z7Fl58wmd",
        "outputId": "d1551a0a-953e-48d0-e9e3-aadc4136fb92"
      },
      "outputs": [
        {
          "output_type": "stream",
          "name": "stdout",
          "text": [
            "alien\n",
            "big\n",
            "really\n",
            "time\n",
            "bad\n",
            "good\n",
            "like\n",
            "just\n",
            "film\n",
            "movie\n"
          ]
        }
      ],
      "source": [
        "for i in toptenwords:\n",
        "  print(cv2.get_feature_names_out()[i])"
      ]
    },
    {
      "cell_type": "code",
      "execution_count": 60,
      "metadata": {
        "colab": {
          "base_uri": "https://localhost:8080/"
        },
        "id": "VFqyrbfQ_pdq",
        "outputId": "c076d7bd-7f2d-40be-addb-69e7dbd064ef"
      },
      "outputs": [
        {
          "output_type": "stream",
          "name": "stdout",
          "text": [
            "top 10 words for topic 0\n",
            "['alien', 'big', 'really', 'time', 'bad', 'good', 'like', 'just', 'film', 'movie']\n",
            "top 10 words for topic 1\n",
            "['does', 'action', 'time', 'story', 'character', 'just', 'good', 'like', 'movie', 'film']\n",
            "top 10 words for topic 2\n",
            "['characters', 'really', 'films', 'good', 'character', 'time', 'just', 'like', 'movie', 'film']\n",
            "top 10 words for topic 3\n",
            "['character', 'make', 'action', 'little', 'time', 'story', 'just', 'like', 'movie', 'film']\n",
            "top 10 words for topic 4\n",
            "['people', 'time', 'smith', 'way', 'make', 'characters', 'story', 'like', 'movie', 'film']\n",
            "top 10 words for topic 5\n",
            "['love', 'time', 'character', 'just', 'characters', 'story', 'like', 'life', 'movie', 'film']\n",
            "top 10 words for topic 6\n",
            "['characters', 'character', 'way', 'story', 'time', 'good', 'just', 'movie', 'like', 'film']\n",
            "top 10 words for topic 7\n",
            "['way', 'love', 'life', 'story', 'good', 'just', 'like', 'time', 'movie', 'film']\n"
          ]
        }
      ],
      "source": [
        "for i,topic in enumerate(lda.components_):\n",
        "   print(f'top 10 words for topic {i}')\n",
        "   print([cv2.get_feature_names_out()[i] for i in topic.argsort()[-10:]])"
      ]
    },
    {
      "cell_type": "code",
      "execution_count": 61,
      "metadata": {
        "colab": {
          "base_uri": "https://localhost:8080/"
        },
        "id": "4wmf-7ab_yF-",
        "outputId": "ce8a1aa6-40a0-41e0-971a-cfde9b193af4"
      },
      "outputs": [
        {
          "output_type": "execute_result",
          "data": {
            "text/plain": [
              "array([[6.69862145e-04, 6.69493481e-04, 6.69605002e-04, ...,\n",
              "        6.69546112e-04, 6.69667672e-04, 6.69575011e-04],\n",
              "       [4.73640580e-01, 4.21595676e-04, 4.21666195e-04, ...,\n",
              "        3.49584229e-01, 1.74667449e-01, 4.21475954e-04],\n",
              "       [7.28796311e-02, 1.69348177e-01, 4.08424109e-01, ...,\n",
              "        3.47673050e-01, 4.18833595e-04, 4.18811358e-04],\n",
              "       ...,\n",
              "       [3.26108956e-04, 3.26100171e-04, 5.45116732e-01, ...,\n",
              "        3.26060835e-04, 3.26072956e-04, 4.52926796e-01],\n",
              "       [4.35992895e-04, 4.36124951e-04, 4.36058318e-04, ...,\n",
              "        9.96947718e-01, 4.36035375e-04, 4.36001477e-04],\n",
              "       [9.97163763e-01, 4.05241808e-04, 4.05241768e-04, ...,\n",
              "        4.05174414e-04, 4.05211868e-04, 4.05080560e-04]])"
            ]
          },
          "metadata": {},
          "execution_count": 61
        }
      ],
      "source": [
        "topic_result = lda.transform(dtm)\n",
        "topic_result"
      ]
    },
    {
      "cell_type": "code",
      "execution_count": 62,
      "metadata": {
        "id": "duFtQiicCl-1"
      },
      "outputs": [],
      "source": [
        "movie_df['Topic'] = topic_result.argmax(axis = 1)"
      ]
    },
    {
      "cell_type": "code",
      "execution_count": 63,
      "metadata": {
        "colab": {
          "base_uri": "https://localhost:8080/",
          "height": 424
        },
        "id": "Mocj8-CWDCH5",
        "outputId": "9751b748-8f43-42ab-9eca-43dd41ca5a93"
      },
      "outputs": [
        {
          "output_type": "execute_result",
          "data": {
            "text/plain": [
              "     label                                             review  \\\n",
              "0      neg  how do films like mouse hunt get into theatres...   \n",
              "1      neg  some talented actresses are blessed with a dem...   \n",
              "2      pos  this has been an extraordinary year for austra...   \n",
              "3      pos  according to hollywood movies made in last few...   \n",
              "4      neg  my first press screening of 1998 and already i...   \n",
              "...    ...                                                ...   \n",
              "1995   pos  i like movies with albert brooks , and i reall...   \n",
              "1996   pos  it might surprise some to know that joel and e...   \n",
              "1997   pos  the verdict : spine-chilling drama from horror...   \n",
              "1998   pos  i want to correct what i wrote in a former ret...   \n",
              "1999   pos  a couple of months ago , when i first download...   \n",
              "\n",
              "                                                 scores  compound  \\\n",
              "0     {'neg': 0.121, 'neu': 0.778, 'pos': 0.101, 'co...   -0.9125   \n",
              "1     {'neg': 0.12, 'neu': 0.775, 'pos': 0.105, 'com...   -0.8618   \n",
              "2     {'neg': 0.068, 'neu': 0.781, 'pos': 0.15, 'com...    0.9951   \n",
              "3     {'neg': 0.071, 'neu': 0.782, 'pos': 0.147, 'co...    0.9972   \n",
              "4     {'neg': 0.091, 'neu': 0.817, 'pos': 0.093, 'co...   -0.2484   \n",
              "...                                                 ...       ...   \n",
              "1995  {'neg': 0.073, 'neu': 0.763, 'pos': 0.164, 'co...    0.9991   \n",
              "1996  {'neg': 0.238, 'neu': 0.688, 'pos': 0.074, 'co...   -0.9993   \n",
              "1997  {'neg': 0.15, 'neu': 0.702, 'pos': 0.147, 'com...   -0.5966   \n",
              "1998  {'neg': 0.131, 'neu': 0.71, 'pos': 0.16, 'comp...    0.9387   \n",
              "1999  {'neg': 0.071, 'neu': 0.741, 'pos': 0.189, 'co...    0.9982   \n",
              "\n",
              "     compound_score  Topic  \n",
              "0               neg      3  \n",
              "1               neg      0  \n",
              "2               pos      2  \n",
              "3               pos      4  \n",
              "4               neg      1  \n",
              "...             ...    ...  \n",
              "1995            pos      7  \n",
              "1996            neg      2  \n",
              "1997            neg      2  \n",
              "1998            pos      5  \n",
              "1999            pos      0  \n",
              "\n",
              "[1965 rows x 6 columns]"
            ],
            "text/html": [
              "\n",
              "  <div id=\"df-a9e6ab3c-b3a0-4e3e-aad2-bd8e87326387\" class=\"colab-df-container\">\n",
              "    <div>\n",
              "<style scoped>\n",
              "    .dataframe tbody tr th:only-of-type {\n",
              "        vertical-align: middle;\n",
              "    }\n",
              "\n",
              "    .dataframe tbody tr th {\n",
              "        vertical-align: top;\n",
              "    }\n",
              "\n",
              "    .dataframe thead th {\n",
              "        text-align: right;\n",
              "    }\n",
              "</style>\n",
              "<table border=\"1\" class=\"dataframe\">\n",
              "  <thead>\n",
              "    <tr style=\"text-align: right;\">\n",
              "      <th></th>\n",
              "      <th>label</th>\n",
              "      <th>review</th>\n",
              "      <th>scores</th>\n",
              "      <th>compound</th>\n",
              "      <th>compound_score</th>\n",
              "      <th>Topic</th>\n",
              "    </tr>\n",
              "  </thead>\n",
              "  <tbody>\n",
              "    <tr>\n",
              "      <th>0</th>\n",
              "      <td>neg</td>\n",
              "      <td>how do films like mouse hunt get into theatres...</td>\n",
              "      <td>{'neg': 0.121, 'neu': 0.778, 'pos': 0.101, 'co...</td>\n",
              "      <td>-0.9125</td>\n",
              "      <td>neg</td>\n",
              "      <td>3</td>\n",
              "    </tr>\n",
              "    <tr>\n",
              "      <th>1</th>\n",
              "      <td>neg</td>\n",
              "      <td>some talented actresses are blessed with a dem...</td>\n",
              "      <td>{'neg': 0.12, 'neu': 0.775, 'pos': 0.105, 'com...</td>\n",
              "      <td>-0.8618</td>\n",
              "      <td>neg</td>\n",
              "      <td>0</td>\n",
              "    </tr>\n",
              "    <tr>\n",
              "      <th>2</th>\n",
              "      <td>pos</td>\n",
              "      <td>this has been an extraordinary year for austra...</td>\n",
              "      <td>{'neg': 0.068, 'neu': 0.781, 'pos': 0.15, 'com...</td>\n",
              "      <td>0.9951</td>\n",
              "      <td>pos</td>\n",
              "      <td>2</td>\n",
              "    </tr>\n",
              "    <tr>\n",
              "      <th>3</th>\n",
              "      <td>pos</td>\n",
              "      <td>according to hollywood movies made in last few...</td>\n",
              "      <td>{'neg': 0.071, 'neu': 0.782, 'pos': 0.147, 'co...</td>\n",
              "      <td>0.9972</td>\n",
              "      <td>pos</td>\n",
              "      <td>4</td>\n",
              "    </tr>\n",
              "    <tr>\n",
              "      <th>4</th>\n",
              "      <td>neg</td>\n",
              "      <td>my first press screening of 1998 and already i...</td>\n",
              "      <td>{'neg': 0.091, 'neu': 0.817, 'pos': 0.093, 'co...</td>\n",
              "      <td>-0.2484</td>\n",
              "      <td>neg</td>\n",
              "      <td>1</td>\n",
              "    </tr>\n",
              "    <tr>\n",
              "      <th>...</th>\n",
              "      <td>...</td>\n",
              "      <td>...</td>\n",
              "      <td>...</td>\n",
              "      <td>...</td>\n",
              "      <td>...</td>\n",
              "      <td>...</td>\n",
              "    </tr>\n",
              "    <tr>\n",
              "      <th>1995</th>\n",
              "      <td>pos</td>\n",
              "      <td>i like movies with albert brooks , and i reall...</td>\n",
              "      <td>{'neg': 0.073, 'neu': 0.763, 'pos': 0.164, 'co...</td>\n",
              "      <td>0.9991</td>\n",
              "      <td>pos</td>\n",
              "      <td>7</td>\n",
              "    </tr>\n",
              "    <tr>\n",
              "      <th>1996</th>\n",
              "      <td>pos</td>\n",
              "      <td>it might surprise some to know that joel and e...</td>\n",
              "      <td>{'neg': 0.238, 'neu': 0.688, 'pos': 0.074, 'co...</td>\n",
              "      <td>-0.9993</td>\n",
              "      <td>neg</td>\n",
              "      <td>2</td>\n",
              "    </tr>\n",
              "    <tr>\n",
              "      <th>1997</th>\n",
              "      <td>pos</td>\n",
              "      <td>the verdict : spine-chilling drama from horror...</td>\n",
              "      <td>{'neg': 0.15, 'neu': 0.702, 'pos': 0.147, 'com...</td>\n",
              "      <td>-0.5966</td>\n",
              "      <td>neg</td>\n",
              "      <td>2</td>\n",
              "    </tr>\n",
              "    <tr>\n",
              "      <th>1998</th>\n",
              "      <td>pos</td>\n",
              "      <td>i want to correct what i wrote in a former ret...</td>\n",
              "      <td>{'neg': 0.131, 'neu': 0.71, 'pos': 0.16, 'comp...</td>\n",
              "      <td>0.9387</td>\n",
              "      <td>pos</td>\n",
              "      <td>5</td>\n",
              "    </tr>\n",
              "    <tr>\n",
              "      <th>1999</th>\n",
              "      <td>pos</td>\n",
              "      <td>a couple of months ago , when i first download...</td>\n",
              "      <td>{'neg': 0.071, 'neu': 0.741, 'pos': 0.189, 'co...</td>\n",
              "      <td>0.9982</td>\n",
              "      <td>pos</td>\n",
              "      <td>0</td>\n",
              "    </tr>\n",
              "  </tbody>\n",
              "</table>\n",
              "<p>1965 rows × 6 columns</p>\n",
              "</div>\n",
              "    <div class=\"colab-df-buttons\">\n",
              "\n",
              "  <div class=\"colab-df-container\">\n",
              "    <button class=\"colab-df-convert\" onclick=\"convertToInteractive('df-a9e6ab3c-b3a0-4e3e-aad2-bd8e87326387')\"\n",
              "            title=\"Convert this dataframe to an interactive table.\"\n",
              "            style=\"display:none;\">\n",
              "\n",
              "  <svg xmlns=\"http://www.w3.org/2000/svg\" height=\"24px\" viewBox=\"0 -960 960 960\">\n",
              "    <path d=\"M120-120v-720h720v720H120Zm60-500h600v-160H180v160Zm220 220h160v-160H400v160Zm0 220h160v-160H400v160ZM180-400h160v-160H180v160Zm440 0h160v-160H620v160ZM180-180h160v-160H180v160Zm440 0h160v-160H620v160Z\"/>\n",
              "  </svg>\n",
              "    </button>\n",
              "\n",
              "  <style>\n",
              "    .colab-df-container {\n",
              "      display:flex;\n",
              "      gap: 12px;\n",
              "    }\n",
              "\n",
              "    .colab-df-convert {\n",
              "      background-color: #E8F0FE;\n",
              "      border: none;\n",
              "      border-radius: 50%;\n",
              "      cursor: pointer;\n",
              "      display: none;\n",
              "      fill: #1967D2;\n",
              "      height: 32px;\n",
              "      padding: 0 0 0 0;\n",
              "      width: 32px;\n",
              "    }\n",
              "\n",
              "    .colab-df-convert:hover {\n",
              "      background-color: #E2EBFA;\n",
              "      box-shadow: 0px 1px 2px rgba(60, 64, 67, 0.3), 0px 1px 3px 1px rgba(60, 64, 67, 0.15);\n",
              "      fill: #174EA6;\n",
              "    }\n",
              "\n",
              "    .colab-df-buttons div {\n",
              "      margin-bottom: 4px;\n",
              "    }\n",
              "\n",
              "    [theme=dark] .colab-df-convert {\n",
              "      background-color: #3B4455;\n",
              "      fill: #D2E3FC;\n",
              "    }\n",
              "\n",
              "    [theme=dark] .colab-df-convert:hover {\n",
              "      background-color: #434B5C;\n",
              "      box-shadow: 0px 1px 3px 1px rgba(0, 0, 0, 0.15);\n",
              "      filter: drop-shadow(0px 1px 2px rgba(0, 0, 0, 0.3));\n",
              "      fill: #FFFFFF;\n",
              "    }\n",
              "  </style>\n",
              "\n",
              "    <script>\n",
              "      const buttonEl =\n",
              "        document.querySelector('#df-a9e6ab3c-b3a0-4e3e-aad2-bd8e87326387 button.colab-df-convert');\n",
              "      buttonEl.style.display =\n",
              "        google.colab.kernel.accessAllowed ? 'block' : 'none';\n",
              "\n",
              "      async function convertToInteractive(key) {\n",
              "        const element = document.querySelector('#df-a9e6ab3c-b3a0-4e3e-aad2-bd8e87326387');\n",
              "        const dataTable =\n",
              "          await google.colab.kernel.invokeFunction('convertToInteractive',\n",
              "                                                    [key], {});\n",
              "        if (!dataTable) return;\n",
              "\n",
              "        const docLinkHtml = 'Like what you see? Visit the ' +\n",
              "          '<a target=\"_blank\" href=https://colab.research.google.com/notebooks/data_table.ipynb>data table notebook</a>'\n",
              "          + ' to learn more about interactive tables.';\n",
              "        element.innerHTML = '';\n",
              "        dataTable['output_type'] = 'display_data';\n",
              "        await google.colab.output.renderOutput(dataTable, element);\n",
              "        const docLink = document.createElement('div');\n",
              "        docLink.innerHTML = docLinkHtml;\n",
              "        element.appendChild(docLink);\n",
              "      }\n",
              "    </script>\n",
              "  </div>\n",
              "\n",
              "\n",
              "<div id=\"df-fa95a5aa-c4af-43dc-9b1d-1218aaa7d8ec\">\n",
              "  <button class=\"colab-df-quickchart\" onclick=\"quickchart('df-fa95a5aa-c4af-43dc-9b1d-1218aaa7d8ec')\"\n",
              "            title=\"Suggest charts\"\n",
              "            style=\"display:none;\">\n",
              "\n",
              "<svg xmlns=\"http://www.w3.org/2000/svg\" height=\"24px\"viewBox=\"0 0 24 24\"\n",
              "     width=\"24px\">\n",
              "    <g>\n",
              "        <path d=\"M19 3H5c-1.1 0-2 .9-2 2v14c0 1.1.9 2 2 2h14c1.1 0 2-.9 2-2V5c0-1.1-.9-2-2-2zM9 17H7v-7h2v7zm4 0h-2V7h2v10zm4 0h-2v-4h2v4z\"/>\n",
              "    </g>\n",
              "</svg>\n",
              "  </button>\n",
              "\n",
              "<style>\n",
              "  .colab-df-quickchart {\n",
              "      --bg-color: #E8F0FE;\n",
              "      --fill-color: #1967D2;\n",
              "      --hover-bg-color: #E2EBFA;\n",
              "      --hover-fill-color: #174EA6;\n",
              "      --disabled-fill-color: #AAA;\n",
              "      --disabled-bg-color: #DDD;\n",
              "  }\n",
              "\n",
              "  [theme=dark] .colab-df-quickchart {\n",
              "      --bg-color: #3B4455;\n",
              "      --fill-color: #D2E3FC;\n",
              "      --hover-bg-color: #434B5C;\n",
              "      --hover-fill-color: #FFFFFF;\n",
              "      --disabled-bg-color: #3B4455;\n",
              "      --disabled-fill-color: #666;\n",
              "  }\n",
              "\n",
              "  .colab-df-quickchart {\n",
              "    background-color: var(--bg-color);\n",
              "    border: none;\n",
              "    border-radius: 50%;\n",
              "    cursor: pointer;\n",
              "    display: none;\n",
              "    fill: var(--fill-color);\n",
              "    height: 32px;\n",
              "    padding: 0;\n",
              "    width: 32px;\n",
              "  }\n",
              "\n",
              "  .colab-df-quickchart:hover {\n",
              "    background-color: var(--hover-bg-color);\n",
              "    box-shadow: 0 1px 2px rgba(60, 64, 67, 0.3), 0 1px 3px 1px rgba(60, 64, 67, 0.15);\n",
              "    fill: var(--button-hover-fill-color);\n",
              "  }\n",
              "\n",
              "  .colab-df-quickchart-complete:disabled,\n",
              "  .colab-df-quickchart-complete:disabled:hover {\n",
              "    background-color: var(--disabled-bg-color);\n",
              "    fill: var(--disabled-fill-color);\n",
              "    box-shadow: none;\n",
              "  }\n",
              "\n",
              "  .colab-df-spinner {\n",
              "    border: 2px solid var(--fill-color);\n",
              "    border-color: transparent;\n",
              "    border-bottom-color: var(--fill-color);\n",
              "    animation:\n",
              "      spin 1s steps(1) infinite;\n",
              "  }\n",
              "\n",
              "  @keyframes spin {\n",
              "    0% {\n",
              "      border-color: transparent;\n",
              "      border-bottom-color: var(--fill-color);\n",
              "      border-left-color: var(--fill-color);\n",
              "    }\n",
              "    20% {\n",
              "      border-color: transparent;\n",
              "      border-left-color: var(--fill-color);\n",
              "      border-top-color: var(--fill-color);\n",
              "    }\n",
              "    30% {\n",
              "      border-color: transparent;\n",
              "      border-left-color: var(--fill-color);\n",
              "      border-top-color: var(--fill-color);\n",
              "      border-right-color: var(--fill-color);\n",
              "    }\n",
              "    40% {\n",
              "      border-color: transparent;\n",
              "      border-right-color: var(--fill-color);\n",
              "      border-top-color: var(--fill-color);\n",
              "    }\n",
              "    60% {\n",
              "      border-color: transparent;\n",
              "      border-right-color: var(--fill-color);\n",
              "    }\n",
              "    80% {\n",
              "      border-color: transparent;\n",
              "      border-right-color: var(--fill-color);\n",
              "      border-bottom-color: var(--fill-color);\n",
              "    }\n",
              "    90% {\n",
              "      border-color: transparent;\n",
              "      border-bottom-color: var(--fill-color);\n",
              "    }\n",
              "  }\n",
              "</style>\n",
              "\n",
              "  <script>\n",
              "    async function quickchart(key) {\n",
              "      const quickchartButtonEl =\n",
              "        document.querySelector('#' + key + ' button');\n",
              "      quickchartButtonEl.disabled = true;  // To prevent multiple clicks.\n",
              "      quickchartButtonEl.classList.add('colab-df-spinner');\n",
              "      try {\n",
              "        const charts = await google.colab.kernel.invokeFunction(\n",
              "            'suggestCharts', [key], {});\n",
              "      } catch (error) {\n",
              "        console.error('Error during call to suggestCharts:', error);\n",
              "      }\n",
              "      quickchartButtonEl.classList.remove('colab-df-spinner');\n",
              "      quickchartButtonEl.classList.add('colab-df-quickchart-complete');\n",
              "    }\n",
              "    (() => {\n",
              "      let quickchartButtonEl =\n",
              "        document.querySelector('#df-fa95a5aa-c4af-43dc-9b1d-1218aaa7d8ec button');\n",
              "      quickchartButtonEl.style.display =\n",
              "        google.colab.kernel.accessAllowed ? 'block' : 'none';\n",
              "    })();\n",
              "  </script>\n",
              "</div>\n",
              "\n",
              "  <div id=\"id_a0c2951c-4c07-4aac-8e4d-41879c158b7f\">\n",
              "    <style>\n",
              "      .colab-df-generate {\n",
              "        background-color: #E8F0FE;\n",
              "        border: none;\n",
              "        border-radius: 50%;\n",
              "        cursor: pointer;\n",
              "        display: none;\n",
              "        fill: #1967D2;\n",
              "        height: 32px;\n",
              "        padding: 0 0 0 0;\n",
              "        width: 32px;\n",
              "      }\n",
              "\n",
              "      .colab-df-generate:hover {\n",
              "        background-color: #E2EBFA;\n",
              "        box-shadow: 0px 1px 2px rgba(60, 64, 67, 0.3), 0px 1px 3px 1px rgba(60, 64, 67, 0.15);\n",
              "        fill: #174EA6;\n",
              "      }\n",
              "\n",
              "      [theme=dark] .colab-df-generate {\n",
              "        background-color: #3B4455;\n",
              "        fill: #D2E3FC;\n",
              "      }\n",
              "\n",
              "      [theme=dark] .colab-df-generate:hover {\n",
              "        background-color: #434B5C;\n",
              "        box-shadow: 0px 1px 3px 1px rgba(0, 0, 0, 0.15);\n",
              "        filter: drop-shadow(0px 1px 2px rgba(0, 0, 0, 0.3));\n",
              "        fill: #FFFFFF;\n",
              "      }\n",
              "    </style>\n",
              "    <button class=\"colab-df-generate\" onclick=\"generateWithVariable('movie_df')\"\n",
              "            title=\"Generate code using this dataframe.\"\n",
              "            style=\"display:none;\">\n",
              "\n",
              "  <svg xmlns=\"http://www.w3.org/2000/svg\" height=\"24px\"viewBox=\"0 0 24 24\"\n",
              "       width=\"24px\">\n",
              "    <path d=\"M7,19H8.4L18.45,9,17,7.55,7,17.6ZM5,21V16.75L18.45,3.32a2,2,0,0,1,2.83,0l1.4,1.43a1.91,1.91,0,0,1,.58,1.4,1.91,1.91,0,0,1-.58,1.4L9.25,21ZM18.45,9,17,7.55Zm-12,3A5.31,5.31,0,0,0,4.9,8.1,5.31,5.31,0,0,0,1,6.5,5.31,5.31,0,0,0,4.9,4.9,5.31,5.31,0,0,0,6.5,1,5.31,5.31,0,0,0,8.1,4.9,5.31,5.31,0,0,0,12,6.5,5.46,5.46,0,0,0,6.5,12Z\"/>\n",
              "  </svg>\n",
              "    </button>\n",
              "    <script>\n",
              "      (() => {\n",
              "      const buttonEl =\n",
              "        document.querySelector('#id_a0c2951c-4c07-4aac-8e4d-41879c158b7f button.colab-df-generate');\n",
              "      buttonEl.style.display =\n",
              "        google.colab.kernel.accessAllowed ? 'block' : 'none';\n",
              "\n",
              "      buttonEl.onclick = () => {\n",
              "        google.colab.notebook.generateWithVariable('movie_df');\n",
              "      }\n",
              "      })();\n",
              "    </script>\n",
              "  </div>\n",
              "\n",
              "    </div>\n",
              "  </div>\n"
            ]
          },
          "metadata": {},
          "execution_count": 63
        }
      ],
      "source": [
        "movie_df"
      ]
    },
    {
      "cell_type": "code",
      "execution_count": 64,
      "metadata": {
        "id": "YlNL4nEGXH4s"
      },
      "outputs": [],
      "source": [
        "def open_file(path):\n",
        "  with open(path) as f:\n",
        "    text = f.read()\n",
        "    return text"
      ]
    },
    {
      "cell_type": "code",
      "execution_count": 65,
      "metadata": {
        "id": "GB6C0Evka4jc"
      },
      "outputs": [],
      "source": [
        "# print(open_file('/content/melville-moby_dick.txt'))"
      ]
    },
    {
      "cell_type": "code",
      "execution_count": 66,
      "metadata": {
        "id": "L-P4sViAa-Y7"
      },
      "outputs": [],
      "source": [
        "nlp2.max_length = 1198623"
      ]
    },
    {
      "cell_type": "code",
      "execution_count": 67,
      "metadata": {
        "id": "dP7WvBNacB-P"
      },
      "outputs": [],
      "source": [
        "def tokns(docmnt):\n",
        "  return [token.text.lower() for token in nlp2(docmnt)]"
      ]
    },
    {
      "cell_type": "code",
      "execution_count": 68,
      "metadata": {
        "id": "DFBCxAZLdDYF"
      },
      "outputs": [],
      "source": [
        "d = open_file('/content/moby_dick_four_chapters.txt')"
      ]
    },
    {
      "cell_type": "code",
      "execution_count": 69,
      "metadata": {
        "colab": {
          "base_uri": "https://localhost:8080/"
        },
        "id": "CsSsaosqdHyt",
        "outputId": "a622d5cd-4254-4a8f-b677-4e59debade02"
      },
      "outputs": [
        {
          "output_type": "stream",
          "name": "stderr",
          "text": [
            "/usr/local/lib/python3.10/dist-packages/spacy/pipeline/lemmatizer.py:211: UserWarning: [W108] The rule-based lemmatizer did not find POS annotation for one or more tokens. Check that your pipeline includes components that assign token.pos, typically 'tagger'+'attribute_ruler' or 'morphologizer'.\n",
            "  warnings.warn(Warnings.W108)\n"
          ]
        }
      ],
      "source": [
        "tokens = tokns(d)"
      ]
    },
    {
      "cell_type": "code",
      "execution_count": 70,
      "metadata": {
        "colab": {
          "base_uri": "https://localhost:8080/"
        },
        "id": "IYtsRvfsdSlW",
        "outputId": "ea8267fd-5726-4e7c-a9f6-cc91f12094c8"
      },
      "outputs": [
        {
          "output_type": "execute_result",
          "data": {
            "text/plain": [
              "14480"
            ]
          },
          "metadata": {},
          "execution_count": 70
        }
      ],
      "source": [
        "len(tokens)"
      ]
    },
    {
      "cell_type": "code",
      "execution_count": 71,
      "metadata": {
        "id": "9ZtR3NI0e6W0"
      },
      "outputs": [],
      "source": [
        "train_len = 25+1\n",
        "text_sequences = []\n",
        "\n",
        "for i in range(train_len, len(tokens)):\n",
        "    seq = tokens[ i - train_len : i ]\n",
        "    text_sequences.append(seq)"
      ]
    },
    {
      "cell_type": "code",
      "execution_count": 72,
      "metadata": {
        "id": "h82Q_Pr0g53S"
      },
      "outputs": [],
      "source": [
        "# arr = [1,2,3,4,5,6,7,8,9,10,11,12,13,14]\n",
        "# res = []\n",
        "# for i in range(len(arr)):\n",
        "#   seq = arr[ i - 5 : i]\n",
        "#   res.append(seq)\n",
        "# res"
      ]
    },
    {
      "cell_type": "code",
      "execution_count": 72,
      "metadata": {
        "id": "6aF-uAKjGNi_"
      },
      "outputs": [],
      "source": []
    },
    {
      "cell_type": "code",
      "execution_count": 73,
      "metadata": {
        "colab": {
          "base_uri": "https://localhost:8080/"
        },
        "id": "fWo5Za2-flOF",
        "outputId": "df681a10-65e0-40a1-dc38-e88282fef5c2"
      },
      "outputs": [
        {
          "output_type": "stream",
          "name": "stdout",
          "text": [
            "call me ishmael .   some years ago -- never mind how long \n",
            " precisely -- having little or no money in my purse , and\n"
          ]
        }
      ],
      "source": [
        "print(' '.join(text_sequences[0]))"
      ]
    },
    {
      "cell_type": "code",
      "execution_count": 74,
      "metadata": {
        "colab": {
          "base_uri": "https://localhost:8080/"
        },
        "id": "cyaJMoUvgFEA",
        "outputId": "a2b51976-f7e4-4752-ac35-99353fb287ea"
      },
      "outputs": [
        {
          "output_type": "stream",
          "name": "stdout",
          "text": [
            "money in my purse , and nothing \n",
            " particular to interest me on shore , i thought i would sail about a \n",
            " little and see\n"
          ]
        }
      ],
      "source": [
        "print(' '.join(text_sequences[20]))"
      ]
    },
    {
      "cell_type": "code",
      "execution_count": 75,
      "metadata": {
        "id": "fG9L6N95ivmX"
      },
      "outputs": [],
      "source": [
        "from keras.preprocessing.text import Tokenizer\n",
        "tokenizer = Tokenizer(filters='!\"#$%&()*+,-./:;<=>?@[\\\\]^_`{|}~\\t\\n')"
      ]
    },
    {
      "cell_type": "code",
      "execution_count": 76,
      "metadata": {
        "id": "96zyAouji63U"
      },
      "outputs": [],
      "source": [
        "tokenizer.fit_on_texts(text_sequences)"
      ]
    },
    {
      "cell_type": "code",
      "execution_count": 77,
      "metadata": {
        "id": "9FqtwkT_kdhT"
      },
      "outputs": [],
      "source": [
        "sequence = tokenizer.texts_to_sequences(text_sequences)"
      ]
    },
    {
      "cell_type": "code",
      "execution_count": 78,
      "metadata": {
        "id": "bgOfpGjPjwKS"
      },
      "outputs": [],
      "source": [
        "# tokenizer.index_word"
      ]
    },
    {
      "cell_type": "code",
      "execution_count": 79,
      "metadata": {
        "id": "0cVji3XskWMj"
      },
      "outputs": [],
      "source": [
        "# tokenizer.word_counts"
      ]
    },
    {
      "cell_type": "code",
      "execution_count": 80,
      "metadata": {
        "id": "banNvkgolBsT"
      },
      "outputs": [],
      "source": [
        "sequences = np.array(sequence)"
      ]
    },
    {
      "cell_type": "code",
      "execution_count": 81,
      "metadata": {
        "colab": {
          "base_uri": "https://localhost:8080/"
        },
        "id": "ax7CEfeCF6V1",
        "outputId": "ae7fab16-322c-4708-f6b9-c6784009b6d8"
      },
      "outputs": [
        {
          "output_type": "execute_result",
          "data": {
            "text/plain": [
              "2734"
            ]
          },
          "metadata": {},
          "execution_count": 81
        }
      ],
      "source": [
        "vocabulary_size = len(tokenizer.word_counts)\n",
        "vocabulary_size"
      ]
    },
    {
      "cell_type": "code",
      "execution_count": 82,
      "metadata": {
        "id": "wtTrwrhUj0Mq"
      },
      "outputs": [],
      "source": [
        "# sequence"
      ]
    },
    {
      "cell_type": "code",
      "execution_count": 83,
      "metadata": {
        "id": "qqsZMwQ8lMSG"
      },
      "outputs": [],
      "source": [
        "import keras\n",
        "from keras.models import Sequential\n",
        "from keras.layers import Dense,LSTM,Embedding"
      ]
    },
    {
      "cell_type": "code",
      "execution_count": 84,
      "metadata": {
        "id": "JnyLGG47FwYa"
      },
      "outputs": [],
      "source": [
        "def create_model(vocabulary_size, seq_len):\n",
        "    model = Sequential()\n",
        "    model.add(Embedding(vocabulary_size, 25, input_length=seq_len))\n",
        "    model.add(LSTM(150, return_sequences=True))\n",
        "    model.add(LSTM(150))\n",
        "    model.add(Dense(150, activation='relu'))\n",
        "\n",
        "    model.add(Dense(vocabulary_size, activation='softmax'))\n",
        "\n",
        "    model.compile(loss='categorical_crossentropy', optimizer='adam', metrics=['accuracy'])\n",
        "\n",
        "    model.summary()\n",
        "\n",
        "    return model"
      ]
    },
    {
      "cell_type": "code",
      "execution_count": 85,
      "metadata": {
        "id": "r-mHzgPcGiOw"
      },
      "outputs": [],
      "source": [
        "from keras.utils import to_categorical"
      ]
    },
    {
      "cell_type": "code",
      "execution_count": 86,
      "metadata": {
        "id": "5Jz8G8FZGjMI"
      },
      "outputs": [],
      "source": [
        "X = sequences[:,:-1]\n",
        "y = sequences[:,-1]"
      ]
    },
    {
      "cell_type": "code",
      "execution_count": 87,
      "metadata": {
        "id": "V67NfrjGGvz0"
      },
      "outputs": [],
      "source": [
        "y = to_categorical(y, num_classes=vocabulary_size+1)"
      ]
    },
    {
      "cell_type": "code",
      "execution_count": 88,
      "metadata": {
        "id": "oIumrDrMG3ei"
      },
      "outputs": [],
      "source": [
        "seq_len = X.shape[1]"
      ]
    },
    {
      "cell_type": "code",
      "execution_count": 89,
      "metadata": {
        "colab": {
          "base_uri": "https://localhost:8080/"
        },
        "id": "2SCouO6NG6Zk",
        "outputId": "1211563b-9572-4fae-96af-7d31e197322b"
      },
      "outputs": [
        {
          "output_type": "stream",
          "name": "stdout",
          "text": [
            "Model: \"sequential\"\n",
            "_________________________________________________________________\n",
            " Layer (type)                Output Shape              Param #   \n",
            "=================================================================\n",
            " embedding (Embedding)       (None, 25, 25)            68375     \n",
            "                                                                 \n",
            " lstm (LSTM)                 (None, 25, 150)           105600    \n",
            "                                                                 \n",
            " lstm_1 (LSTM)               (None, 150)               180600    \n",
            "                                                                 \n",
            " dense (Dense)               (None, 150)               22650     \n",
            "                                                                 \n",
            " dense_1 (Dense)             (None, 2735)              412985    \n",
            "                                                                 \n",
            "=================================================================\n",
            "Total params: 790210 (3.01 MB)\n",
            "Trainable params: 790210 (3.01 MB)\n",
            "Non-trainable params: 0 (0.00 Byte)\n",
            "_________________________________________________________________\n"
          ]
        }
      ],
      "source": [
        "model = create_model(vocabulary_size+1, seq_len)"
      ]
    },
    {
      "cell_type": "code",
      "execution_count": 90,
      "metadata": {
        "colab": {
          "base_uri": "https://localhost:8080/"
        },
        "id": "UPW3LyllG_yJ",
        "outputId": "c66a0923-e80d-4e89-bfc7-42ceed67e7ee"
      },
      "outputs": [
        {
          "output_type": "stream",
          "name": "stdout",
          "text": [
            "Epoch 1/160\n",
            "113/113 [==============================] - 17s 106ms/step - loss: 6.3932 - accuracy: 0.0589\n",
            "Epoch 2/160\n",
            "113/113 [==============================] - 5s 40ms/step - loss: 5.9537 - accuracy: 0.0624\n",
            "Epoch 3/160\n",
            "113/113 [==============================] - 3s 24ms/step - loss: 5.9167 - accuracy: 0.0643\n",
            "Epoch 4/160\n",
            "113/113 [==============================] - 3s 26ms/step - loss: 5.7701 - accuracy: 0.0793\n",
            "Epoch 5/160\n",
            "113/113 [==============================] - 2s 21ms/step - loss: 5.6211 - accuracy: 0.1101\n",
            "Epoch 6/160\n",
            "113/113 [==============================] - 2s 14ms/step - loss: 5.4596 - accuracy: 0.1157\n",
            "Epoch 7/160\n",
            "113/113 [==============================] - 2s 15ms/step - loss: 5.3364 - accuracy: 0.1218\n",
            "Epoch 8/160\n",
            "113/113 [==============================] - 1s 13ms/step - loss: 5.2337 - accuracy: 0.1274\n",
            "Epoch 9/160\n",
            "113/113 [==============================] - 1s 12ms/step - loss: 5.1505 - accuracy: 0.1297\n",
            "Epoch 10/160\n",
            "113/113 [==============================] - 2s 15ms/step - loss: 5.0792 - accuracy: 0.1375\n",
            "Epoch 11/160\n",
            "113/113 [==============================] - 2s 15ms/step - loss: 5.0154 - accuracy: 0.1389\n",
            "Epoch 12/160\n",
            "113/113 [==============================] - 2s 15ms/step - loss: 4.9577 - accuracy: 0.1422\n",
            "Epoch 13/160\n",
            "113/113 [==============================] - 2s 14ms/step - loss: 4.9024 - accuracy: 0.1418\n",
            "Epoch 14/160\n",
            "113/113 [==============================] - 1s 13ms/step - loss: 4.8489 - accuracy: 0.1468\n",
            "Epoch 15/160\n",
            "113/113 [==============================] - 1s 9ms/step - loss: 4.7936 - accuracy: 0.1488\n",
            "Epoch 16/160\n",
            "113/113 [==============================] - 1s 12ms/step - loss: 4.7363 - accuracy: 0.1518\n",
            "Epoch 17/160\n",
            "113/113 [==============================] - 1s 11ms/step - loss: 4.6812 - accuracy: 0.1555\n",
            "Epoch 18/160\n",
            "113/113 [==============================] - 1s 11ms/step - loss: 4.6288 - accuracy: 0.1588\n",
            "Epoch 19/160\n",
            "113/113 [==============================] - 1s 11ms/step - loss: 4.5750 - accuracy: 0.1653\n",
            "Epoch 20/160\n",
            "113/113 [==============================] - 1s 12ms/step - loss: 4.5215 - accuracy: 0.1647\n",
            "Epoch 21/160\n",
            "113/113 [==============================] - 2s 14ms/step - loss: 4.4727 - accuracy: 0.1703\n",
            "Epoch 22/160\n",
            "113/113 [==============================] - 1s 12ms/step - loss: 4.4195 - accuracy: 0.1732\n",
            "Epoch 23/160\n",
            "113/113 [==============================] - 1s 11ms/step - loss: 4.3639 - accuracy: 0.1757\n",
            "Epoch 24/160\n",
            "113/113 [==============================] - 1s 11ms/step - loss: 4.3185 - accuracy: 0.1779\n",
            "Epoch 25/160\n",
            "113/113 [==============================] - 1s 10ms/step - loss: 4.2626 - accuracy: 0.1837\n",
            "Epoch 26/160\n",
            "113/113 [==============================] - 1s 11ms/step - loss: 4.2202 - accuracy: 0.1838\n",
            "Epoch 27/160\n",
            "113/113 [==============================] - 1s 10ms/step - loss: 4.1654 - accuracy: 0.1843\n",
            "Epoch 28/160\n",
            "113/113 [==============================] - 1s 13ms/step - loss: 4.1148 - accuracy: 0.1883\n",
            "Epoch 29/160\n",
            "113/113 [==============================] - 2s 19ms/step - loss: 4.0710 - accuracy: 0.1912\n",
            "Epoch 30/160\n",
            "113/113 [==============================] - 2s 20ms/step - loss: 4.0237 - accuracy: 0.1951\n",
            "Epoch 31/160\n",
            "113/113 [==============================] - 2s 15ms/step - loss: 3.9709 - accuracy: 0.1970\n",
            "Epoch 32/160\n",
            "113/113 [==============================] - 1s 11ms/step - loss: 3.9265 - accuracy: 0.1990\n",
            "Epoch 33/160\n",
            "113/113 [==============================] - 1s 10ms/step - loss: 3.8800 - accuracy: 0.2029\n",
            "Epoch 34/160\n",
            "113/113 [==============================] - 1s 10ms/step - loss: 3.8393 - accuracy: 0.2042\n",
            "Epoch 35/160\n",
            "113/113 [==============================] - 1s 10ms/step - loss: 3.7857 - accuracy: 0.2064\n",
            "Epoch 36/160\n",
            "113/113 [==============================] - 1s 12ms/step - loss: 3.7382 - accuracy: 0.2113\n",
            "Epoch 37/160\n",
            "113/113 [==============================] - 1s 10ms/step - loss: 3.6907 - accuracy: 0.2152\n",
            "Epoch 38/160\n",
            "113/113 [==============================] - 1s 10ms/step - loss: 3.6549 - accuracy: 0.2145\n",
            "Epoch 39/160\n",
            "113/113 [==============================] - 1s 12ms/step - loss: 3.6095 - accuracy: 0.2232\n",
            "Epoch 40/160\n",
            "113/113 [==============================] - 2s 13ms/step - loss: 3.5629 - accuracy: 0.2256\n",
            "Epoch 41/160\n",
            "113/113 [==============================] - 1s 13ms/step - loss: 3.5213 - accuracy: 0.2296\n",
            "Epoch 42/160\n",
            "113/113 [==============================] - 1s 9ms/step - loss: 3.4798 - accuracy: 0.2331\n",
            "Epoch 43/160\n",
            "113/113 [==============================] - 1s 9ms/step - loss: 3.4362 - accuracy: 0.2411\n",
            "Epoch 44/160\n",
            "113/113 [==============================] - 1s 10ms/step - loss: 3.3916 - accuracy: 0.2472\n",
            "Epoch 45/160\n",
            "113/113 [==============================] - 1s 10ms/step - loss: 3.3545 - accuracy: 0.2492\n",
            "Epoch 46/160\n",
            "113/113 [==============================] - 1s 9ms/step - loss: 3.3079 - accuracy: 0.2560\n",
            "Epoch 47/160\n",
            "113/113 [==============================] - 1s 9ms/step - loss: 3.2744 - accuracy: 0.2617\n",
            "Epoch 48/160\n",
            "113/113 [==============================] - 1s 9ms/step - loss: 3.2356 - accuracy: 0.2668\n",
            "Epoch 49/160\n",
            "113/113 [==============================] - 1s 9ms/step - loss: 3.1952 - accuracy: 0.2733\n",
            "Epoch 50/160\n",
            "113/113 [==============================] - 2s 14ms/step - loss: 3.1615 - accuracy: 0.2803\n",
            "Epoch 51/160\n",
            "113/113 [==============================] - 1s 12ms/step - loss: 3.1247 - accuracy: 0.2831\n",
            "Epoch 52/160\n",
            "113/113 [==============================] - 1s 11ms/step - loss: 3.0902 - accuracy: 0.2891\n",
            "Epoch 53/160\n",
            "113/113 [==============================] - 1s 11ms/step - loss: 3.0483 - accuracy: 0.2961\n",
            "Epoch 54/160\n",
            "113/113 [==============================] - 1s 9ms/step - loss: 3.0128 - accuracy: 0.3025\n",
            "Epoch 55/160\n",
            "113/113 [==============================] - 1s 9ms/step - loss: 2.9819 - accuracy: 0.3034\n",
            "Epoch 56/160\n",
            "113/113 [==============================] - 1s 11ms/step - loss: 2.9478 - accuracy: 0.3131\n",
            "Epoch 57/160\n",
            "113/113 [==============================] - 1s 9ms/step - loss: 2.9149 - accuracy: 0.3181\n",
            "Epoch 58/160\n",
            "113/113 [==============================] - 1s 9ms/step - loss: 2.8801 - accuracy: 0.3223\n",
            "Epoch 59/160\n",
            "113/113 [==============================] - 1s 9ms/step - loss: 2.8493 - accuracy: 0.3257\n",
            "Epoch 60/160\n",
            "113/113 [==============================] - 1s 9ms/step - loss: 2.8309 - accuracy: 0.3313\n",
            "Epoch 61/160\n",
            "113/113 [==============================] - 1s 11ms/step - loss: 2.7973 - accuracy: 0.3378\n",
            "Epoch 62/160\n",
            "113/113 [==============================] - 1s 12ms/step - loss: 2.7580 - accuracy: 0.3433\n",
            "Epoch 63/160\n",
            "113/113 [==============================] - 1s 13ms/step - loss: 2.7280 - accuracy: 0.3529\n",
            "Epoch 64/160\n",
            "113/113 [==============================] - 1s 12ms/step - loss: 2.6985 - accuracy: 0.3554\n",
            "Epoch 65/160\n",
            "113/113 [==============================] - 1s 9ms/step - loss: 2.6710 - accuracy: 0.3613\n",
            "Epoch 66/160\n",
            "113/113 [==============================] - 1s 11ms/step - loss: 2.6462 - accuracy: 0.3641\n",
            "Epoch 67/160\n",
            "113/113 [==============================] - 1s 10ms/step - loss: 2.6214 - accuracy: 0.3688\n",
            "Epoch 68/160\n",
            "113/113 [==============================] - 1s 10ms/step - loss: 2.5916 - accuracy: 0.3766\n",
            "Epoch 69/160\n",
            "113/113 [==============================] - 1s 10ms/step - loss: 2.5658 - accuracy: 0.3779\n",
            "Epoch 70/160\n",
            "113/113 [==============================] - 1s 10ms/step - loss: 2.5408 - accuracy: 0.3842\n",
            "Epoch 71/160\n",
            "113/113 [==============================] - 1s 10ms/step - loss: 2.5162 - accuracy: 0.3928\n",
            "Epoch 72/160\n",
            "113/113 [==============================] - 1s 12ms/step - loss: 2.4935 - accuracy: 0.3944\n",
            "Epoch 73/160\n",
            "113/113 [==============================] - 1s 13ms/step - loss: 2.4711 - accuracy: 0.3936\n",
            "Epoch 74/160\n",
            "113/113 [==============================] - 1s 10ms/step - loss: 2.4452 - accuracy: 0.4029\n",
            "Epoch 75/160\n",
            "113/113 [==============================] - 1s 12ms/step - loss: 2.4275 - accuracy: 0.4068\n",
            "Epoch 76/160\n",
            "113/113 [==============================] - 1s 10ms/step - loss: 2.4032 - accuracy: 0.4125\n",
            "Epoch 77/160\n",
            "113/113 [==============================] - 1s 11ms/step - loss: 2.3866 - accuracy: 0.4140\n",
            "Epoch 78/160\n",
            "113/113 [==============================] - 1s 10ms/step - loss: 2.3648 - accuracy: 0.4208\n",
            "Epoch 79/160\n",
            "113/113 [==============================] - 1s 10ms/step - loss: 2.3419 - accuracy: 0.4248\n",
            "Epoch 80/160\n",
            "113/113 [==============================] - 1s 10ms/step - loss: 2.3211 - accuracy: 0.4278\n",
            "Epoch 81/160\n",
            "113/113 [==============================] - 1s 10ms/step - loss: 2.2911 - accuracy: 0.4353\n",
            "Epoch 82/160\n",
            "113/113 [==============================] - 1s 10ms/step - loss: 2.2788 - accuracy: 0.4367\n",
            "Epoch 83/160\n",
            "113/113 [==============================] - 1s 13ms/step - loss: 2.2587 - accuracy: 0.4416\n",
            "Epoch 84/160\n",
            "113/113 [==============================] - 2s 14ms/step - loss: 2.2443 - accuracy: 0.4416\n",
            "Epoch 85/160\n",
            "113/113 [==============================] - 1s 10ms/step - loss: 2.2191 - accuracy: 0.4471\n",
            "Epoch 86/160\n",
            "113/113 [==============================] - 1s 10ms/step - loss: 2.2027 - accuracy: 0.4543\n",
            "Epoch 87/160\n",
            "113/113 [==============================] - 1s 10ms/step - loss: 2.1784 - accuracy: 0.4597\n",
            "Epoch 88/160\n",
            "113/113 [==============================] - 1s 10ms/step - loss: 2.1592 - accuracy: 0.4637\n",
            "Epoch 89/160\n",
            "113/113 [==============================] - 1s 10ms/step - loss: 2.1470 - accuracy: 0.4634\n",
            "Epoch 90/160\n",
            "113/113 [==============================] - 1s 11ms/step - loss: 2.1310 - accuracy: 0.4648\n",
            "Epoch 91/160\n",
            "113/113 [==============================] - 1s 10ms/step - loss: 2.1114 - accuracy: 0.4706\n",
            "Epoch 92/160\n",
            "113/113 [==============================] - 1s 10ms/step - loss: 2.0971 - accuracy: 0.4729\n",
            "Epoch 93/160\n",
            "113/113 [==============================] - 1s 10ms/step - loss: 2.0718 - accuracy: 0.4818\n",
            "Epoch 94/160\n",
            "113/113 [==============================] - 2s 14ms/step - loss: 2.0598 - accuracy: 0.4842\n",
            "Epoch 95/160\n",
            "113/113 [==============================] - 1s 12ms/step - loss: 2.0445 - accuracy: 0.4875\n",
            "Epoch 96/160\n",
            "113/113 [==============================] - 1s 10ms/step - loss: 2.0273 - accuracy: 0.4864\n",
            "Epoch 97/160\n",
            "113/113 [==============================] - 1s 10ms/step - loss: 2.0090 - accuracy: 0.4945\n",
            "Epoch 98/160\n",
            "113/113 [==============================] - 1s 10ms/step - loss: 1.9882 - accuracy: 0.4977\n",
            "Epoch 99/160\n",
            "113/113 [==============================] - 1s 10ms/step - loss: 1.9744 - accuracy: 0.5027\n",
            "Epoch 100/160\n",
            "113/113 [==============================] - 1s 9ms/step - loss: 1.9568 - accuracy: 0.5033\n",
            "Epoch 101/160\n",
            "113/113 [==============================] - 1s 10ms/step - loss: 1.9410 - accuracy: 0.5087\n",
            "Epoch 102/160\n",
            "113/113 [==============================] - 1s 10ms/step - loss: 1.9238 - accuracy: 0.5140\n",
            "Epoch 103/160\n",
            "113/113 [==============================] - 1s 10ms/step - loss: 1.9108 - accuracy: 0.5147\n",
            "Epoch 104/160\n",
            "113/113 [==============================] - 1s 12ms/step - loss: 1.8932 - accuracy: 0.5142\n",
            "Epoch 105/160\n",
            "113/113 [==============================] - 1s 12ms/step - loss: 1.8756 - accuracy: 0.5205\n",
            "Epoch 106/160\n",
            "113/113 [==============================] - 1s 12ms/step - loss: 1.8613 - accuracy: 0.5257\n",
            "Epoch 107/160\n",
            "113/113 [==============================] - 1s 10ms/step - loss: 1.8471 - accuracy: 0.5276\n",
            "Epoch 108/160\n",
            "113/113 [==============================] - 1s 11ms/step - loss: 1.8360 - accuracy: 0.5293\n",
            "Epoch 109/160\n",
            "113/113 [==============================] - 1s 10ms/step - loss: 1.8259 - accuracy: 0.5306\n",
            "Epoch 110/160\n",
            "113/113 [==============================] - 1s 11ms/step - loss: 1.7998 - accuracy: 0.5363\n",
            "Epoch 111/160\n",
            "113/113 [==============================] - 1s 10ms/step - loss: 1.7786 - accuracy: 0.5423\n",
            "Epoch 112/160\n",
            "113/113 [==============================] - 1s 11ms/step - loss: 1.7661 - accuracy: 0.5460\n",
            "Epoch 113/160\n",
            "113/113 [==============================] - 1s 10ms/step - loss: 1.7541 - accuracy: 0.5484\n",
            "Epoch 114/160\n",
            "113/113 [==============================] - 1s 10ms/step - loss: 1.7438 - accuracy: 0.5540\n",
            "Epoch 115/160\n",
            "113/113 [==============================] - 1s 11ms/step - loss: 1.7293 - accuracy: 0.5524\n",
            "Epoch 116/160\n",
            "113/113 [==============================] - 1s 13ms/step - loss: 1.7099 - accuracy: 0.5598\n",
            "Epoch 117/160\n",
            "113/113 [==============================] - 1s 13ms/step - loss: 1.7022 - accuracy: 0.5605\n",
            "Epoch 118/160\n",
            "113/113 [==============================] - 1s 10ms/step - loss: 1.6892 - accuracy: 0.5648\n",
            "Epoch 119/160\n",
            "113/113 [==============================] - 1s 10ms/step - loss: 1.6772 - accuracy: 0.5662\n",
            "Epoch 120/160\n",
            "113/113 [==============================] - 1s 11ms/step - loss: 1.6609 - accuracy: 0.5713\n",
            "Epoch 121/160\n",
            "113/113 [==============================] - 1s 10ms/step - loss: 1.6376 - accuracy: 0.5735\n",
            "Epoch 122/160\n",
            "113/113 [==============================] - 1s 9ms/step - loss: 1.6257 - accuracy: 0.5789\n",
            "Epoch 123/160\n",
            "113/113 [==============================] - 1s 10ms/step - loss: 1.6114 - accuracy: 0.5849\n",
            "Epoch 124/160\n",
            "113/113 [==============================] - 1s 10ms/step - loss: 1.6046 - accuracy: 0.5831\n",
            "Epoch 125/160\n",
            "113/113 [==============================] - 1s 9ms/step - loss: 1.5927 - accuracy: 0.5850\n",
            "Epoch 126/160\n",
            "113/113 [==============================] - 1s 11ms/step - loss: 1.5741 - accuracy: 0.5886\n",
            "Epoch 127/160\n",
            "113/113 [==============================] - 1s 12ms/step - loss: 1.5565 - accuracy: 0.5951\n",
            "Epoch 128/160\n",
            "113/113 [==============================] - 1s 11ms/step - loss: 1.5375 - accuracy: 0.6017\n",
            "Epoch 129/160\n",
            "113/113 [==============================] - 1s 10ms/step - loss: 1.5322 - accuracy: 0.6011\n",
            "Epoch 130/160\n",
            "113/113 [==============================] - 1s 10ms/step - loss: 1.5223 - accuracy: 0.6013\n",
            "Epoch 131/160\n",
            "113/113 [==============================] - 1s 9ms/step - loss: 1.5054 - accuracy: 0.6065\n",
            "Epoch 132/160\n",
            "113/113 [==============================] - 1s 10ms/step - loss: 1.4924 - accuracy: 0.6107\n",
            "Epoch 133/160\n",
            "113/113 [==============================] - 1s 10ms/step - loss: 1.4814 - accuracy: 0.6099\n",
            "Epoch 134/160\n",
            "113/113 [==============================] - 1s 9ms/step - loss: 1.4659 - accuracy: 0.6200\n",
            "Epoch 135/160\n",
            "113/113 [==============================] - 1s 9ms/step - loss: 1.4529 - accuracy: 0.6175\n",
            "Epoch 136/160\n",
            "113/113 [==============================] - 1s 9ms/step - loss: 1.4422 - accuracy: 0.6229\n",
            "Epoch 137/160\n",
            "113/113 [==============================] - 1s 11ms/step - loss: 1.4428 - accuracy: 0.6186\n",
            "Epoch 138/160\n",
            "113/113 [==============================] - 2s 19ms/step - loss: 1.4156 - accuracy: 0.6281\n",
            "Epoch 139/160\n",
            "113/113 [==============================] - 1s 13ms/step - loss: 1.4087 - accuracy: 0.6279\n",
            "Epoch 140/160\n",
            "113/113 [==============================] - 1s 10ms/step - loss: 1.3921 - accuracy: 0.6356\n",
            "Epoch 141/160\n",
            "113/113 [==============================] - 1s 9ms/step - loss: 1.3785 - accuracy: 0.6377\n",
            "Epoch 142/160\n",
            "113/113 [==============================] - 1s 10ms/step - loss: 1.3665 - accuracy: 0.6435\n",
            "Epoch 143/160\n",
            "113/113 [==============================] - 1s 9ms/step - loss: 1.3482 - accuracy: 0.6445\n",
            "Epoch 144/160\n",
            "113/113 [==============================] - 1s 10ms/step - loss: 1.3378 - accuracy: 0.6485\n",
            "Epoch 145/160\n",
            "113/113 [==============================] - 1s 9ms/step - loss: 1.3334 - accuracy: 0.6475\n",
            "Epoch 146/160\n",
            "113/113 [==============================] - 1s 9ms/step - loss: 1.3214 - accuracy: 0.6510\n",
            "Epoch 147/160\n",
            "113/113 [==============================] - 1s 10ms/step - loss: 1.3034 - accuracy: 0.6547\n",
            "Epoch 148/160\n",
            "113/113 [==============================] - 1s 12ms/step - loss: 1.2861 - accuracy: 0.6604\n",
            "Epoch 149/160\n",
            "113/113 [==============================] - 2s 15ms/step - loss: 1.2851 - accuracy: 0.6588\n",
            "Epoch 150/160\n",
            "113/113 [==============================] - 1s 12ms/step - loss: 1.2690 - accuracy: 0.6633\n",
            "Epoch 151/160\n",
            "113/113 [==============================] - 1s 11ms/step - loss: 1.2635 - accuracy: 0.6658\n",
            "Epoch 152/160\n",
            "113/113 [==============================] - 1s 11ms/step - loss: 1.2546 - accuracy: 0.6668\n",
            "Epoch 153/160\n",
            "113/113 [==============================] - 1s 10ms/step - loss: 1.2422 - accuracy: 0.6686\n",
            "Epoch 154/160\n",
            "113/113 [==============================] - 1s 10ms/step - loss: 1.2349 - accuracy: 0.6700\n",
            "Epoch 155/160\n",
            "113/113 [==============================] - 1s 10ms/step - loss: 1.2063 - accuracy: 0.6824\n",
            "Epoch 156/160\n",
            "113/113 [==============================] - 1s 10ms/step - loss: 1.1934 - accuracy: 0.6858\n",
            "Epoch 157/160\n",
            "113/113 [==============================] - 1s 10ms/step - loss: 1.1854 - accuracy: 0.6902\n",
            "Epoch 158/160\n",
            "113/113 [==============================] - 1s 11ms/step - loss: 1.1762 - accuracy: 0.6880\n",
            "Epoch 159/160\n",
            "113/113 [==============================] - 1s 12ms/step - loss: 1.1695 - accuracy: 0.6913\n",
            "Epoch 160/160\n",
            "113/113 [==============================] - 1s 12ms/step - loss: 1.1521 - accuracy: 0.6968\n"
          ]
        },
        {
          "output_type": "execute_result",
          "data": {
            "text/plain": [
              "<keras.src.callbacks.History at 0x7a0a8c4f3310>"
            ]
          },
          "metadata": {},
          "execution_count": 90
        }
      ],
      "source": [
        "model.fit(X, y, batch_size=128, epochs=160,verbose=1)"
      ]
    },
    {
      "cell_type": "code",
      "execution_count": 91,
      "metadata": {
        "id": "kgyE1RaeHGZZ"
      },
      "outputs": [],
      "source": [
        "from pickle import dump,load"
      ]
    },
    {
      "cell_type": "code",
      "execution_count": 92,
      "metadata": {
        "colab": {
          "base_uri": "https://localhost:8080/"
        },
        "id": "76QWeY5oG_0X",
        "outputId": "bd2b696b-522b-4633-dd24-fc01bfe0081d"
      },
      "outputs": [
        {
          "output_type": "stream",
          "name": "stderr",
          "text": [
            "/usr/local/lib/python3.10/dist-packages/keras/src/engine/training.py:3103: UserWarning: You are saving your model as an HDF5 file via `model.save()`. This file format is considered legacy. We recommend using instead the native Keras format, e.g. `model.save('my_model.keras')`.\n",
            "  saving_api.save_model(\n"
          ]
        }
      ],
      "source": [
        "model.save('mymodel.h5')\n",
        "dump(tokenizer, open('mymodel', 'wb'))"
      ]
    },
    {
      "cell_type": "code",
      "execution_count": 93,
      "metadata": {
        "id": "O03jvdOKKKtj"
      },
      "outputs": [],
      "source": [
        "from random import randint\n",
        "from pickle import load\n",
        "from keras.models import load_model\n",
        "from keras.preprocessing.sequence import pad_sequences"
      ]
    },
    {
      "cell_type": "code",
      "execution_count": 94,
      "metadata": {
        "id": "erBkIXkzJ-y9"
      },
      "outputs": [],
      "source": [
        "def generated_text(model, tokenizer, seq_len, seed_text, num_gen_words):\n",
        "\n",
        "    # Final Output\n",
        "    output_text = []\n",
        "\n",
        "    # Initial Seed Sequence\n",
        "    input_text = seed_text\n",
        "\n",
        "    for i in range(num_gen_words):\n",
        "        encoded_text = tokenizer.texts_to_sequences([input_text])[0]\n",
        "        pad_encoded = pad_sequences([encoded_text], maxlen=seq_len, truncating='pre')\n",
        "\n",
        "        # Get predicted probabilities for the next word\n",
        "        pred_probabilities = model.predict(pad_encoded, verbose=0)[0]\n",
        "\n",
        "        # Get the index of the word with the highest probability\n",
        "        pred_word_ind = np.argmax(pred_probabilities)\n",
        "\n",
        "        # Retrieve the word corresponding to the index\n",
        "        pred_word = tokenizer.index_word.get(pred_word_ind)  # Use get method to handle out-of-vocabulary indices\n",
        "\n",
        "        # Append the predicted word to the input text\n",
        "        input_text += ' ' + pred_word\n",
        "        output_text.append(pred_word)\n",
        "\n",
        "    # Make it look like a sentence\n",
        "    return ' '.join(output_text)\n"
      ]
    },
    {
      "cell_type": "code",
      "execution_count": 95,
      "metadata": {
        "id": "r9mZ2z-SKZoK"
      },
      "outputs": [],
      "source": [
        "import random\n",
        "random_pick = random.randint(0,len(text_sequences))"
      ]
    },
    {
      "cell_type": "code",
      "execution_count": 96,
      "metadata": {
        "id": "5zonGK9XLOln"
      },
      "outputs": [],
      "source": [
        "random_seed_text = text_sequences[random_pick]"
      ]
    },
    {
      "cell_type": "code",
      "execution_count": 97,
      "metadata": {
        "colab": {
          "base_uri": "https://localhost:8080/"
        },
        "id": "wZlCoE3BLRL7",
        "outputId": "0b7bf5ab-e133-4451-d963-ed975fe5bfb1"
      },
      "outputs": [
        {
          "output_type": "stream",
          "name": "stdout",
          "text": [
            "  yes , as every one knows , meditation \n",
            " and water are wedded for ever . \n",
            "\n",
            " but here is an artist .   he\n"
          ]
        }
      ],
      "source": [
        "seed_text = ' '.join(random_seed_text)\n",
        "print(seed_text)"
      ]
    },
    {
      "cell_type": "code",
      "execution_count": 98,
      "metadata": {
        "colab": {
          "base_uri": "https://localhost:8080/",
          "height": 35
        },
        "id": "HrfQjYK8Lgdg",
        "outputId": "5c53c786-6293-435b-c14f-a2c489bb6bc0"
      },
      "outputs": [
        {
          "output_type": "execute_result",
          "data": {
            "text/plain": [
              "'deep unusual regarding . . . . . . . . . . . . . . . . .'"
            ],
            "application/vnd.google.colaboratory.intrinsic+json": {
              "type": "string"
            }
          },
          "metadata": {},
          "execution_count": 98
        }
      ],
      "source": [
        "generated_text(model,tokenizer,seq_len,seed_text=seed_text,num_gen_words=20)"
      ]
    },
    {
      "cell_type": "code",
      "execution_count": 99,
      "metadata": {
        "id": "tW6naJK1OORi"
      },
      "outputs": [],
      "source": [
        "from keras.models import load_model"
      ]
    },
    {
      "cell_type": "code",
      "execution_count": 100,
      "metadata": {
        "id": "E5zABF4NN8xv"
      },
      "outputs": [],
      "source": [
        "# model = load_model('/content/epochBIG.h5')"
      ]
    },
    {
      "cell_type": "code",
      "execution_count": 101,
      "metadata": {
        "id": "DrstY1DkN8-b"
      },
      "outputs": [],
      "source": [
        "# tokenizer = load(open('/content/epochBIG','rb'))"
      ]
    },
    {
      "cell_type": "markdown",
      "metadata": {
        "id": "KPAkAElesA82"
      },
      "source": [
        "### Beam search"
      ]
    },
    {
      "cell_type": "code",
      "execution_count": 102,
      "metadata": {
        "id": "n8b2EQ19mmho"
      },
      "outputs": [],
      "source": [
        "def beam_search(model, tokenizer, seq_len, seed_text, num_gen_words, k=3):\n",
        "    sequences = [[tokenizer.texts_to_sequences([seed_text])[0], 0.0]]\n",
        "\n",
        "    while len(sequences[0][0]) < num_gen_words:\n",
        "        all_candidates = []\n",
        "        for seq, score in sequences:\n",
        "            pad_encoded = pad_sequences([seq], maxlen=seq_len, truncating='pre')\n",
        "            pred_probabilities = model.predict(pad_encoded, verbose=0)[0]\n",
        "            top_k_preds = np.argsort(pred_probabilities)[-k:]  # Top k predictions\n",
        "\n",
        "            for pred in top_k_preds:\n",
        "                candidate_seq = [seq + [pred], score - np.log(pred_probabilities[pred])]\n",
        "                all_candidates.append(candidate_seq)\n",
        "\n",
        "        # Sort candidates by score\n",
        "        sequences = sorted(all_candidates, key=lambda tup: tup[1])[:k]\n",
        "\n",
        "    # Retrieve the best sequence\n",
        "    best_sequence = sequences[0][0]\n",
        "    output_text = [tokenizer.index_word.get(idx, '[UNK]') for idx in best_sequence]\n",
        "\n",
        "    return ' '.join(output_text)"
      ]
    },
    {
      "cell_type": "code",
      "execution_count": 103,
      "metadata": {
        "colab": {
          "base_uri": "https://localhost:8080/"
        },
        "id": "a5yOEd5tmq3Q",
        "outputId": "981cc52b-2ce8-4eee-bebb-a64527cc3278"
      },
      "outputs": [
        {
          "output_type": "stream",
          "name": "stdout",
          "text": [
            "yes as every one knows meditation and water are wedded for ever but here is an artist he deep unusual regarding . \n",
            "\n",
            " \" landlord , \" said i , sir ,   this were \n",
            " storied weapons , and\n"
          ]
        }
      ],
      "source": [
        "generated_text = beam_search(model, tokenizer, seq_len, seed_text, num_gen_words=40)\n",
        "print(generated_text)"
      ]
    },
    {
      "cell_type": "markdown",
      "metadata": {
        "id": "HpMcwhY7-WUX"
      },
      "source": [
        "#chatbots\n",
        "\n"
      ]
    },
    {
      "cell_type": "code",
      "execution_count": 104,
      "metadata": {
        "id": "vleNrqhN-V4u"
      },
      "outputs": [],
      "source": [
        "import pickle\n",
        "with open('/content/train_qa.txt','rb') as f:\n",
        "  train_data = pickle.load(f)"
      ]
    },
    {
      "cell_type": "code",
      "execution_count": 105,
      "metadata": {
        "id": "ReXP4Yen-WB4"
      },
      "outputs": [],
      "source": [
        "with open('/content/test_qa.txt','rb') as f:\n",
        "  test_data = pickle.load(f)"
      ]
    },
    {
      "cell_type": "code",
      "execution_count": 106,
      "metadata": {
        "id": "zxNclu4yA3Cx"
      },
      "outputs": [],
      "source": [
        "all_data  = train_data + test_data"
      ]
    },
    {
      "cell_type": "code",
      "execution_count": 107,
      "metadata": {
        "colab": {
          "base_uri": "https://localhost:8080/",
          "height": 35
        },
        "id": "GLDyiJdg-WDi",
        "outputId": "505ce8f4-4f75-4578-a045-5baa49fbcfa1"
      },
      "outputs": [
        {
          "output_type": "execute_result",
          "data": {
            "text/plain": [
              "'Mary moved to the bathroom . Sandra journeyed to the bedroom .'"
            ],
            "application/vnd.google.colaboratory.intrinsic+json": {
              "type": "string"
            }
          },
          "metadata": {},
          "execution_count": 107
        }
      ],
      "source": [
        "' '.join(train_data[0][0])"
      ]
    },
    {
      "cell_type": "code",
      "execution_count": 108,
      "metadata": {
        "colab": {
          "base_uri": "https://localhost:8080/",
          "height": 35
        },
        "id": "eMlGJVjJAYSY",
        "outputId": "b09e537e-4202-4622-f58a-800c52b0439e"
      },
      "outputs": [
        {
          "output_type": "execute_result",
          "data": {
            "text/plain": [
              "'Mary moved to the bathroom . Sandra journeyed to the bedroom .'"
            ],
            "application/vnd.google.colaboratory.intrinsic+json": {
              "type": "string"
            }
          },
          "metadata": {},
          "execution_count": 108
        }
      ],
      "source": [
        "' '.join(train_data[0][0])"
      ]
    },
    {
      "cell_type": "code",
      "execution_count": 109,
      "metadata": {
        "colab": {
          "base_uri": "https://localhost:8080/",
          "height": 35
        },
        "id": "PZvEaXi5BE2v",
        "outputId": "ccc64a66-c854-49c6-f0ac-997d5eb31639"
      },
      "outputs": [
        {
          "output_type": "execute_result",
          "data": {
            "text/plain": [
              "'n o'"
            ],
            "application/vnd.google.colaboratory.intrinsic+json": {
              "type": "string"
            }
          },
          "metadata": {},
          "execution_count": 109
        }
      ],
      "source": [
        "' '.join(train_data[0][2])"
      ]
    },
    {
      "cell_type": "code",
      "execution_count": 110,
      "metadata": {
        "colab": {
          "base_uri": "https://localhost:8080/",
          "height": 424
        },
        "id": "5Ujdrn51BIgU",
        "outputId": "90f70f07-f130-44f0-b05c-48a43fb2bfaa"
      },
      "outputs": [
        {
          "output_type": "execute_result",
          "data": {
            "text/plain": [
              "                                                   Story  \\\n",
              "0      [Mary, moved, to, the, bathroom, ., Sandra, jo...   \n",
              "1      [Mary, moved, to, the, bathroom, ., Sandra, jo...   \n",
              "2      [Mary, moved, to, the, bathroom, ., Sandra, jo...   \n",
              "3      [Mary, moved, to, the, bathroom, ., Sandra, jo...   \n",
              "4      [Mary, moved, to, the, bathroom, ., Sandra, jo...   \n",
              "...                                                  ...   \n",
              "10995  [Mary, moved, to, the, kitchen, ., Mary, trave...   \n",
              "10996  [Mary, moved, to, the, kitchen, ., Mary, trave...   \n",
              "10997  [Mary, moved, to, the, kitchen, ., Mary, trave...   \n",
              "10998  [Mary, moved, to, the, kitchen, ., Mary, trave...   \n",
              "10999  [Mary, moved, to, the, kitchen, ., Mary, trave...   \n",
              "\n",
              "                                 Question Answer  \n",
              "0       [Is, Sandra, in, the, hallway, ?]     no  \n",
              "1      [Is, Daniel, in, the, bathroom, ?]     no  \n",
              "2        [Is, Daniel, in, the, office, ?]     no  \n",
              "3       [Is, Daniel, in, the, bedroom, ?]    yes  \n",
              "4       [Is, Daniel, in, the, bedroom, ?]    yes  \n",
              "...                                   ...    ...  \n",
              "10995     [Is, Mary, in, the, bedroom, ?]     no  \n",
              "10996   [Is, Sandra, in, the, kitchen, ?]     no  \n",
              "10997     [Is, Mary, in, the, bedroom, ?]     no  \n",
              "10998    [Is, Sandra, in, the, garden, ?]    yes  \n",
              "10999      [Is, Mary, in, the, garden, ?]    yes  \n",
              "\n",
              "[11000 rows x 3 columns]"
            ],
            "text/html": [
              "\n",
              "  <div id=\"df-0c063777-5309-4e64-a1be-11ec4b96c9ff\" class=\"colab-df-container\">\n",
              "    <div>\n",
              "<style scoped>\n",
              "    .dataframe tbody tr th:only-of-type {\n",
              "        vertical-align: middle;\n",
              "    }\n",
              "\n",
              "    .dataframe tbody tr th {\n",
              "        vertical-align: top;\n",
              "    }\n",
              "\n",
              "    .dataframe thead th {\n",
              "        text-align: right;\n",
              "    }\n",
              "</style>\n",
              "<table border=\"1\" class=\"dataframe\">\n",
              "  <thead>\n",
              "    <tr style=\"text-align: right;\">\n",
              "      <th></th>\n",
              "      <th>Story</th>\n",
              "      <th>Question</th>\n",
              "      <th>Answer</th>\n",
              "    </tr>\n",
              "  </thead>\n",
              "  <tbody>\n",
              "    <tr>\n",
              "      <th>0</th>\n",
              "      <td>[Mary, moved, to, the, bathroom, ., Sandra, jo...</td>\n",
              "      <td>[Is, Sandra, in, the, hallway, ?]</td>\n",
              "      <td>no</td>\n",
              "    </tr>\n",
              "    <tr>\n",
              "      <th>1</th>\n",
              "      <td>[Mary, moved, to, the, bathroom, ., Sandra, jo...</td>\n",
              "      <td>[Is, Daniel, in, the, bathroom, ?]</td>\n",
              "      <td>no</td>\n",
              "    </tr>\n",
              "    <tr>\n",
              "      <th>2</th>\n",
              "      <td>[Mary, moved, to, the, bathroom, ., Sandra, jo...</td>\n",
              "      <td>[Is, Daniel, in, the, office, ?]</td>\n",
              "      <td>no</td>\n",
              "    </tr>\n",
              "    <tr>\n",
              "      <th>3</th>\n",
              "      <td>[Mary, moved, to, the, bathroom, ., Sandra, jo...</td>\n",
              "      <td>[Is, Daniel, in, the, bedroom, ?]</td>\n",
              "      <td>yes</td>\n",
              "    </tr>\n",
              "    <tr>\n",
              "      <th>4</th>\n",
              "      <td>[Mary, moved, to, the, bathroom, ., Sandra, jo...</td>\n",
              "      <td>[Is, Daniel, in, the, bedroom, ?]</td>\n",
              "      <td>yes</td>\n",
              "    </tr>\n",
              "    <tr>\n",
              "      <th>...</th>\n",
              "      <td>...</td>\n",
              "      <td>...</td>\n",
              "      <td>...</td>\n",
              "    </tr>\n",
              "    <tr>\n",
              "      <th>10995</th>\n",
              "      <td>[Mary, moved, to, the, kitchen, ., Mary, trave...</td>\n",
              "      <td>[Is, Mary, in, the, bedroom, ?]</td>\n",
              "      <td>no</td>\n",
              "    </tr>\n",
              "    <tr>\n",
              "      <th>10996</th>\n",
              "      <td>[Mary, moved, to, the, kitchen, ., Mary, trave...</td>\n",
              "      <td>[Is, Sandra, in, the, kitchen, ?]</td>\n",
              "      <td>no</td>\n",
              "    </tr>\n",
              "    <tr>\n",
              "      <th>10997</th>\n",
              "      <td>[Mary, moved, to, the, kitchen, ., Mary, trave...</td>\n",
              "      <td>[Is, Mary, in, the, bedroom, ?]</td>\n",
              "      <td>no</td>\n",
              "    </tr>\n",
              "    <tr>\n",
              "      <th>10998</th>\n",
              "      <td>[Mary, moved, to, the, kitchen, ., Mary, trave...</td>\n",
              "      <td>[Is, Sandra, in, the, garden, ?]</td>\n",
              "      <td>yes</td>\n",
              "    </tr>\n",
              "    <tr>\n",
              "      <th>10999</th>\n",
              "      <td>[Mary, moved, to, the, kitchen, ., Mary, trave...</td>\n",
              "      <td>[Is, Mary, in, the, garden, ?]</td>\n",
              "      <td>yes</td>\n",
              "    </tr>\n",
              "  </tbody>\n",
              "</table>\n",
              "<p>11000 rows × 3 columns</p>\n",
              "</div>\n",
              "    <div class=\"colab-df-buttons\">\n",
              "\n",
              "  <div class=\"colab-df-container\">\n",
              "    <button class=\"colab-df-convert\" onclick=\"convertToInteractive('df-0c063777-5309-4e64-a1be-11ec4b96c9ff')\"\n",
              "            title=\"Convert this dataframe to an interactive table.\"\n",
              "            style=\"display:none;\">\n",
              "\n",
              "  <svg xmlns=\"http://www.w3.org/2000/svg\" height=\"24px\" viewBox=\"0 -960 960 960\">\n",
              "    <path d=\"M120-120v-720h720v720H120Zm60-500h600v-160H180v160Zm220 220h160v-160H400v160Zm0 220h160v-160H400v160ZM180-400h160v-160H180v160Zm440 0h160v-160H620v160ZM180-180h160v-160H180v160Zm440 0h160v-160H620v160Z\"/>\n",
              "  </svg>\n",
              "    </button>\n",
              "\n",
              "  <style>\n",
              "    .colab-df-container {\n",
              "      display:flex;\n",
              "      gap: 12px;\n",
              "    }\n",
              "\n",
              "    .colab-df-convert {\n",
              "      background-color: #E8F0FE;\n",
              "      border: none;\n",
              "      border-radius: 50%;\n",
              "      cursor: pointer;\n",
              "      display: none;\n",
              "      fill: #1967D2;\n",
              "      height: 32px;\n",
              "      padding: 0 0 0 0;\n",
              "      width: 32px;\n",
              "    }\n",
              "\n",
              "    .colab-df-convert:hover {\n",
              "      background-color: #E2EBFA;\n",
              "      box-shadow: 0px 1px 2px rgba(60, 64, 67, 0.3), 0px 1px 3px 1px rgba(60, 64, 67, 0.15);\n",
              "      fill: #174EA6;\n",
              "    }\n",
              "\n",
              "    .colab-df-buttons div {\n",
              "      margin-bottom: 4px;\n",
              "    }\n",
              "\n",
              "    [theme=dark] .colab-df-convert {\n",
              "      background-color: #3B4455;\n",
              "      fill: #D2E3FC;\n",
              "    }\n",
              "\n",
              "    [theme=dark] .colab-df-convert:hover {\n",
              "      background-color: #434B5C;\n",
              "      box-shadow: 0px 1px 3px 1px rgba(0, 0, 0, 0.15);\n",
              "      filter: drop-shadow(0px 1px 2px rgba(0, 0, 0, 0.3));\n",
              "      fill: #FFFFFF;\n",
              "    }\n",
              "  </style>\n",
              "\n",
              "    <script>\n",
              "      const buttonEl =\n",
              "        document.querySelector('#df-0c063777-5309-4e64-a1be-11ec4b96c9ff button.colab-df-convert');\n",
              "      buttonEl.style.display =\n",
              "        google.colab.kernel.accessAllowed ? 'block' : 'none';\n",
              "\n",
              "      async function convertToInteractive(key) {\n",
              "        const element = document.querySelector('#df-0c063777-5309-4e64-a1be-11ec4b96c9ff');\n",
              "        const dataTable =\n",
              "          await google.colab.kernel.invokeFunction('convertToInteractive',\n",
              "                                                    [key], {});\n",
              "        if (!dataTable) return;\n",
              "\n",
              "        const docLinkHtml = 'Like what you see? Visit the ' +\n",
              "          '<a target=\"_blank\" href=https://colab.research.google.com/notebooks/data_table.ipynb>data table notebook</a>'\n",
              "          + ' to learn more about interactive tables.';\n",
              "        element.innerHTML = '';\n",
              "        dataTable['output_type'] = 'display_data';\n",
              "        await google.colab.output.renderOutput(dataTable, element);\n",
              "        const docLink = document.createElement('div');\n",
              "        docLink.innerHTML = docLinkHtml;\n",
              "        element.appendChild(docLink);\n",
              "      }\n",
              "    </script>\n",
              "  </div>\n",
              "\n",
              "\n",
              "<div id=\"df-ebbeb86d-d864-4e29-9709-e10c8e12ec4a\">\n",
              "  <button class=\"colab-df-quickchart\" onclick=\"quickchart('df-ebbeb86d-d864-4e29-9709-e10c8e12ec4a')\"\n",
              "            title=\"Suggest charts\"\n",
              "            style=\"display:none;\">\n",
              "\n",
              "<svg xmlns=\"http://www.w3.org/2000/svg\" height=\"24px\"viewBox=\"0 0 24 24\"\n",
              "     width=\"24px\">\n",
              "    <g>\n",
              "        <path d=\"M19 3H5c-1.1 0-2 .9-2 2v14c0 1.1.9 2 2 2h14c1.1 0 2-.9 2-2V5c0-1.1-.9-2-2-2zM9 17H7v-7h2v7zm4 0h-2V7h2v10zm4 0h-2v-4h2v4z\"/>\n",
              "    </g>\n",
              "</svg>\n",
              "  </button>\n",
              "\n",
              "<style>\n",
              "  .colab-df-quickchart {\n",
              "      --bg-color: #E8F0FE;\n",
              "      --fill-color: #1967D2;\n",
              "      --hover-bg-color: #E2EBFA;\n",
              "      --hover-fill-color: #174EA6;\n",
              "      --disabled-fill-color: #AAA;\n",
              "      --disabled-bg-color: #DDD;\n",
              "  }\n",
              "\n",
              "  [theme=dark] .colab-df-quickchart {\n",
              "      --bg-color: #3B4455;\n",
              "      --fill-color: #D2E3FC;\n",
              "      --hover-bg-color: #434B5C;\n",
              "      --hover-fill-color: #FFFFFF;\n",
              "      --disabled-bg-color: #3B4455;\n",
              "      --disabled-fill-color: #666;\n",
              "  }\n",
              "\n",
              "  .colab-df-quickchart {\n",
              "    background-color: var(--bg-color);\n",
              "    border: none;\n",
              "    border-radius: 50%;\n",
              "    cursor: pointer;\n",
              "    display: none;\n",
              "    fill: var(--fill-color);\n",
              "    height: 32px;\n",
              "    padding: 0;\n",
              "    width: 32px;\n",
              "  }\n",
              "\n",
              "  .colab-df-quickchart:hover {\n",
              "    background-color: var(--hover-bg-color);\n",
              "    box-shadow: 0 1px 2px rgba(60, 64, 67, 0.3), 0 1px 3px 1px rgba(60, 64, 67, 0.15);\n",
              "    fill: var(--button-hover-fill-color);\n",
              "  }\n",
              "\n",
              "  .colab-df-quickchart-complete:disabled,\n",
              "  .colab-df-quickchart-complete:disabled:hover {\n",
              "    background-color: var(--disabled-bg-color);\n",
              "    fill: var(--disabled-fill-color);\n",
              "    box-shadow: none;\n",
              "  }\n",
              "\n",
              "  .colab-df-spinner {\n",
              "    border: 2px solid var(--fill-color);\n",
              "    border-color: transparent;\n",
              "    border-bottom-color: var(--fill-color);\n",
              "    animation:\n",
              "      spin 1s steps(1) infinite;\n",
              "  }\n",
              "\n",
              "  @keyframes spin {\n",
              "    0% {\n",
              "      border-color: transparent;\n",
              "      border-bottom-color: var(--fill-color);\n",
              "      border-left-color: var(--fill-color);\n",
              "    }\n",
              "    20% {\n",
              "      border-color: transparent;\n",
              "      border-left-color: var(--fill-color);\n",
              "      border-top-color: var(--fill-color);\n",
              "    }\n",
              "    30% {\n",
              "      border-color: transparent;\n",
              "      border-left-color: var(--fill-color);\n",
              "      border-top-color: var(--fill-color);\n",
              "      border-right-color: var(--fill-color);\n",
              "    }\n",
              "    40% {\n",
              "      border-color: transparent;\n",
              "      border-right-color: var(--fill-color);\n",
              "      border-top-color: var(--fill-color);\n",
              "    }\n",
              "    60% {\n",
              "      border-color: transparent;\n",
              "      border-right-color: var(--fill-color);\n",
              "    }\n",
              "    80% {\n",
              "      border-color: transparent;\n",
              "      border-right-color: var(--fill-color);\n",
              "      border-bottom-color: var(--fill-color);\n",
              "    }\n",
              "    90% {\n",
              "      border-color: transparent;\n",
              "      border-bottom-color: var(--fill-color);\n",
              "    }\n",
              "  }\n",
              "</style>\n",
              "\n",
              "  <script>\n",
              "    async function quickchart(key) {\n",
              "      const quickchartButtonEl =\n",
              "        document.querySelector('#' + key + ' button');\n",
              "      quickchartButtonEl.disabled = true;  // To prevent multiple clicks.\n",
              "      quickchartButtonEl.classList.add('colab-df-spinner');\n",
              "      try {\n",
              "        const charts = await google.colab.kernel.invokeFunction(\n",
              "            'suggestCharts', [key], {});\n",
              "      } catch (error) {\n",
              "        console.error('Error during call to suggestCharts:', error);\n",
              "      }\n",
              "      quickchartButtonEl.classList.remove('colab-df-spinner');\n",
              "      quickchartButtonEl.classList.add('colab-df-quickchart-complete');\n",
              "    }\n",
              "    (() => {\n",
              "      let quickchartButtonEl =\n",
              "        document.querySelector('#df-ebbeb86d-d864-4e29-9709-e10c8e12ec4a button');\n",
              "      quickchartButtonEl.style.display =\n",
              "        google.colab.kernel.accessAllowed ? 'block' : 'none';\n",
              "    })();\n",
              "  </script>\n",
              "</div>\n",
              "\n",
              "  <div id=\"id_5c2e046a-c82c-4aad-8227-672e40d95069\">\n",
              "    <style>\n",
              "      .colab-df-generate {\n",
              "        background-color: #E8F0FE;\n",
              "        border: none;\n",
              "        border-radius: 50%;\n",
              "        cursor: pointer;\n",
              "        display: none;\n",
              "        fill: #1967D2;\n",
              "        height: 32px;\n",
              "        padding: 0 0 0 0;\n",
              "        width: 32px;\n",
              "      }\n",
              "\n",
              "      .colab-df-generate:hover {\n",
              "        background-color: #E2EBFA;\n",
              "        box-shadow: 0px 1px 2px rgba(60, 64, 67, 0.3), 0px 1px 3px 1px rgba(60, 64, 67, 0.15);\n",
              "        fill: #174EA6;\n",
              "      }\n",
              "\n",
              "      [theme=dark] .colab-df-generate {\n",
              "        background-color: #3B4455;\n",
              "        fill: #D2E3FC;\n",
              "      }\n",
              "\n",
              "      [theme=dark] .colab-df-generate:hover {\n",
              "        background-color: #434B5C;\n",
              "        box-shadow: 0px 1px 3px 1px rgba(0, 0, 0, 0.15);\n",
              "        filter: drop-shadow(0px 1px 2px rgba(0, 0, 0, 0.3));\n",
              "        fill: #FFFFFF;\n",
              "      }\n",
              "    </style>\n",
              "    <button class=\"colab-df-generate\" onclick=\"generateWithVariable('df')\"\n",
              "            title=\"Generate code using this dataframe.\"\n",
              "            style=\"display:none;\">\n",
              "\n",
              "  <svg xmlns=\"http://www.w3.org/2000/svg\" height=\"24px\"viewBox=\"0 0 24 24\"\n",
              "       width=\"24px\">\n",
              "    <path d=\"M7,19H8.4L18.45,9,17,7.55,7,17.6ZM5,21V16.75L18.45,3.32a2,2,0,0,1,2.83,0l1.4,1.43a1.91,1.91,0,0,1,.58,1.4,1.91,1.91,0,0,1-.58,1.4L9.25,21ZM18.45,9,17,7.55Zm-12,3A5.31,5.31,0,0,0,4.9,8.1,5.31,5.31,0,0,0,1,6.5,5.31,5.31,0,0,0,4.9,4.9,5.31,5.31,0,0,0,6.5,1,5.31,5.31,0,0,0,8.1,4.9,5.31,5.31,0,0,0,12,6.5,5.46,5.46,0,0,0,6.5,12Z\"/>\n",
              "  </svg>\n",
              "    </button>\n",
              "    <script>\n",
              "      (() => {\n",
              "      const buttonEl =\n",
              "        document.querySelector('#id_5c2e046a-c82c-4aad-8227-672e40d95069 button.colab-df-generate');\n",
              "      buttonEl.style.display =\n",
              "        google.colab.kernel.accessAllowed ? 'block' : 'none';\n",
              "\n",
              "      buttonEl.onclick = () => {\n",
              "        google.colab.notebook.generateWithVariable('df');\n",
              "      }\n",
              "      })();\n",
              "    </script>\n",
              "  </div>\n",
              "\n",
              "    </div>\n",
              "  </div>\n"
            ]
          },
          "metadata": {},
          "execution_count": 110
        }
      ],
      "source": [
        "df  = pd.DataFrame(all_data,columns=['Story','Question','Answer'])\n",
        "df"
      ]
    },
    {
      "cell_type": "code",
      "execution_count": 111,
      "metadata": {
        "id": "A3hiu6p0BiMA"
      },
      "outputs": [],
      "source": [
        "vocab = set()\n",
        "for story,question,answer in all_data:\n",
        "  vocab = vocab.union(set(story))\n",
        "  vocab = vocab.union(set(question))\n"
      ]
    },
    {
      "cell_type": "code",
      "execution_count": 112,
      "metadata": {
        "colab": {
          "base_uri": "https://localhost:8080/"
        },
        "id": "B5WybNS8Ds84",
        "outputId": "ec2564aa-3725-4032-bc19-151921d64670"
      },
      "outputs": [
        {
          "output_type": "execute_result",
          "data": {
            "text/plain": [
              "{'.',\n",
              " '?',\n",
              " 'Daniel',\n",
              " 'Is',\n",
              " 'John',\n",
              " 'Mary',\n",
              " 'Sandra',\n",
              " 'apple',\n",
              " 'back',\n",
              " 'bathroom',\n",
              " 'bedroom',\n",
              " 'discarded',\n",
              " 'down',\n",
              " 'dropped',\n",
              " 'football',\n",
              " 'garden',\n",
              " 'got',\n",
              " 'grabbed',\n",
              " 'hallway',\n",
              " 'in',\n",
              " 'journeyed',\n",
              " 'kitchen',\n",
              " 'left',\n",
              " 'milk',\n",
              " 'moved',\n",
              " 'no',\n",
              " 'office',\n",
              " 'picked',\n",
              " 'put',\n",
              " 'the',\n",
              " 'there',\n",
              " 'to',\n",
              " 'took',\n",
              " 'travelled',\n",
              " 'up',\n",
              " 'went',\n",
              " 'yes'}"
            ]
          },
          "metadata": {},
          "execution_count": 112
        }
      ],
      "source": [
        "vocab.add('yes')\n",
        "vocab.add('no')\n",
        "vocab"
      ]
    },
    {
      "cell_type": "code",
      "execution_count": 113,
      "metadata": {
        "id": "LtuEyeWNEQnc"
      },
      "outputs": [],
      "source": [
        "vocab_len = len(vocab) + 1\n",
        "# for i in range(len(all_data)):\n",
        "#   for data in all_data[i]:\n",
        "#     print(' '.join(data))"
      ]
    },
    {
      "cell_type": "code",
      "execution_count": 114,
      "metadata": {
        "id": "4T5Ig79jEc5r"
      },
      "outputs": [],
      "source": [
        "stories_len = [len(data[0]) for data in all_data]\n",
        "question_len = [len(data[1]) for data in all_data]"
      ]
    },
    {
      "cell_type": "code",
      "execution_count": 115,
      "metadata": {
        "colab": {
          "base_uri": "https://localhost:8080/"
        },
        "id": "jiznzZJsEc8V",
        "outputId": "92df4896-e9c5-4c2f-904f-e6d958aaae55"
      },
      "outputs": [
        {
          "output_type": "execute_result",
          "data": {
            "text/plain": [
              "156"
            ]
          },
          "metadata": {},
          "execution_count": 115
        }
      ],
      "source": [
        "maxlen_stories = max(stories_len)\n",
        "maxlen_stories"
      ]
    },
    {
      "cell_type": "code",
      "execution_count": 116,
      "metadata": {
        "colab": {
          "base_uri": "https://localhost:8080/"
        },
        "id": "YkVXNr6-Ec_G",
        "outputId": "00e4c704-0f9c-4884-93e1-7130a49f1b7f"
      },
      "outputs": [
        {
          "output_type": "execute_result",
          "data": {
            "text/plain": [
              "6"
            ]
          },
          "metadata": {},
          "execution_count": 116
        }
      ],
      "source": [
        "maxlen_question = max(question_len)\n",
        "maxlen_question"
      ]
    },
    {
      "cell_type": "code",
      "execution_count": 117,
      "metadata": {
        "id": "wVt9sbYCDxDd"
      },
      "outputs": [],
      "source": [
        "tokenizer = Tokenizer(filters = [])"
      ]
    },
    {
      "cell_type": "code",
      "execution_count": 118,
      "metadata": {
        "id": "915cDs9hOyEk"
      },
      "outputs": [],
      "source": [
        "tokenizer.fit_on_texts(vocab)"
      ]
    },
    {
      "cell_type": "code",
      "execution_count": 119,
      "metadata": {
        "colab": {
          "base_uri": "https://localhost:8080/"
        },
        "id": "_gM0ip5nZzTg",
        "outputId": "4b004cfb-8430-404b-eb21-3f78b70df7ac"
      },
      "outputs": [
        {
          "output_type": "execute_result",
          "data": {
            "text/plain": [
              "12"
            ]
          },
          "metadata": {},
          "execution_count": 119
        }
      ],
      "source": [
        "tokenizer.word_index['yes']"
      ]
    },
    {
      "cell_type": "code",
      "execution_count": 120,
      "metadata": {
        "colab": {
          "base_uri": "https://localhost:8080/"
        },
        "id": "0vLWCaoXZ338",
        "outputId": "8bb834fe-c101-4f9d-bbc9-19ab2f8476e7"
      },
      "outputs": [
        {
          "output_type": "execute_result",
          "data": {
            "text/plain": [
              "29"
            ]
          },
          "metadata": {},
          "execution_count": 120
        }
      ],
      "source": [
        "tokenizer.word_index['no']"
      ]
    },
    {
      "cell_type": "code",
      "execution_count": 121,
      "metadata": {
        "colab": {
          "base_uri": "https://localhost:8080/"
        },
        "id": "BbziwTUUPFV0",
        "outputId": "1d372b55-d6dd-4ac9-b64b-2a7c6eaae2d1"
      },
      "outputs": [
        {
          "output_type": "execute_result",
          "data": {
            "text/plain": [
              "{'travelled': 1,\n",
              " 'apple': 2,\n",
              " '?': 3,\n",
              " 'put': 4,\n",
              " 'moved': 5,\n",
              " 'discarded': 6,\n",
              " 'office': 7,\n",
              " 'john': 8,\n",
              " 'bathroom': 9,\n",
              " 'there': 10,\n",
              " 'to': 11,\n",
              " 'yes': 12,\n",
              " 'left': 13,\n",
              " 'journeyed': 14,\n",
              " 'is': 15,\n",
              " '.': 16,\n",
              " 'down': 17,\n",
              " 'football': 18,\n",
              " 'milk': 19,\n",
              " 'garden': 20,\n",
              " 'took': 21,\n",
              " 'got': 22,\n",
              " 'mary': 23,\n",
              " 'hallway': 24,\n",
              " 'went': 25,\n",
              " 'in': 26,\n",
              " 'kitchen': 27,\n",
              " 'grabbed': 28,\n",
              " 'no': 29,\n",
              " 'dropped': 30,\n",
              " 'picked': 31,\n",
              " 'daniel': 32,\n",
              " 'sandra': 33,\n",
              " 'back': 34,\n",
              " 'up': 35,\n",
              " 'the': 36,\n",
              " 'bedroom': 37}"
            ]
          },
          "metadata": {},
          "execution_count": 121
        }
      ],
      "source": [
        "tokenizer.word_index"
      ]
    },
    {
      "cell_type": "code",
      "execution_count": 122,
      "metadata": {
        "id": "cAwCchoaPHRa"
      },
      "outputs": [],
      "source": [
        "train_story_text = []\n",
        "train_question_text = []\n",
        "train_answer_text = []\n",
        "for s,q,a in train_data:\n",
        "  train_story_text.append(s)\n",
        "  train_question_text.append(q)\n",
        "  train_answer_text.append(q)"
      ]
    },
    {
      "cell_type": "code",
      "execution_count": 123,
      "metadata": {
        "id": "tMcHehmXPxhb"
      },
      "outputs": [],
      "source": [
        "# train_story_text"
      ]
    },
    {
      "cell_type": "code",
      "execution_count": 124,
      "metadata": {
        "id": "4GXEG9b_P3hT"
      },
      "outputs": [],
      "source": [
        "train_story_seq = tokenizer.texts_to_sequences(train_story_text)\n",
        "# train_story_seq = np.array(train_story_seq)\n",
        "# train_story_seq"
      ]
    },
    {
      "cell_type": "code",
      "execution_count": 125,
      "metadata": {
        "id": "_g6BzHV6Sctc"
      },
      "outputs": [],
      "source": [
        "def vectorize_stories(data, word_index=tokenizer.word_index, max_story_len=maxlen_stories,max_question_len=maxlen_question):\n",
        "    '''\n",
        "    OUTPUT:\n",
        "    Vectorizes the stories,questions, and answers into padded sequences. We first loop for every story, query , and\n",
        "    answer in the data. Then we convert the raw words to an word index value. Then we append each set to their appropriate\n",
        "    output list. Then once we have converted the words to numbers, we pad the sequences so they are all of equal length.\n",
        "    Returns this in the form of a tuple (X,Xq,Y) (padded based on max lengths)\n",
        "    '''\n",
        "    # X = STORIES\n",
        "    X = []\n",
        "    # Xq = QUERY/QUESTION\n",
        "    Xq = []\n",
        "    # Y = CORRECT ANSWER\n",
        "    Y = []\n",
        "\n",
        "\n",
        "    for story, query, answer in data:\n",
        "\n",
        "        # Grab the word index for every word in story\n",
        "        x = [word_index[word.lower()] for word in story]\n",
        "        xq = [word_index[word.lower()] for word in query]\n",
        "        y = np.zeros(len(word_index) + 1)\n",
        "        y[word_index[answer]] = 1\n",
        "\n",
        "        X.append(x)\n",
        "        Xq.append(xq)\n",
        "        Y.append(y)\n",
        "\n",
        "    return (pad_sequences(X, maxlen=max_story_len),pad_sequences(Xq, maxlen=max_question_len), np.array(Y))"
      ]
    },
    {
      "cell_type": "code",
      "execution_count": 126,
      "metadata": {
        "id": "h274ywkRY6S0"
      },
      "outputs": [],
      "source": [
        "inputs_train, queries_train, answers_train = vectorize_stories(train_data)\n",
        "inputs_test, queries_test, answers_test = vectorize_stories(test_data)"
      ]
    },
    {
      "cell_type": "code",
      "execution_count": 127,
      "metadata": {
        "id": "4v8s72fsaMVz"
      },
      "outputs": [],
      "source": [
        "import keras.layers\n",
        "from keras.models import Sequential, Model\n",
        "from keras.layers import Embedding,Input, Activation, Dense, Permute, Dropout,add, dot, concatenate,LSTM"
      ]
    },
    {
      "cell_type": "code",
      "execution_count": 131,
      "metadata": {
        "colab": {
          "base_uri": "https://localhost:8080/"
        },
        "id": "xNVCEfUNeT4_",
        "outputId": "0b825c82-5c54-43d4-f4b5-b0b92aff5520"
      },
      "outputs": [
        {
          "output_type": "execute_result",
          "data": {
            "text/plain": [
              "<KerasTensor: shape=(None, 6) dtype=float32 (created by layer 'input_6')>"
            ]
          },
          "metadata": {},
          "execution_count": 131
        }
      ],
      "source": [
        "input_sequence = Input((maxlen_stories,))\n",
        "question_sequence = Input((maxlen_question,))\n",
        "question_sequence"
      ]
    },
    {
      "cell_type": "markdown",
      "source": [
        "### input encoder M"
      ],
      "metadata": {
        "id": "Smh5NXventeA"
      }
    },
    {
      "cell_type": "code",
      "source": [
        "# Input gets embedded to a sequence of vectors\n",
        "input_encoder_m = Sequential()\n",
        "input_encoder_m.add(Embedding(input_dim=vocab_len,output_dim=64))\n",
        "input_encoder_m.add(Dropout(0.5))\n",
        "\n",
        "# This encoder will output:\n",
        "# (samples, story_maxlen, embedding_dim)"
      ],
      "metadata": {
        "id": "rcHDMBfUmPz9"
      },
      "execution_count": 135,
      "outputs": []
    },
    {
      "cell_type": "markdown",
      "source": [],
      "metadata": {
        "id": "e7_Cq4ZEn0GA"
      }
    },
    {
      "cell_type": "markdown",
      "source": [
        "### input encoder C"
      ],
      "metadata": {
        "id": "eMGP8iEJn0p2"
      }
    },
    {
      "cell_type": "code",
      "source": [
        "# embed the input into a sequence of vectors of size query_maxlen\n",
        "input_encoder_c = Sequential()\n",
        "input_encoder_c.add(Embedding(input_dim=vocab_len,output_dim=maxlen_question))\n",
        "input_encoder_c.add(Dropout(0.5))\n",
        "# output: (samples, story_maxlen, query_maxlen)"
      ],
      "metadata": {
        "id": "K3F8nKwnmjEg"
      },
      "execution_count": 137,
      "outputs": []
    },
    {
      "cell_type": "markdown",
      "source": [],
      "metadata": {
        "id": "SULATnPin49I"
      }
    },
    {
      "cell_type": "markdown",
      "source": [
        "### question encoder\n"
      ],
      "metadata": {
        "id": "WrJZO5z6n5d_"
      }
    },
    {
      "cell_type": "code",
      "source": [
        "# embed the question into a sequence of vectors\n",
        "question_encoder = Sequential()\n",
        "question_encoder.add(Embedding(input_dim=vocab_len,\n",
        "                               output_dim=64,\n",
        "                               input_length=maxlen_question))\n",
        "question_encoder.add(Dropout(0.5))\n",
        "# output: (samples, query_maxlen, embedding_dim)"
      ],
      "metadata": {
        "id": "dStoipFhnUAv"
      },
      "execution_count": 139,
      "outputs": []
    },
    {
      "cell_type": "code",
      "source": [
        "# encode input sequence and questions (which are indices)\n",
        "# to sequences of dense vectors\n",
        "input_encoded_m = input_encoder_m(input_sequence)\n",
        "input_encoded_c = input_encoder_c(input_sequence)\n",
        "question_encoded = question_encoder(question_sequence)"
      ],
      "metadata": {
        "id": "qsyRNle0oCQm"
      },
      "execution_count": 140,
      "outputs": []
    },
    {
      "cell_type": "code",
      "source": [
        "match = dot([input_encoded_m, question_encoded], axes=(2, 2))\n",
        "match = Activation('softmax')(match)"
      ],
      "metadata": {
        "id": "KyaYx0lxoYCW"
      },
      "execution_count": 141,
      "outputs": []
    },
    {
      "cell_type": "code",
      "source": [
        "# add the match matrix with the second input vector sequence\n",
        "response = add([match, input_encoded_c])  # (samples, story_maxlen, query_maxlen)\n",
        "response = Permute((2, 1))(response)  # (samples, query_maxlen, story_maxlen)"
      ],
      "metadata": {
        "id": "q1VnfAh_onKX"
      },
      "execution_count": 142,
      "outputs": []
    },
    {
      "cell_type": "code",
      "source": [
        "# concatenate the match matrix with the question vector sequence\n",
        "answer = concatenate([response, question_encoded])\n",
        "answer"
      ],
      "metadata": {
        "colab": {
          "base_uri": "https://localhost:8080/"
        },
        "id": "s_mlcg2novDS",
        "outputId": "96bf2d36-b73b-4935-b607-a2aab7c78f1f"
      },
      "execution_count": 146,
      "outputs": [
        {
          "output_type": "execute_result",
          "data": {
            "text/plain": [
              "<KerasTensor: shape=(None, 6, 220) dtype=float32 (created by layer 'concatenate_1')>"
            ]
          },
          "metadata": {},
          "execution_count": 146
        }
      ]
    },
    {
      "cell_type": "code",
      "source": [
        "# Reduce with RNN (LSTM)\n",
        "answer = LSTM(32)(answer)  # (samples, 32)\n",
        "# Regularization with Dropout\n",
        "answer = Dropout(0.5)(answer)\n",
        "answer = Dense(vocab_len)(answer)  # (samples, vocab_size)\n",
        "# we output a probability distribution over the vocabulary\n",
        "answer = Activation('softmax')(answer)"
      ],
      "metadata": {
        "id": "tV2f9m1bo1Oa"
      },
      "execution_count": 147,
      "outputs": []
    },
    {
      "cell_type": "code",
      "source": [
        "model = Model([input_sequence, question_sequence], answer)\n",
        "model.compile(optimizer='rmsprop', loss='categorical_crossentropy',\n",
        "              metrics=['accuracy'])"
      ],
      "metadata": {
        "id": "cjQcVtLFo1s2"
      },
      "execution_count": 149,
      "outputs": []
    },
    {
      "cell_type": "code",
      "source": [
        "model.summary()"
      ],
      "metadata": {
        "colab": {
          "base_uri": "https://localhost:8080/"
        },
        "id": "nVunDCx-pKY9",
        "outputId": "00647629-d20c-4d8b-9aee-983a0a4cac32"
      },
      "execution_count": 150,
      "outputs": [
        {
          "output_type": "stream",
          "name": "stdout",
          "text": [
            "Model: \"model_1\"\n",
            "__________________________________________________________________________________________________\n",
            " Layer (type)                Output Shape                 Param #   Connected to                  \n",
            "==================================================================================================\n",
            " input_5 (InputLayer)        [(None, 156)]                0         []                            \n",
            "                                                                                                  \n",
            " input_6 (InputLayer)        [(None, 6)]                  0         []                            \n",
            "                                                                                                  \n",
            " sequential_4 (Sequential)   (None, None, 64)             2432      ['input_5[0][0]']             \n",
            "                                                                                                  \n",
            " sequential_8 (Sequential)   (None, 6, 64)                2432      ['input_6[0][0]']             \n",
            "                                                                                                  \n",
            " dot (Dot)                   (None, 156, 6)               0         ['sequential_4[0][0]',        \n",
            "                                                                     'sequential_8[0][0]']        \n",
            "                                                                                                  \n",
            " activation (Activation)     (None, 156, 6)               0         ['dot[0][0]']                 \n",
            "                                                                                                  \n",
            " sequential_6 (Sequential)   (None, None, 6)              228       ['input_5[0][0]']             \n",
            "                                                                                                  \n",
            " add (Add)                   (None, 156, 6)               0         ['activation[0][0]',          \n",
            "                                                                     'sequential_6[0][0]']        \n",
            "                                                                                                  \n",
            " permute (Permute)           (None, 6, 156)               0         ['add[0][0]']                 \n",
            "                                                                                                  \n",
            " concatenate_1 (Concatenate  (None, 6, 220)               0         ['permute[0][0]',             \n",
            " )                                                                   'sequential_8[0][0]']        \n",
            "                                                                                                  \n",
            " lstm_4 (LSTM)               (None, 32)                   32384     ['concatenate_1[0][0]']       \n",
            "                                                                                                  \n",
            " dropout_7 (Dropout)         (None, 32)                   0         ['lstm_4[0][0]']              \n",
            "                                                                                                  \n",
            " dense_2 (Dense)             (None, 38)                   1254      ['dropout_7[0][0]']           \n",
            "                                                                                                  \n",
            " activation_1 (Activation)   (None, 38)                   0         ['dense_2[0][0]']             \n",
            "                                                                                                  \n",
            "==================================================================================================\n",
            "Total params: 38730 (151.29 KB)\n",
            "Trainable params: 38730 (151.29 KB)\n",
            "Non-trainable params: 0 (0.00 Byte)\n",
            "__________________________________________________________________________________________________\n"
          ]
        }
      ]
    },
    {
      "cell_type": "code",
      "source": [
        "# train\n",
        "history = model.fit([inputs_train, queries_train], answers_train,batch_size=32,epochs=100,validation_data=([inputs_test, queries_test], answers_test))"
      ],
      "metadata": {
        "colab": {
          "base_uri": "https://localhost:8080/"
        },
        "id": "NNbqw6MOpkHK",
        "outputId": "f4590a51-a9a8-4941-df1f-e33e02be9081"
      },
      "execution_count": 151,
      "outputs": [
        {
          "output_type": "stream",
          "name": "stdout",
          "text": [
            "Epoch 1/100\n",
            "313/313 [==============================] - 8s 10ms/step - loss: 0.9171 - accuracy: 0.5059 - val_loss: 0.6953 - val_accuracy: 0.5030\n",
            "Epoch 2/100\n",
            "313/313 [==============================] - 2s 6ms/step - loss: 0.7101 - accuracy: 0.4858 - val_loss: 0.6939 - val_accuracy: 0.4970\n",
            "Epoch 3/100\n",
            "313/313 [==============================] - 2s 6ms/step - loss: 0.6976 - accuracy: 0.5018 - val_loss: 0.6949 - val_accuracy: 0.4970\n",
            "Epoch 4/100\n",
            "313/313 [==============================] - 3s 8ms/step - loss: 0.6961 - accuracy: 0.4988 - val_loss: 0.6951 - val_accuracy: 0.5030\n",
            "Epoch 5/100\n",
            "313/313 [==============================] - 2s 7ms/step - loss: 0.6967 - accuracy: 0.4939 - val_loss: 0.6932 - val_accuracy: 0.4970\n",
            "Epoch 6/100\n",
            "313/313 [==============================] - 2s 6ms/step - loss: 0.6956 - accuracy: 0.4947 - val_loss: 0.6935 - val_accuracy: 0.4970\n",
            "Epoch 7/100\n",
            "313/313 [==============================] - 2s 6ms/step - loss: 0.6952 - accuracy: 0.4988 - val_loss: 0.6932 - val_accuracy: 0.4970\n",
            "Epoch 8/100\n",
            "313/313 [==============================] - 2s 6ms/step - loss: 0.6954 - accuracy: 0.4964 - val_loss: 0.6935 - val_accuracy: 0.5030\n",
            "Epoch 9/100\n",
            "313/313 [==============================] - 2s 6ms/step - loss: 0.6947 - accuracy: 0.5094 - val_loss: 0.6935 - val_accuracy: 0.4970\n",
            "Epoch 10/100\n",
            "313/313 [==============================] - 2s 7ms/step - loss: 0.6958 - accuracy: 0.4948 - val_loss: 0.6932 - val_accuracy: 0.5030\n",
            "Epoch 11/100\n",
            "313/313 [==============================] - 2s 7ms/step - loss: 0.6948 - accuracy: 0.5044 - val_loss: 0.6933 - val_accuracy: 0.4970\n",
            "Epoch 12/100\n",
            "313/313 [==============================] - 2s 6ms/step - loss: 0.6956 - accuracy: 0.4944 - val_loss: 0.6954 - val_accuracy: 0.4970\n",
            "Epoch 13/100\n",
            "313/313 [==============================] - 2s 6ms/step - loss: 0.6946 - accuracy: 0.5091 - val_loss: 0.6940 - val_accuracy: 0.4970\n",
            "Epoch 14/100\n",
            "313/313 [==============================] - 2s 7ms/step - loss: 0.6951 - accuracy: 0.4959 - val_loss: 0.6966 - val_accuracy: 0.5030\n",
            "Epoch 15/100\n",
            "313/313 [==============================] - 2s 6ms/step - loss: 0.6953 - accuracy: 0.4974 - val_loss: 0.6936 - val_accuracy: 0.4970\n",
            "Epoch 16/100\n",
            "313/313 [==============================] - 4s 13ms/step - loss: 0.6955 - accuracy: 0.4943 - val_loss: 0.6948 - val_accuracy: 0.4970\n",
            "Epoch 17/100\n",
            "313/313 [==============================] - 3s 11ms/step - loss: 0.6949 - accuracy: 0.5011 - val_loss: 0.6937 - val_accuracy: 0.4970\n",
            "Epoch 18/100\n",
            "313/313 [==============================] - 3s 10ms/step - loss: 0.6950 - accuracy: 0.4940 - val_loss: 0.6932 - val_accuracy: 0.5030\n",
            "Epoch 19/100\n",
            "313/313 [==============================] - 2s 7ms/step - loss: 0.6952 - accuracy: 0.4999 - val_loss: 0.6932 - val_accuracy: 0.5030\n",
            "Epoch 20/100\n",
            "313/313 [==============================] - 2s 7ms/step - loss: 0.6951 - accuracy: 0.4981 - val_loss: 0.6932 - val_accuracy: 0.5030\n",
            "Epoch 21/100\n",
            "313/313 [==============================] - 3s 8ms/step - loss: 0.6946 - accuracy: 0.5063 - val_loss: 0.6940 - val_accuracy: 0.5030\n",
            "Epoch 22/100\n",
            "313/313 [==============================] - 2s 6ms/step - loss: 0.6948 - accuracy: 0.5106 - val_loss: 0.6938 - val_accuracy: 0.5030\n",
            "Epoch 23/100\n",
            "313/313 [==============================] - 2s 6ms/step - loss: 0.6954 - accuracy: 0.5011 - val_loss: 0.6931 - val_accuracy: 0.5030\n",
            "Epoch 24/100\n",
            "313/313 [==============================] - 2s 6ms/step - loss: 0.6948 - accuracy: 0.5008 - val_loss: 0.6942 - val_accuracy: 0.5030\n",
            "Epoch 25/100\n",
            "313/313 [==============================] - 2s 6ms/step - loss: 0.6949 - accuracy: 0.5011 - val_loss: 0.6944 - val_accuracy: 0.4970\n",
            "Epoch 26/100\n",
            "313/313 [==============================] - 2s 7ms/step - loss: 0.6957 - accuracy: 0.4919 - val_loss: 0.6936 - val_accuracy: 0.4970\n",
            "Epoch 27/100\n",
            "313/313 [==============================] - 3s 9ms/step - loss: 0.6952 - accuracy: 0.4917 - val_loss: 0.6944 - val_accuracy: 0.5030\n",
            "Epoch 28/100\n",
            "313/313 [==============================] - 2s 6ms/step - loss: 0.6950 - accuracy: 0.4929 - val_loss: 0.6932 - val_accuracy: 0.4970\n",
            "Epoch 29/100\n",
            "313/313 [==============================] - 2s 7ms/step - loss: 0.6953 - accuracy: 0.5001 - val_loss: 0.6942 - val_accuracy: 0.4970\n",
            "Epoch 30/100\n",
            "313/313 [==============================] - 2s 6ms/step - loss: 0.6951 - accuracy: 0.5017 - val_loss: 0.6936 - val_accuracy: 0.5030\n",
            "Epoch 31/100\n",
            "313/313 [==============================] - 3s 8ms/step - loss: 0.6946 - accuracy: 0.5023 - val_loss: 0.6949 - val_accuracy: 0.4970\n",
            "Epoch 32/100\n",
            "313/313 [==============================] - 4s 12ms/step - loss: 0.6948 - accuracy: 0.5006 - val_loss: 0.6936 - val_accuracy: 0.4970\n",
            "Epoch 33/100\n",
            "313/313 [==============================] - 3s 10ms/step - loss: 0.6945 - accuracy: 0.5058 - val_loss: 0.6945 - val_accuracy: 0.5030\n",
            "Epoch 34/100\n",
            "313/313 [==============================] - 2s 6ms/step - loss: 0.6951 - accuracy: 0.4949 - val_loss: 0.6957 - val_accuracy: 0.5030\n",
            "Epoch 35/100\n",
            "313/313 [==============================] - 2s 6ms/step - loss: 0.6956 - accuracy: 0.4898 - val_loss: 0.6952 - val_accuracy: 0.4970\n",
            "Epoch 36/100\n",
            "313/313 [==============================] - 2s 8ms/step - loss: 0.6947 - accuracy: 0.4991 - val_loss: 0.6962 - val_accuracy: 0.5030\n",
            "Epoch 37/100\n",
            "313/313 [==============================] - 5s 15ms/step - loss: 0.6948 - accuracy: 0.5008 - val_loss: 0.6961 - val_accuracy: 0.4970\n",
            "Epoch 38/100\n",
            "313/313 [==============================] - 2s 7ms/step - loss: 0.6946 - accuracy: 0.5044 - val_loss: 0.6931 - val_accuracy: 0.5030\n",
            "Epoch 39/100\n",
            "313/313 [==============================] - 2s 6ms/step - loss: 0.6951 - accuracy: 0.4957 - val_loss: 0.6952 - val_accuracy: 0.5030\n",
            "Epoch 40/100\n",
            "313/313 [==============================] - 2s 6ms/step - loss: 0.6949 - accuracy: 0.4914 - val_loss: 0.6931 - val_accuracy: 0.5030\n",
            "Epoch 41/100\n",
            "313/313 [==============================] - 2s 6ms/step - loss: 0.6952 - accuracy: 0.4966 - val_loss: 0.6971 - val_accuracy: 0.4970\n",
            "Epoch 42/100\n",
            "313/313 [==============================] - 2s 6ms/step - loss: 0.6941 - accuracy: 0.5079 - val_loss: 0.6937 - val_accuracy: 0.5030\n",
            "Epoch 43/100\n",
            "313/313 [==============================] - 3s 9ms/step - loss: 0.6948 - accuracy: 0.5009 - val_loss: 0.6962 - val_accuracy: 0.4970\n",
            "Epoch 44/100\n",
            "313/313 [==============================] - 2s 6ms/step - loss: 0.6944 - accuracy: 0.5018 - val_loss: 0.6937 - val_accuracy: 0.4970\n",
            "Epoch 45/100\n",
            "313/313 [==============================] - 2s 6ms/step - loss: 0.6945 - accuracy: 0.5002 - val_loss: 0.6935 - val_accuracy: 0.4970\n",
            "Epoch 46/100\n",
            "313/313 [==============================] - 2s 6ms/step - loss: 0.6946 - accuracy: 0.5022 - val_loss: 0.6937 - val_accuracy: 0.5030\n",
            "Epoch 47/100\n",
            "313/313 [==============================] - 2s 6ms/step - loss: 0.6950 - accuracy: 0.4946 - val_loss: 0.6935 - val_accuracy: 0.4970\n",
            "Epoch 48/100\n",
            "313/313 [==============================] - 2s 6ms/step - loss: 0.6947 - accuracy: 0.4957 - val_loss: 0.6932 - val_accuracy: 0.5030\n",
            "Epoch 49/100\n",
            "313/313 [==============================] - 3s 8ms/step - loss: 0.6953 - accuracy: 0.4925 - val_loss: 0.6943 - val_accuracy: 0.4970\n",
            "Epoch 50/100\n",
            "313/313 [==============================] - 2s 7ms/step - loss: 0.6951 - accuracy: 0.4939 - val_loss: 0.6940 - val_accuracy: 0.5030\n",
            "Epoch 51/100\n",
            "313/313 [==============================] - 2s 6ms/step - loss: 0.6942 - accuracy: 0.5048 - val_loss: 0.6939 - val_accuracy: 0.4970\n",
            "Epoch 52/100\n",
            "313/313 [==============================] - 2s 6ms/step - loss: 0.6948 - accuracy: 0.4982 - val_loss: 0.6934 - val_accuracy: 0.4970\n",
            "Epoch 53/100\n",
            "313/313 [==============================] - 2s 6ms/step - loss: 0.6946 - accuracy: 0.5056 - val_loss: 0.6932 - val_accuracy: 0.5030\n",
            "Epoch 54/100\n",
            "313/313 [==============================] - 2s 6ms/step - loss: 0.6947 - accuracy: 0.5070 - val_loss: 0.6932 - val_accuracy: 0.4970\n",
            "Epoch 55/100\n",
            "313/313 [==============================] - 3s 9ms/step - loss: 0.6951 - accuracy: 0.4972 - val_loss: 0.6934 - val_accuracy: 0.5030\n",
            "Epoch 56/100\n",
            "313/313 [==============================] - 2s 7ms/step - loss: 0.6943 - accuracy: 0.5012 - val_loss: 0.6938 - val_accuracy: 0.4970\n",
            "Epoch 57/100\n",
            "313/313 [==============================] - 2s 6ms/step - loss: 0.6951 - accuracy: 0.4975 - val_loss: 0.6935 - val_accuracy: 0.4970\n",
            "Epoch 58/100\n",
            "313/313 [==============================] - 2s 6ms/step - loss: 0.6955 - accuracy: 0.4954 - val_loss: 0.6933 - val_accuracy: 0.4860\n",
            "Epoch 59/100\n",
            "313/313 [==============================] - 2s 6ms/step - loss: 0.6947 - accuracy: 0.4985 - val_loss: 0.6943 - val_accuracy: 0.4970\n",
            "Epoch 60/100\n",
            "313/313 [==============================] - 2s 6ms/step - loss: 0.6944 - accuracy: 0.5065 - val_loss: 0.6938 - val_accuracy: 0.4960\n",
            "Epoch 61/100\n",
            "313/313 [==============================] - 3s 8ms/step - loss: 0.6948 - accuracy: 0.5058 - val_loss: 0.6952 - val_accuracy: 0.4970\n",
            "Epoch 62/100\n",
            "313/313 [==============================] - 2s 7ms/step - loss: 0.6944 - accuracy: 0.5054 - val_loss: 0.6950 - val_accuracy: 0.4930\n",
            "Epoch 63/100\n",
            "313/313 [==============================] - 3s 10ms/step - loss: 0.6939 - accuracy: 0.5136 - val_loss: 0.6937 - val_accuracy: 0.4950\n",
            "Epoch 64/100\n",
            "313/313 [==============================] - 4s 12ms/step - loss: 0.6945 - accuracy: 0.5027 - val_loss: 0.6939 - val_accuracy: 0.5010\n",
            "Epoch 65/100\n",
            "313/313 [==============================] - 2s 7ms/step - loss: 0.6938 - accuracy: 0.5182 - val_loss: 0.6959 - val_accuracy: 0.5000\n",
            "Epoch 66/100\n",
            "313/313 [==============================] - 4s 13ms/step - loss: 0.6938 - accuracy: 0.5136 - val_loss: 0.6950 - val_accuracy: 0.4940\n",
            "Epoch 67/100\n",
            "313/313 [==============================] - 2s 7ms/step - loss: 0.6938 - accuracy: 0.5106 - val_loss: 0.6979 - val_accuracy: 0.4930\n",
            "Epoch 68/100\n",
            "313/313 [==============================] - 2s 6ms/step - loss: 0.6922 - accuracy: 0.5165 - val_loss: 0.6966 - val_accuracy: 0.4760\n",
            "Epoch 69/100\n",
            "313/313 [==============================] - 2s 6ms/step - loss: 0.6933 - accuracy: 0.5184 - val_loss: 0.6950 - val_accuracy: 0.4840\n",
            "Epoch 70/100\n",
            "313/313 [==============================] - 2s 6ms/step - loss: 0.6930 - accuracy: 0.5177 - val_loss: 0.6954 - val_accuracy: 0.5050\n",
            "Epoch 71/100\n",
            "313/313 [==============================] - 3s 8ms/step - loss: 0.6929 - accuracy: 0.5268 - val_loss: 0.6956 - val_accuracy: 0.4840\n",
            "Epoch 72/100\n",
            "313/313 [==============================] - 2s 7ms/step - loss: 0.6918 - accuracy: 0.5214 - val_loss: 0.6965 - val_accuracy: 0.5110\n",
            "Epoch 73/100\n",
            "313/313 [==============================] - 2s 6ms/step - loss: 0.6908 - accuracy: 0.5246 - val_loss: 0.6925 - val_accuracy: 0.5130\n",
            "Epoch 74/100\n",
            "313/313 [==============================] - 2s 6ms/step - loss: 0.6895 - accuracy: 0.5309 - val_loss: 0.6890 - val_accuracy: 0.5070\n",
            "Epoch 75/100\n",
            "313/313 [==============================] - 2s 6ms/step - loss: 0.6845 - accuracy: 0.5367 - val_loss: 0.6843 - val_accuracy: 0.4970\n",
            "Epoch 76/100\n",
            "313/313 [==============================] - 2s 6ms/step - loss: 0.6807 - accuracy: 0.5591 - val_loss: 0.6741 - val_accuracy: 0.5630\n",
            "Epoch 77/100\n",
            "313/313 [==============================] - 3s 8ms/step - loss: 0.6764 - accuracy: 0.5683 - val_loss: 0.6699 - val_accuracy: 0.5700\n",
            "Epoch 78/100\n",
            "313/313 [==============================] - 2s 8ms/step - loss: 0.6731 - accuracy: 0.5818 - val_loss: 0.6611 - val_accuracy: 0.5970\n",
            "Epoch 79/100\n",
            "313/313 [==============================] - 2s 8ms/step - loss: 0.6673 - accuracy: 0.6003 - val_loss: 0.6593 - val_accuracy: 0.6100\n",
            "Epoch 80/100\n",
            "313/313 [==============================] - 3s 10ms/step - loss: 0.6566 - accuracy: 0.6171 - val_loss: 0.6382 - val_accuracy: 0.6470\n",
            "Epoch 81/100\n",
            "313/313 [==============================] - 3s 9ms/step - loss: 0.6492 - accuracy: 0.6296 - val_loss: 0.6300 - val_accuracy: 0.6510\n",
            "Epoch 82/100\n",
            "313/313 [==============================] - 3s 11ms/step - loss: 0.6366 - accuracy: 0.6451 - val_loss: 0.6186 - val_accuracy: 0.6760\n",
            "Epoch 83/100\n",
            "313/313 [==============================] - 4s 12ms/step - loss: 0.6354 - accuracy: 0.6515 - val_loss: 0.6183 - val_accuracy: 0.6740\n",
            "Epoch 84/100\n",
            "313/313 [==============================] - 3s 10ms/step - loss: 0.6280 - accuracy: 0.6606 - val_loss: 0.6082 - val_accuracy: 0.6830\n",
            "Epoch 85/100\n",
            "313/313 [==============================] - 2s 8ms/step - loss: 0.6209 - accuracy: 0.6670 - val_loss: 0.5952 - val_accuracy: 0.6820\n",
            "Epoch 86/100\n",
            "313/313 [==============================] - 2s 8ms/step - loss: 0.6088 - accuracy: 0.6822 - val_loss: 0.5871 - val_accuracy: 0.6930\n",
            "Epoch 87/100\n",
            "313/313 [==============================] - 3s 8ms/step - loss: 0.6031 - accuracy: 0.6876 - val_loss: 0.5754 - val_accuracy: 0.7150\n",
            "Epoch 88/100\n",
            "313/313 [==============================] - 2s 6ms/step - loss: 0.5916 - accuracy: 0.6941 - val_loss: 0.5584 - val_accuracy: 0.7280\n",
            "Epoch 89/100\n",
            "313/313 [==============================] - 3s 8ms/step - loss: 0.5809 - accuracy: 0.7091 - val_loss: 0.5581 - val_accuracy: 0.7260\n",
            "Epoch 90/100\n",
            "313/313 [==============================] - 4s 12ms/step - loss: 0.5563 - accuracy: 0.7254 - val_loss: 0.5206 - val_accuracy: 0.7370\n",
            "Epoch 91/100\n",
            "313/313 [==============================] - 5s 16ms/step - loss: 0.5468 - accuracy: 0.7384 - val_loss: 0.5050 - val_accuracy: 0.7850\n",
            "Epoch 92/100\n",
            "313/313 [==============================] - 3s 10ms/step - loss: 0.5302 - accuracy: 0.7486 - val_loss: 0.4737 - val_accuracy: 0.7820\n",
            "Epoch 93/100\n",
            "313/313 [==============================] - 3s 9ms/step - loss: 0.5118 - accuracy: 0.7633 - val_loss: 0.4673 - val_accuracy: 0.8020\n",
            "Epoch 94/100\n",
            "313/313 [==============================] - 2s 6ms/step - loss: 0.4957 - accuracy: 0.7739 - val_loss: 0.4456 - val_accuracy: 0.8090\n",
            "Epoch 95/100\n",
            "313/313 [==============================] - 2s 7ms/step - loss: 0.4777 - accuracy: 0.7896 - val_loss: 0.4520 - val_accuracy: 0.8000\n",
            "Epoch 96/100\n",
            "313/313 [==============================] - 3s 8ms/step - loss: 0.4600 - accuracy: 0.7984 - val_loss: 0.4489 - val_accuracy: 0.8020\n",
            "Epoch 97/100\n",
            "313/313 [==============================] - 2s 6ms/step - loss: 0.4518 - accuracy: 0.8058 - val_loss: 0.4291 - val_accuracy: 0.8040\n",
            "Epoch 98/100\n",
            "313/313 [==============================] - 2s 6ms/step - loss: 0.4348 - accuracy: 0.8085 - val_loss: 0.4136 - val_accuracy: 0.8190\n",
            "Epoch 99/100\n",
            "313/313 [==============================] - 2s 8ms/step - loss: 0.4313 - accuracy: 0.8145 - val_loss: 0.4231 - val_accuracy: 0.8080\n",
            "Epoch 100/100\n",
            "313/313 [==============================] - 6s 19ms/step - loss: 0.4224 - accuracy: 0.8208 - val_loss: 0.4183 - val_accuracy: 0.8120\n"
          ]
        }
      ]
    },
    {
      "cell_type": "code",
      "source": [
        "filename = 'chatbot.h5'\n",
        "model.save(filename)"
      ],
      "metadata": {
        "colab": {
          "base_uri": "https://localhost:8080/"
        },
        "id": "aZQvmx-Xp_5i",
        "outputId": "ba3b674a-495e-4b66-d2c7-e5eeeb972a85"
      },
      "execution_count": 152,
      "outputs": [
        {
          "output_type": "stream",
          "name": "stderr",
          "text": [
            "/usr/local/lib/python3.10/dist-packages/keras/src/engine/training.py:3103: UserWarning: You are saving your model as an HDF5 file via `model.save()`. This file format is considered legacy. We recommend using instead the native Keras format, e.g. `model.save('my_model.keras')`.\n",
            "  saving_api.save_model(\n"
          ]
        }
      ]
    },
    {
      "cell_type": "code",
      "source": [
        "model.load_weights(filename)\n",
        "pred_results = model.predict(([inputs_test, queries_test]))"
      ],
      "metadata": {
        "colab": {
          "base_uri": "https://localhost:8080/"
        },
        "id": "0McX4E5_qI3I",
        "outputId": "8fa50d4b-7c59-452b-f434-7057e78c7c88"
      },
      "execution_count": 153,
      "outputs": [
        {
          "output_type": "stream",
          "name": "stdout",
          "text": [
            "32/32 [==============================] - 0s 2ms/step\n"
          ]
        }
      ]
    },
    {
      "cell_type": "code",
      "source": [
        "story =' '.join(word for word in test_data[1][0])\n",
        "print(story)"
      ],
      "metadata": {
        "colab": {
          "base_uri": "https://localhost:8080/"
        },
        "id": "hM4r81HTqapG",
        "outputId": "38b7114b-9b5e-45d5-c83f-3b90347f355e"
      },
      "execution_count": 156,
      "outputs": [
        {
          "output_type": "stream",
          "name": "stdout",
          "text": [
            "Mary got the milk there . John moved to the bedroom . Mary discarded the milk . John went to the garden .\n"
          ]
        }
      ]
    },
    {
      "cell_type": "code",
      "source": [
        "query = ' '.join(word for word in test_data[1][1])\n",
        "print(query)"
      ],
      "metadata": {
        "colab": {
          "base_uri": "https://localhost:8080/"
        },
        "id": "2--gvqFZqkiB",
        "outputId": "86f76b80-c5f0-4c92-93b8-791f7c35faad"
      },
      "execution_count": 157,
      "outputs": [
        {
          "output_type": "stream",
          "name": "stdout",
          "text": [
            "Is John in the kitchen ?\n"
          ]
        }
      ]
    },
    {
      "cell_type": "code",
      "source": [
        "print(\"Answer is:\",test_data[1][2])"
      ],
      "metadata": {
        "colab": {
          "base_uri": "https://localhost:8080/"
        },
        "id": "mRo3iI-dqkrS",
        "outputId": "071b63be-a063-43b0-d52e-476837716817"
      },
      "execution_count": 158,
      "outputs": [
        {
          "output_type": "stream",
          "name": "stdout",
          "text": [
            "Answer is: no\n"
          ]
        }
      ]
    },
    {
      "cell_type": "code",
      "source": [
        "#Generate prediction from model\n",
        "val_max = np.argmax(pred_results[0])\n",
        "\n",
        "for key, val in tokenizer.word_index.items():\n",
        "    if val == val_max:\n",
        "        k = key\n",
        "\n",
        "print(\"Predicted answer is: \", k)\n",
        "print(\"Probability of certainty was: \", pred_results[0][val_max])"
      ],
      "metadata": {
        "colab": {
          "base_uri": "https://localhost:8080/"
        },
        "id": "51u6iVm6qyUk",
        "outputId": "cbb4ac77-deba-4709-b623-2111b12f1180"
      },
      "execution_count": 159,
      "outputs": [
        {
          "output_type": "stream",
          "name": "stdout",
          "text": [
            "Predicted answer is:  no\n",
            "Probability of certainty was:  0.9860724\n"
          ]
        }
      ]
    },
    {
      "cell_type": "code",
      "source": [
        "# Note the whitespace of the periods\n",
        "my_story = \"John left the kitchen . Sandra dropped the football in the garden .\"\n",
        "my_story.split()"
      ],
      "metadata": {
        "colab": {
          "base_uri": "https://localhost:8080/"
        },
        "id": "BVn69ZgjrY0_",
        "outputId": "8cfbcd32-07ea-43ca-b450-f60b2b0ebb52"
      },
      "execution_count": 160,
      "outputs": [
        {
          "output_type": "execute_result",
          "data": {
            "text/plain": [
              "['John',\n",
              " 'left',\n",
              " 'the',\n",
              " 'kitchen',\n",
              " '.',\n",
              " 'Sandra',\n",
              " 'dropped',\n",
              " 'the',\n",
              " 'football',\n",
              " 'in',\n",
              " 'the',\n",
              " 'garden',\n",
              " '.']"
            ]
          },
          "metadata": {},
          "execution_count": 160
        }
      ]
    },
    {
      "cell_type": "code",
      "source": [
        "my_question = \"Is the football in the garden ?\"\n",
        "my_question.split()"
      ],
      "metadata": {
        "colab": {
          "base_uri": "https://localhost:8080/"
        },
        "id": "gBjhHpf-rcHg",
        "outputId": "b9ee564b-a4d6-417f-b771-d935ae8717aa"
      },
      "execution_count": 162,
      "outputs": [
        {
          "output_type": "execute_result",
          "data": {
            "text/plain": [
              "['Is', 'the', 'football', 'in', 'the', 'garden', '?']"
            ]
          },
          "metadata": {},
          "execution_count": 162
        }
      ]
    },
    {
      "cell_type": "code",
      "source": [
        "mydata = [(my_story.split(),my_question.split(),'yes')]"
      ],
      "metadata": {
        "id": "FcBPAmUKrnDy"
      },
      "execution_count": 163,
      "outputs": []
    },
    {
      "cell_type": "code",
      "source": [
        "my_story,my_ques,my_ans = vectorize_stories(mydata)"
      ],
      "metadata": {
        "id": "JeCYgPH2rtLu"
      },
      "execution_count": 164,
      "outputs": []
    },
    {
      "cell_type": "code",
      "source": [
        "pred_results = model.predict(([ my_story, my_ques]))\n",
        "pred_results"
      ],
      "metadata": {
        "colab": {
          "base_uri": "https://localhost:8080/"
        },
        "id": "4QFrrFWbrzW-",
        "outputId": "ff5effda-6cf8-456b-be28-0c1cdecc9bf6"
      },
      "execution_count": 166,
      "outputs": [
        {
          "output_type": "stream",
          "name": "stdout",
          "text": [
            "1/1 [==============================] - 0s 49ms/step\n"
          ]
        },
        {
          "output_type": "execute_result",
          "data": {
            "text/plain": [
              "array([[3.0167868e-08, 3.2038216e-08, 2.6341205e-08, 2.5152840e-08,\n",
              "        3.0435984e-08, 3.5684948e-08, 2.9524221e-08, 2.4299165e-08,\n",
              "        3.3395718e-08, 2.4177348e-08, 2.7120091e-08, 2.4886557e-08,\n",
              "        9.2139941e-01, 2.9354421e-08, 3.1034265e-08, 2.7397046e-08,\n",
              "        3.3228297e-08, 2.8366317e-08, 2.8547330e-08, 2.2071832e-08,\n",
              "        3.1515892e-08, 2.8837432e-08, 2.6241411e-08, 2.7352248e-08,\n",
              "        2.2664567e-08, 3.1332306e-08, 2.6604470e-08, 3.1240170e-08,\n",
              "        2.8283443e-08, 7.8599535e-02, 2.6137410e-08, 3.4757790e-08,\n",
              "        4.1513395e-08, 3.2912972e-08, 3.0688390e-08, 2.8270231e-08,\n",
              "        3.5254814e-08, 2.9769804e-08]], dtype=float32)"
            ]
          },
          "metadata": {},
          "execution_count": 166
        }
      ]
    },
    {
      "cell_type": "code",
      "source": [
        "#Generate prediction from model\n",
        "val_max = np.argmax(pred_results[0])\n",
        "\n",
        "for key, val in tokenizer.word_index.items():\n",
        "    if val == val_max:\n",
        "        k = key\n",
        "\n",
        "print(\"Predicted answer is: \", k)\n",
        "print(\"Probability of certainty was: \", pred_results[0][val_max])"
      ],
      "metadata": {
        "colab": {
          "base_uri": "https://localhost:8080/"
        },
        "id": "TEJU9H5pr95H",
        "outputId": "c3b6926d-e73f-404f-e211-f3c0ac4d9164"
      },
      "execution_count": 167,
      "outputs": [
        {
          "output_type": "stream",
          "name": "stdout",
          "text": [
            "Predicted answer is:  yes\n",
            "Probability of certainty was:  0.9213994\n"
          ]
        }
      ]
    }
  ],
  "metadata": {
    "accelerator": "GPU",
    "colab": {
      "provenance": []
    },
    "kernelspec": {
      "display_name": "Python 3",
      "name": "python3"
    },
    "language_info": {
      "name": "python"
    }
  },
  "nbformat": 4,
  "nbformat_minor": 0
}